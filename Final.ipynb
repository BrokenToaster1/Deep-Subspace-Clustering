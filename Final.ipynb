{
 "cells": [
  {
   "cell_type": "code",
   "execution_count": 1,
   "metadata": {
    "scrolled": true
   },
   "outputs": [],
   "source": [
    "import importlib\n",
    "import full_model\n",
    "import numpy as np"
   ]
  },
  {
   "cell_type": "code",
   "execution_count": 2,
   "metadata": {},
   "outputs": [
    {
     "name": "stdout",
     "output_type": "stream",
     "text": [
      "\n",
      "Starting MATLAB engine...\n",
      "-------------------------\n",
      "Elapsed: 11.46 sec\n"
     ]
    }
   ],
   "source": [
    "full_model.eng = full_model.start_matlab()\n",
    "show_plot = False"
   ]
  },
  {
   "cell_type": "markdown",
   "metadata": {},
   "source": [
    "## Try various Hyperparameter tuning methods\n",
    "* [Scikit-Optimize](https://scikit-optimize.github.io/notebooks/hyperparameter-optimization.html)"
   ]
  },
  {
   "cell_type": "code",
   "execution_count": 3,
   "metadata": {},
   "outputs": [],
   "source": [
    "from skopt.utils import use_named_args\n",
    "\n",
    "from skopt.space import Real, Integer\n",
    "space  = [Real(0.1, 1, \"log-uniform\", name='lr_pretrain'),\n",
    "          Real(0.1, 1, \"log-uniform\", name='lr'),\n",
    "          Real(0.1, 1, \"log-uniform\", name='alpha1'),\n",
    "          Integer(0, 1, name='maxIter1'),\n",
    "          Real(0.1, 1, \"log-uniform\", name='alpha2'),\n",
    "          Integer(0, 1, name='maxIter2')]\n",
    "\n",
    "@use_named_args(space)\n",
    "def objective(**params):\n",
    "    global ep_prtr_, ep_, seed_, verb_\n",
    "    try:\n",
    "        return 1-full_model.run_model(images_norm, labels, seed_, ep_prtr_, ep_, **params, verbose=verb_)[0]\n",
    "    except Exception as ex:\n",
    "        if(type(ex) == KeyError):\n",
    "            raise ex\n",
    "        print(\"Caught a \" + type(ex).__name__ + \". Returning 1.0\")\n",
    "        return 1"
   ]
  },
  {
   "cell_type": "code",
   "execution_count": 4,
   "metadata": {},
   "outputs": [],
   "source": [
    "from skopt.plots import plot_convergence\n",
    "import matplotlib.pyplot as plt\n",
    "\n",
    "def opt_stats(res, start_time=None):\n",
    "    print(\"------------------\")\n",
    "    for i in range(10, len(res.func_vals)+1, 10):\n",
    "        print(\"{0:d}: {1:.4f}\".format(i, min(res.func_vals[0:i])))\n",
    "    print(\"Best score: {0:.4f}\".format(res.fun))\n",
    "    print(\"Best parameters: {0:}\".format(res.x))\n",
    "    if(start_time is not None):\n",
    "        print(\"Total time elapsed: {0:.2f} sec\\n\".format(time.time()-start_time))\n",
    "\n",
    "def opt_plot(res):\n",
    "    global show_plot\n",
    "    plot = plot_convergence(res, yscale=\"log\")\n",
    "    if(show_plot):\n",
    "        plt.show(plot)\n",
    "    return plot"
   ]
  },
  {
   "cell_type": "code",
   "execution_count": 5,
   "metadata": {},
   "outputs": [],
   "source": [
    "from skopt import gp_minimize, dummy_minimize, forest_minimize, gbrt_minimize\n",
    "import time\n",
    "\n",
    "def optimize(function, iterations, epochs_pretrain, epochs, random_seed, verb_model=False, verb=True):\n",
    "    start_time = time.time()\n",
    "    \n",
    "    # global b/c I couldn't find a better way to directly pass these to the objective function\n",
    "    global ep_prtr_, ep_, seed_, verb_\n",
    "    ep_prtr_ = epochs_pretrain\n",
    "    ep_ = epochs\n",
    "    seed_ = random_seed\n",
    "    verb_ = verb_model\n",
    "    \n",
    "    # kwargs b/c dummy_minimize can not take n_jobs\n",
    "    params = {\"n_calls\":iterations, \"random_state\":random_seed, \"verbose\":verb}\n",
    "    if(function != dummy_minimize):\n",
    "        params[\"n_jobs\"] = -1\n",
    "    result = function(objective, space, **params)\n",
    "    if(verb):\n",
    "        opt_plot(result)\n",
    "        print()\n",
    "    opt_stats(result, start_time)\n",
    "    return result"
   ]
  },
  {
   "cell_type": "code",
   "execution_count": 6,
   "metadata": {},
   "outputs": [],
   "source": [
    "from copy import deepcopy\n",
    "from skopt.learning import GaussianProcessRegressor\n",
    "from skopt.optimizer import base_minimize\n",
    "from sklearn.utils import check_random_state\n",
    "import warnings\n",
    "\n",
    "def func_new(params):\n",
    "    global func_, xs_, ys_\n",
    "    if(len(xs_) > 0):\n",
    "        y = ys_.pop(0)\n",
    "        if(params != xs_.pop(0)):\n",
    "            warnings.warn(\"Deviated from expected value, re-evaluating\", RuntimeWarning)\n",
    "        else:\n",
    "            return y\n",
    "    return func_(params)\n",
    "\n",
    "def reload(result, addtl_iters, epochs_pretrain, epochs, random_seed, verb_model=False, verb=True):\n",
    "    start_time = time.time()\n",
    "    \n",
    "    # since objective relies on global variables, set them again\n",
    "    global ep_prtr_, ep_, seed_, verb_\n",
    "    ep_prtr_ = epochs_pretrain\n",
    "    ep_ = epochs\n",
    "    seed_ = random_seed\n",
    "    verb_ = verb_model\n",
    "    \n",
    "    # retrieve optimization call's arguments\n",
    "    args = deepcopy(result.specs['args'])\n",
    "    args['n_calls'] += addtl_iters\n",
    "    args['verbose'] = verb\n",
    "    \n",
    "    # global b/c I couldn't find a better way to pass\n",
    "    global func_, xs_, ys_\n",
    "    func_ = args['func']\n",
    "    xs_ = list(result.x_iters)\n",
    "    ys_ = list(result.func_vals)\n",
    "    args['func'] = func_new\n",
    "    \n",
    "    # recover initial random_state\n",
    "    if(isinstance(args['random_state'], np.random.RandomState)):\n",
    "        args['random_state'] = check_random_state(random_seed)\n",
    "        # if gp_minimize\n",
    "        if(isinstance(result.specs['args']['base_estimator'], GaussianProcessRegressor)):\n",
    "            args['random_state'].randint(0, np.iinfo(np.int32).max)\n",
    "    \n",
    "    # run the optimization\n",
    "    result_new = base_minimize(**args)\n",
    "    \n",
    "    # change the function back, to reload multiple times\n",
    "    result_new.specs['args']['func'] = func_\n",
    "    \n",
    "    if(verb):\n",
    "        opt_plot(result_new)\n",
    "        print()\n",
    "    opt_stats(result_new, start_time)\n",
    "    return result_new"
   ]
  },
  {
   "cell_type": "code",
   "execution_count": null,
   "metadata": {},
   "outputs": [],
   "source": [
    "import os\n",
    "from skopt import dump\n",
    "\n",
    "scenario = 3\n",
    "dataset = \"Coil20.mat\"\n",
    "iters = 50\n",
    "ep_prtr = 1001\n",
    "ep = 251\n",
    "space  = [Real(10**-4, 10**0, \"log-uniform\", name='lr_pretrain'),\n",
    "          Real(10**-5, 10**-1, \"log-uniform\", name='lr'),\n",
    "          Real(10**-1, 10**3, \"log-uniform\", name='alpha1'),\n",
    "          Integer(10, 200, name='maxIter1'),\n",
    "          Real(10**-1, 10**3, \"log-uniform\", name='alpha2'),\n",
    "          Integer(10, 200, name='maxIter2')]\n",
    "images_norm = full_model.loadmat(\"./saved/\" + dataset)['X']\n",
    "labels = full_model.loadmat(\"./saved/\" + dataset)['Y'].reshape(-1)\n",
    "if(not os.path.isdir(\"optims/scenario\" + str(scenario))):\n",
    "    os.mkdir(\"optims/scenario\" + str(scenario))\n",
    "\n",
    "#RUN\n",
    "for seed in range(5):\n",
    "    print(\"Seed: \" + str(seed))\n",
    "    \n",
    "    print(\"GP:\")\n",
    "    gp = optimize(gp_minimize, iters, ep_prtr, ep, seed, verb=False)\n",
    "    dump(gp, \"optims/scenario\" + str(scenario) + \"/gp_\" + str(seed) + \"_\" + str(iters) + \".opt\")\n",
    "    \n",
    "    print(\"DUMMY:\")\n",
    "    dummy = optimize(dummy_minimize, iters, ep_prtr, ep, seed, verb=False)\n",
    "    dump(dummy, \"optims/scenario\" + str(scenario) + \"/dummy_\" + str(seed) + \"_\" + str(iters) + \".opt\")\n",
    "    \n",
    "    print(\"FOREST:\")\n",
    "    forest = optimize(forest_minimize, iters, ep_prtr, ep, seed, verb=False)\n",
    "    dump(forest, \"optims/scenario\" + str(scenario) + \"/forest_\" + str(seed) + \"_\" + str(iters) + \".opt\")\n",
    "    \n",
    "    print(\"GBRT:\")\n",
    "    gbrt = optimize(gbrt_minimize, iters, ep_prtr, ep, seed, verb=False)\n",
    "    dump(gbrt, \"optims/scenario\" + str(scenario) + \"/gbrt_\" + str(seed) + \"_\" + str(iters) + \".opt\")"
   ]
  },
  {
   "cell_type": "code",
   "execution_count": null,
   "metadata": {
    "scrolled": false
   },
   "outputs": [],
   "source": [
    "import os\n",
    "from skopt import dump, load\n",
    "\n",
    "scenario = 3\n",
    "dataset = \"Coil20.mat\"\n",
    "iters = 50\n",
    "addtl_iters = 50\n",
    "ep_prtr = 1001\n",
    "ep = 251\n",
    "images_norm = full_model.loadmat(\"./saved/\" + dataset)['X']\n",
    "labels = full_model.loadmat(\"./saved/\" + dataset)['Y'].reshape(-1)\n",
    "\n",
    "#RE-RUN\n",
    "for seed in range(5):\n",
    "    print(\"Seed: \" + str(seed))\n",
    "    \n",
    "    print(\"GP:\")\n",
    "    gp_loaded = load(\"optims/scenario\" + str(scenario) + \"/gp_\" + str(seed) + \"_\" + str(iters) + \".opt\")\n",
    "    gp = reload(gp_loaded, addtl_iters, ep_prtr, ep, seed, verb=True)\n",
    "    #dump(gp, \"optims/scenario\" + str(scenario) + \"/gp_\" + str(seed) + \"_\" + str(iters+addtl_iters) + \".opt\")\n",
    "    \n",
    "    print(\"DUMMY:\")\n",
    "    dummy_loaded = load(\"optims/scenario\" + str(scenario) + \"/dummy_\" + str(seed) + \"_\" + str(iters) + \".opt\")\n",
    "    dummy = reload(dummy_loaded, addtl_iters, ep_prtr, ep, seed, verb=True)\n",
    "    #dump(dummy, \"optims/scenario\" + str(scenario) + \"/dummy_\" + str(seed) + \"_\" + str(iters+addtl_iters) + \".opt\")\n",
    "    \n",
    "    print(\"FOREST:\")\n",
    "    forest_loaded = load(\"optims/scenario\" + str(scenario) + \"/forest_\" + str(seed) + \"_\" + str(iters) + \".opt\")\n",
    "    forest = reload(forest_loaded, addtl_iters, ep_prtr, ep, seed, verb=True)\n",
    "    #dump(forest, \"optims/scenario\" + str(scenario) + \"/forest_\" + str(seed) + \"_\" + str(iters+addtl_iters) + \".opt\")\n",
    "    \n",
    "    print(\"GBRT:\")\n",
    "    gbrt_loaded = load(\"optims/scenario\" + str(scenario) + \"/gbrt_\" + str(seed) + \"_\" + str(iters) + \".opt\")\n",
    "    gbrt = reload(gbrt_loaded, addtl_iters, ep_prtr, ep, seed, verb=True)\n",
    "    #dump(gbrt, \"optims/scenario\" + str(scenario) + \"/gbrt_\" + str(seed) + \"_\" + str(iters+addtl_iters) + \".opt\")"
   ]
  },
  {
   "cell_type": "code",
   "execution_count": null,
   "metadata": {},
   "outputs": [],
   "source": [
    "scenario_load = 0\n",
    "seed_load = 1\n",
    "iters_load = 50"
   ]
  },
  {
   "cell_type": "code",
   "execution_count": null,
   "metadata": {},
   "outputs": [],
   "source": [
    "from skopt import load, dump\n",
    "\n",
    "scenario = 1\n",
    "dataset = \"yaleB.mat\"\n",
    "iters = 50\n",
    "addtl_iters = 50\n",
    "ep_prtr = 201\n",
    "ep = 101\n",
    "space  = [Real(10**-2, 10**0, \"log-uniform\", name='lr_pretrain'),\n",
    "          Real(10**-3, 10**-1, \"log-uniform\", name='lr'),\n",
    "          Real(10**0, 10**2, \"log-uniform\", name='alpha1'),\n",
    "          Integer(10, 32, name='maxIter1'),\n",
    "          Real(10**0, 10**2, \"log-uniform\", name='alpha2'),\n",
    "          Integer(10, 32, name='maxIter2')]\n",
    "images_norm = full_model.loadmat(\"./saved/\" + dataset)['X']\n",
    "labels = full_model.loadmat(\"./saved/\" + dataset)['Y'].reshape(-1)\n",
    "\n",
    "dummy_loaded = load(\"optims/scenario\" + str(scenario) + \"/dummy_\" + str(0) + \"_\" + str(iters) + \".opt\")"
   ]
  },
  {
   "cell_type": "code",
   "execution_count": null,
   "metadata": {},
   "outputs": [],
   "source": [
    "dummy = reload(dummy_loaded, 3, ep_prtr, ep, 0, verb=True, verb_model=True)"
   ]
  },
  {
   "cell_type": "code",
   "execution_count": null,
   "metadata": {},
   "outputs": [],
   "source": [
    "dummy_loaded.func_vals"
   ]
  },
  {
   "cell_type": "code",
   "execution_count": null,
   "metadata": {},
   "outputs": [],
   "source": [
    "dummy = optimize(dummy_minimize, 4, ep_prtr, ep, 0, verb=True, verb_model=True)"
   ]
  },
  {
   "cell_type": "code",
   "execution_count": 40,
   "metadata": {},
   "outputs": [],
   "source": [
    "from skopt import load\n",
    "gp_loaded = load(\"optims/scenario\" + str(scenario_load) + \"/gp_\" + str(seed_load) + \"_\" + str(iters_load) + \".opt\")\n",
    "dummy_loaded = load(\"optims/scenario\" + str(scenario_load) + \"/dummy_\" + str(seed_load) + \"_\" + str(iters_load) + \".opt\")\n",
    "forest_loaded = load(\"optims/scenario\" + str(scenario_load) + \"/forest_\" + str(seed_load) + \"_\" + str(iters_load) + \".opt\")\n",
    "gbrt_loaded = load(\"optims/scenario\" + str(scenario_load) + \"/gbrt_\" + str(seed_load) + \"_\" + str(iters_load) + \".opt\")"
   ]
  },
  {
   "cell_type": "code",
   "execution_count": 44,
   "metadata": {},
   "outputs": [
    {
     "name": "stdout",
     "output_type": "stream",
     "text": [
      "\t10: 0.0634\n",
      "\t20: 0.0017\n",
      "\t30: 0.0013\n",
      "\t40: 0.0013\n",
      "\t50: 0.0013\n"
     ]
    }
   ],
   "source": [
    "result_loaded = forest_loaded\n",
    "for i in range(10, iters_load+1, 10):\n",
    "    print(\"\\t{0:d}: {1:.4f}\".format(i, min(result_loaded.func_vals[0:i])))"
   ]
  },
  {
   "cell_type": "code",
   "execution_count": 46,
   "metadata": {},
   "outputs": [
    {
     "data": {
      "text/plain": [
       "[0.07810429304974488,\n",
       " 0.0015891561915202352,\n",
       " 21.38388646813923,\n",
       " 7,\n",
       " 10.283602902208075,\n",
       " 30]"
      ]
     },
     "execution_count": 46,
     "metadata": {},
     "output_type": "execute_result"
    }
   ],
   "source": [
    "forest_loaded.x"
   ]
  },
  {
   "cell_type": "code",
   "execution_count": null,
   "metadata": {},
   "outputs": [],
   "source": []
  },
  {
   "cell_type": "code",
   "execution_count": 10,
   "metadata": {},
   "outputs": [],
   "source": [
    "tests = {'fun', 'space', 'x', 'func_vals', 'x_iters'}\n",
    "def test(val1, val2):\n",
    "    assert np.alltrue([np.alltrue(val1[key] == val2[key]) for key in tests]), \"TESTS FAILED\"\n",
    "    print(\"ALL TESTS PASSED!\")"
   ]
  },
  {
   "cell_type": "code",
   "execution_count": null,
   "metadata": {},
   "outputs": [],
   "source": [
    "used_func = forest_minimize\n",
    "seed = 1234\n",
    "res1 = optimize(used_func, 12, 1, 1, seed)\n",
    "res1_copy = deepcopy(res1)\n",
    "res12 = reload(res1, 4, seed)\n",
    "res23 = reload(res12, 4, seed)\n",
    "res13 = reload(res1, 8, seed)\n",
    "res3 = optimize(used_func, 20, 1, 1, seed)\n",
    "\n",
    "from skopt import dump, load\n",
    "dump(res1, \"temp.txt\")\n",
    "res1_loaded = load(\"temp.txt\")\n",
    "res12_loaded = reload(res1_loaded, 4, seed)"
   ]
  },
  {
   "cell_type": "code",
   "execution_count": 97,
   "metadata": {
    "scrolled": true
   },
   "outputs": [
    {
     "name": "stdout",
     "output_type": "stream",
     "text": [
      "ALL TESTS PASSED!\n",
      "ALL TESTS PASSED!\n",
      "ALL TESTS PASSED!\n",
      "ALL TESTS PASSED!\n",
      "ALL TESTS PASSED!\n"
     ]
    }
   ],
   "source": [
    "test(res13, res3)\n",
    "test(res23, res3)\n",
    "test(res1, res1_loaded)\n",
    "test(res12, res12_loaded)\n",
    "test(res1_copy, res1)"
   ]
  },
  {
   "cell_type": "code",
   "execution_count": null,
   "metadata": {},
   "outputs": [],
   "source": []
  }
 ],
 "metadata": {
  "kernelspec": {
   "display_name": "Python 3",
   "language": "python",
   "name": "python3"
  },
  "language_info": {
   "codemirror_mode": {
    "name": "ipython",
    "version": 3
   },
   "file_extension": ".py",
   "mimetype": "text/x-python",
   "name": "python",
   "nbconvert_exporter": "python",
   "pygments_lexer": "ipython3",
   "version": "3.5.4"
  }
 },
 "nbformat": 4,
 "nbformat_minor": 2
}
