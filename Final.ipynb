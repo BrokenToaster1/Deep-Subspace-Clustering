{
 "cells": [
  {
   "cell_type": "code",
   "execution_count": 1,
   "metadata": {},
   "outputs": [
    {
     "name": "stdout",
     "output_type": "stream",
     "text": [
      "\n",
      "Starting MATLAB engine...\n",
      "-------------------------\n",
      "Elapsed: 18.42 sec\n"
     ]
    }
   ],
   "source": [
    "from optimize import *"
   ]
  },
  {
   "cell_type": "code",
   "execution_count": null,
   "metadata": {},
   "outputs": [
    {
     "name": "stdout",
     "output_type": "stream",
     "text": [
      "minimum:\n",
      "[0.07810429304974488, 0.0015891561915202352, 21.38388646813923, 7, 10.283602902208075, 30]\n",
      "seed: 100\n",
      "\n",
      "Clustering with SSC (iter: 30)...\n",
      "---------------------------------\n",
      "Elapsed: 86.64 sec\n",
      "\n",
      "value: 0.04085106382978723\n",
      "seed: 101\n",
      "\n",
      "Clustering with SSC (iter: 30)...\n",
      "---------------------------------\n",
      "Elapsed: 65.98 sec\n",
      "\n",
      "value: 0.001702127659574468\n",
      "seed: 102\n",
      "\n",
      "Clustering with SSC (iter: 30)...\n",
      "---------------------------------\n",
      "Elapsed: 68.98 sec\n",
      "\n",
      "value: 0.05574468085106383\n",
      "seed: 103\n",
      "\n",
      "Clustering with SSC (iter: 30)...\n",
      "---------------------------------\n",
      "Elapsed: 66.67 sec\n",
      "\n",
      "value: 0.02297872340425532\n",
      "seed: 104\n",
      "\n",
      "Clustering with SSC (iter: 30)...\n",
      "---------------------------------\n"
     ]
    }
   ],
   "source": [
    "reeval_minimum(0, 50, 1, \"forest\", range(100, 105))\n",
    "reeval_minimum(1, 50, 4, \"dummy\", range(100, 105))\n",
    "reeval_minimum(2, 50, 3, \"forest\", range(100, 105))\n",
    "reeval_minimum(3, 100, 4, \"gbrt\", range(100, 105))"
   ]
  }
 ],
 "metadata": {
  "kernelspec": {
   "display_name": "Python 3",
   "language": "python",
   "name": "python3"
  },
  "language_info": {
   "codemirror_mode": {
    "name": "ipython",
    "version": 3
   },
   "file_extension": ".py",
   "mimetype": "text/x-python",
   "name": "python",
   "nbconvert_exporter": "python",
   "pygments_lexer": "ipython3",
   "version": "3.5.4"
  }
 },
 "nbformat": 4,
 "nbformat_minor": 2
}
