{
 "cells": [
  {
   "cell_type": "code",
   "execution_count": 1,
   "metadata": {
    "scrolled": true
   },
   "outputs": [],
   "source": [
    "import importlib\n",
    "import full_model"
   ]
  },
  {
   "cell_type": "code",
   "execution_count": 2,
   "metadata": {},
   "outputs": [
    {
     "name": "stdout",
     "output_type": "stream",
     "text": [
      "\n",
      "Starting MATLAB engine...\n",
      "-------------------------\n",
      "Elapsed: 19.53 sec\n"
     ]
    }
   ],
   "source": [
    "full_model.eng = full_model.start_matlab()"
   ]
  },
  {
   "cell_type": "code",
   "execution_count": 3,
   "metadata": {},
   "outputs": [],
   "source": [
    "images_norm = full_model.loadmat(\"./saved/yaleB.mat\")['X']\n",
    "labels = full_model.loadmat(\"./saved/yaleB.mat\")['Y'].reshape(-1)"
   ]
  },
  {
   "cell_type": "markdown",
   "metadata": {},
   "source": [
    "## Try various Hyperparameter tuning methods\n",
    "* [Scikit-Optimize](https://scikit-optimize.github.io/notebooks/hyperparameter-optimization.html)"
   ]
  },
  {
   "cell_type": "code",
   "execution_count": 4,
   "metadata": {},
   "outputs": [
    {
     "data": {
      "text/plain": [
       "<module 'full_model' from 'C:\\\\Users\\\\aleks_000\\\\Desktop\\\\Mentorship\\\\!GitHub\\\\full_model.py'>"
      ]
     },
     "execution_count": 4,
     "metadata": {},
     "output_type": "execute_result"
    }
   ],
   "source": [
    "importlib.reload(full_model)"
   ]
  },
  {
   "cell_type": "code",
   "execution_count": 65,
   "metadata": {},
   "outputs": [],
   "source": [
    "from skopt.space import Real, Integer\n",
    "\n",
    "space  = [Real(10**-2, 10**0, \"log-uniform\", name='lr_pretrain'),\n",
    "          Real(10**-3, 10**-1, \"log-uniform\", name='lr'),\n",
    "          Real(10**0, 10**2, \"log-uniform\", name='alpha1'),\n",
    "          Integer(2, 100, name='maxIter1'),\n",
    "          Real(10**0, 10**2, \"log-uniform\", name='alpha2'),\n",
    "          Integer(2, 100, name='maxIter2'),]"
   ]
  },
  {
   "cell_type": "code",
   "execution_count": 66,
   "metadata": {},
   "outputs": [],
   "source": [
    "from skopt.utils import use_named_args\n",
    "\n",
    "@use_named_args(space)\n",
    "def objective(**params):\n",
    "    try:\n",
    "        return 1-full_model.run_model(images_norm, labels, ep_prtr, ep, **params)[0]\n",
    "    except:\n",
    "        return 1"
   ]
  },
  {
   "cell_type": "code",
   "execution_count": 68,
   "metadata": {},
   "outputs": [],
   "source": [
    "from skopt import gp_minimize\n",
    "from skopt.plots import plot_convergence\n",
    "import time\n",
    "\n",
    "def optimize(iterations, epochs_pretrain, epochs):\n",
    "    start_time = time.time()\n",
    "    \n",
    "    global ep_prtr, ep\n",
    "    ep_prtr = epochs_pretrain\n",
    "    ep = epochs\n",
    "    res_gp = gp_minimize(objective, space, n_calls=iterations, random_state=0, verbose=True, n_jobs=-1)\n",
    "\n",
    "    plot_convergence(res_gp)\n",
    "    print(\"\\n------------------\")\n",
    "    print(\"Best score: {0:.4f}\".format(res_gp.fun))\n",
    "    for i in range(10, iterations+1, 10):\n",
    "        print(\"\\t{0:d}: {1:.4f}\".format(i, min(res_gp.func_vals[0:i])))\n",
    "    print(\"Total time elapsed: {0:.2f} sec\\n\".format(time.time()-start_time))\n",
    "    return res_gp.x"
   ]
  },
  {
   "cell_type": "code",
   "execution_count": null,
   "metadata": {
    "scrolled": false
   },
   "outputs": [],
   "source": [
    "# Pro-tip:\n",
    "# Program taking too long?\n",
    "# No problem\n",
    "# ----------\n",
    "# For a quick finish, delete the temp folder,\n",
    "# wait for the code to finish, then create it again\n",
    "# or\n",
    "# Deny Admin permissions to temp.mat,\n",
    "# wait for the code to finish, then remove the restrictions\n",
    "res_gp = optimize(100, 101, 26)"
   ]
  },
  {
   "cell_type": "code",
   "execution_count": null,
   "metadata": {},
   "outputs": [],
   "source": [
    "def reload(res, addtl_calls):\n",
    "    return gp_minimize(objective, space,\n",
    "                       n_calls=addtl_calls-len(),\n",
    "                       n_random_starts=0,\n",
    "                       x0=res.x_iters,\n",
    "                       y0=res.func_vals,\n",
    "                       random_state=0)"
   ]
  },
  {
   "cell_type": "code",
   "execution_count": null,
   "metadata": {},
   "outputs": [],
   "source": []
  }
 ],
 "metadata": {
  "kernelspec": {
   "display_name": "Python 3",
   "language": "python",
   "name": "python3"
  },
  "language_info": {
   "codemirror_mode": {
    "name": "ipython",
    "version": 3
   },
   "file_extension": ".py",
   "mimetype": "text/x-python",
   "name": "python",
   "nbconvert_exporter": "python",
   "pygments_lexer": "ipython3",
   "version": "3.5.4"
  }
 },
 "nbformat": 4,
 "nbformat_minor": 2
}
