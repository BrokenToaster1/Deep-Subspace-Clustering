{
 "cells": [
  {
   "cell_type": "code",
   "execution_count": 1,
   "metadata": {},
   "outputs": [
    {
     "name": "stdout",
     "output_type": "stream",
     "text": [
      "\n",
      "Starting MATLAB engine...\n",
      "-------------------------\n",
      "Elapsed: 18.42 sec\n"
     ]
    }
   ],
   "source": [
    "from optimize import *"
   ]
  },
  {
   "cell_type": "code",
   "execution_count": 4,
   "metadata": {},
   "outputs": [
    {
     "data": {
      "text/plain": [
       "63.87600000000001"
      ]
     },
     "execution_count": 4,
     "metadata": {},
     "output_type": "execute_result"
    }
   ],
   "source": [
    "(86.64 + 65.98 + 68.98 + 66.67 + 31.11) / 5"
   ]
  },
  {
   "cell_type": "code",
   "execution_count": 5,
   "metadata": {},
   "outputs": [
    {
     "data": {
      "text/plain": [
       "25.302000000000003"
      ]
     },
     "execution_count": 5,
     "metadata": {},
     "output_type": "execute_result"
    }
   ],
   "source": [
    "(25.89 + 25.48 + 24.71 + 25.67 + 24.76) / 5"
   ]
  },
  {
   "cell_type": "code",
   "execution_count": 6,
   "metadata": {},
   "outputs": [
    {
     "data": {
      "text/plain": [
       "8.274"
      ]
     },
     "execution_count": 6,
     "metadata": {},
     "output_type": "execute_result"
    }
   ],
   "source": [
    "(8.28 + 8.26 + 8.35 + 8.19 + 8.29) / 5"
   ]
  },
  {
   "cell_type": "code",
   "execution_count": 7,
   "metadata": {},
   "outputs": [
    {
     "data": {
      "text/plain": [
       "9.078"
      ]
     },
     "execution_count": 7,
     "metadata": {},
     "output_type": "execute_result"
    }
   ],
   "source": [
    "(8.80 + 9.10 + 9.27 + 9.11 + 9.11) / 5"
   ]
  },
  {
   "cell_type": "code",
   "execution_count": 2,
   "metadata": {
    "scrolled": false
   },
   "outputs": [
    {
     "name": "stdout",
     "output_type": "stream",
     "text": [
      "minimum:\n",
      "[0.07810429304974488, 0.0015891561915202352, 21.38388646813923, 7, 10.283602902208075, 30]\n",
      "seed: 100\n",
      "\n",
      "Clustering with SSC (iter: 30)...\n",
      "---------------------------------\n",
      "Elapsed: 86.64 sec\n",
      "\n",
      "value: 0.04085106382978723\n",
      "seed: 101\n",
      "\n",
      "Clustering with SSC (iter: 30)...\n",
      "---------------------------------\n",
      "Elapsed: 65.98 sec\n",
      "\n",
      "value: 0.001702127659574468\n",
      "seed: 102\n",
      "\n",
      "Clustering with SSC (iter: 30)...\n",
      "---------------------------------\n",
      "Elapsed: 68.98 sec\n",
      "\n",
      "value: 0.05574468085106383\n",
      "seed: 103\n",
      "\n",
      "Clustering with SSC (iter: 30)...\n",
      "---------------------------------\n",
      "Elapsed: 66.67 sec\n",
      "\n",
      "value: 0.02297872340425532\n",
      "seed: 104\n",
      "\n",
      "Clustering with SSC (iter: 30)...\n",
      "---------------------------------\n",
      "Elapsed: 31.11 sec\n",
      "\n",
      "value: 0.002127659574468085\n",
      "AVERAGE: 0.011363847437158585\n",
      "minimum:\n",
      "[0.20652340258472665, 0.011743706893622599, 21.533607472080046, 27, 16.96832186324514, 25]\n",
      "seed: 100\n",
      "\n",
      "Clustering with SSC (iter: 25)...\n",
      "---------------------------------\n",
      "Elapsed: 25.89 sec\n",
      "\n",
      "value: 0.09829787234042553\n",
      "seed: 101\n",
      "\n",
      "Clustering with SSC (iter: 25)...\n",
      "---------------------------------\n",
      "Elapsed: 25.48 sec\n",
      "\n",
      "value: 0.14340425531914894\n",
      "seed: 102\n",
      "\n",
      "Clustering with SSC (iter: 25)...\n",
      "---------------------------------\n",
      "Elapsed: 24.71 sec\n",
      "\n",
      "value: 0.07361702127659575\n",
      "seed: 103\n",
      "\n",
      "Clustering with SSC (iter: 25)...\n",
      "---------------------------------\n",
      "Elapsed: 25.67 sec\n",
      "\n",
      "value: 0.15617021276595744\n",
      "seed: 104\n",
      "\n",
      "Clustering with SSC (iter: 25)...\n",
      "---------------------------------\n",
      "Elapsed: 24.76 sec\n",
      "\n",
      "value: 0.29617021276595745\n",
      "AVERAGE: 0.13684999796222538\n",
      "minimum:\n",
      "[0.0003648825652077311, 1.1395576042057682e-05, 534.4118623718928, 16, 5.337758621343087, 36]\n",
      "seed: 100\n",
      "\n",
      "Clustering with SSC (iter: 36)...\n",
      "---------------------------------\n",
      "Elapsed: 8.28 sec\n",
      "\n",
      "value: 0.9256944444444445\n",
      "seed: 101\n",
      "\n",
      "Clustering with SSC (iter: 36)...\n",
      "---------------------------------\n",
      "Elapsed: 8.26 sec\n",
      "\n",
      "value: 0.9215277777777777\n",
      "seed: 102\n",
      "\n",
      "Clustering with SSC (iter: 36)...\n",
      "---------------------------------\n",
      "Elapsed: 8.35 sec\n",
      "\n",
      "value: 0.9333333333333333\n",
      "seed: 103\n",
      "\n",
      "Clustering with SSC (iter: 36)...\n",
      "---------------------------------\n",
      "Elapsed: 8.19 sec\n",
      "\n",
      "value: 0.9381944444444444\n",
      "seed: 104\n",
      "\n",
      "Clustering with SSC (iter: 36)...\n",
      "---------------------------------\n",
      "Elapsed: 8.29 sec\n",
      "\n",
      "value: 0.925\n",
      "AVERAGE: 0.9287300351647094\n",
      "minimum:\n",
      "[0.00010334762307546188, 1.5415805242432643e-05, 14.519110660781786, 93, 6.1054043480560045, 40]\n",
      "seed: 100\n",
      "\n",
      "Clustering with SSC (iter: 40)...\n",
      "---------------------------------\n",
      "Elapsed: 8.80 sec\n",
      "\n",
      "value: 0.8875\n",
      "seed: 101\n",
      "\n",
      "Clustering with SSC (iter: 40)...\n",
      "---------------------------------\n",
      "Elapsed: 9.10 sec\n",
      "\n",
      "value: 0.8916666666666667\n",
      "seed: 102\n",
      "\n",
      "Clustering with SSC (iter: 40)...\n",
      "---------------------------------\n",
      "Elapsed: 9.27 sec\n",
      "\n",
      "value: 0.8944444444444445\n",
      "seed: 103\n",
      "\n",
      "Clustering with SSC (iter: 40)...\n",
      "---------------------------------\n",
      "Elapsed: 9.11 sec\n",
      "\n",
      "value: 0.9034722222222222\n",
      "seed: 104\n",
      "\n",
      "Clustering with SSC (iter: 40)...\n",
      "---------------------------------\n",
      "Elapsed: 9.11 sec\n",
      "\n",
      "value: 0.8958333333333334\n",
      "AVERAGE: 0.8945677911843332\n"
     ]
    },
    {
     "data": {
      "text/plain": [
       "0.8945677911843332"
      ]
     },
     "execution_count": 2,
     "metadata": {},
     "output_type": "execute_result"
    }
   ],
   "source": [
    "reeval_minimum(0, 50, 1, \"forest\", range(100, 105))\n",
    "reeval_minimum(1, 50, 4, \"dummy\", range(100, 105))\n",
    "reeval_minimum(2, 50, 3, \"forest\", range(100, 105))\n",
    "reeval_minimum(3, 100, 4, \"gbrt\", range(100, 105))"
   ]
  }
 ],
 "metadata": {
  "kernelspec": {
   "display_name": "Python 3",
   "language": "python",
   "name": "python3"
  },
  "language_info": {
   "codemirror_mode": {
    "name": "ipython",
    "version": 3
   },
   "file_extension": ".py",
   "mimetype": "text/x-python",
   "name": "python",
   "nbconvert_exporter": "python",
   "pygments_lexer": "ipython3",
   "version": "3.5.4"
  }
 },
 "nbformat": 4,
 "nbformat_minor": 2
}
