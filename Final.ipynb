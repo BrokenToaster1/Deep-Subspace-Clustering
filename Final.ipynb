{
 "cells": [
  {
   "cell_type": "code",
   "execution_count": null,
   "metadata": {
    "scrolled": true
   },
   "outputs": [],
   "source": [
    "import full_model\n",
    "import numpy as np"
   ]
  },
  {
   "cell_type": "code",
   "execution_count": null,
   "metadata": {},
   "outputs": [],
   "source": [
    "full_model.eng = full_model.start_matlab()\n",
    "show_plot = False"
   ]
  },
  {
   "cell_type": "code",
   "execution_count": null,
   "metadata": {},
   "outputs": [],
   "source": [
    "from optimize import *"
   ]
  },
  {
   "cell_type": "code",
   "execution_count": null,
   "metadata": {},
   "outputs": [],
   "source": [
    "gp = optimize(gp_minimize, get_params(2), 13, 0, verb_model=True)"
   ]
  },
  {
   "cell_type": "code",
   "execution_count": null,
   "metadata": {},
   "outputs": [],
   "source": [
    "from skopt import load\n",
    "\n",
    "gp_loaded = load(\"optims/scenario\" + str(3) + \"/gp_\" + str(0) + \"_\" + str(50) + \".opt\")\n",
    "gp = reload(gp_loaded, get_params(3), 3, 0, verb_model=True)"
   ]
  },
  {
   "cell_type": "code",
   "execution_count": 10,
   "metadata": {},
   "outputs": [],
   "source": [
    "tests = {'fun', 'space', 'x', 'func_vals', 'x_iters'}\n",
    "def test(val1, val2):\n",
    "    assert np.alltrue([np.alltrue(val1[key] == val2[key]) for key in tests]), \"TESTS FAILED\"\n",
    "    print(\"ALL TESTS PASSED!\")"
   ]
  },
  {
   "cell_type": "code",
   "execution_count": null,
   "metadata": {},
   "outputs": [],
   "source": [
    "used_func = forest_minimize\n",
    "seed = 1234\n",
    "res1 = optimize(used_func, 12, 1, 1, seed)\n",
    "res1_copy = deepcopy(res1)\n",
    "res12 = reload(res1, 4, seed)\n",
    "res23 = reload(res12, 4, seed)\n",
    "res13 = reload(res1, 8, seed)\n",
    "res3 = optimize(used_func, 20, 1, 1, seed)\n",
    "\n",
    "from skopt import dump, load\n",
    "dump(res1, \"temp.txt\")\n",
    "res1_loaded = load(\"temp.txt\")\n",
    "res12_loaded = reload(res1_loaded, 4, seed)"
   ]
  },
  {
   "cell_type": "code",
   "execution_count": 97,
   "metadata": {
    "scrolled": true
   },
   "outputs": [
    {
     "name": "stdout",
     "output_type": "stream",
     "text": [
      "ALL TESTS PASSED!\n",
      "ALL TESTS PASSED!\n",
      "ALL TESTS PASSED!\n",
      "ALL TESTS PASSED!\n",
      "ALL TESTS PASSED!\n"
     ]
    }
   ],
   "source": [
    "test(res13, res3)\n",
    "test(res23, res3)\n",
    "test(res1, res1_loaded)\n",
    "test(res12, res12_loaded)\n",
    "test(res1_copy, res1)"
   ]
  },
  {
   "cell_type": "code",
   "execution_count": null,
   "metadata": {},
   "outputs": [],
   "source": []
  }
 ],
 "metadata": {
  "kernelspec": {
   "display_name": "Python 3",
   "language": "python",
   "name": "python3"
  },
  "language_info": {
   "codemirror_mode": {
    "name": "ipython",
    "version": 3
   },
   "file_extension": ".py",
   "mimetype": "text/x-python",
   "name": "python",
   "nbconvert_exporter": "python",
   "pygments_lexer": "ipython3",
   "version": "3.5.4"
  }
 },
 "nbformat": 4,
 "nbformat_minor": 2
}
