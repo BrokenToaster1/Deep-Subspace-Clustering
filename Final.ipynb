{
 "cells": [
  {
   "cell_type": "markdown",
   "metadata": {},
   "source": [
    "# Optimization reduction"
   ]
  },
  {
   "cell_type": "code",
   "execution_count": 1,
   "metadata": {},
   "outputs": [
    {
     "name": "stdout",
     "output_type": "stream",
     "text": [
      "\n",
      "Starting MATLAB engine...\n",
      "-------------------------\n",
      "Elapsed: 2.79 sec\n"
     ]
    }
   ],
   "source": [
    "from optimize import *"
   ]
  },
  {
   "cell_type": "code",
   "execution_count": 2,
   "metadata": {},
   "outputs": [],
   "source": [
    "result_loaded = load(\"optims/scenario3/forest_0_100.opt\")"
   ]
  },
  {
   "cell_type": "code",
   "execution_count": 3,
   "metadata": {},
   "outputs": [
    {
     "name": "stdout",
     "output_type": "stream",
     "text": [
      "TOTAL : 17759752\n",
      "x : 328\n",
      "func_vals : 896\n",
      "space : 48976\n",
      "x_iters : 33808\n",
      "specs : 51448\n",
      "models : 17672680\n",
      "fun : 32\n",
      "random_state : 72\n"
     ]
    }
   ],
   "source": [
    "from pympler.asizeof import asizeof\n",
    "\n",
    "# check size\n",
    "print(\"TOTAL :\", asizeof(result_loaded))\n",
    "for key in result_loaded.keys():\n",
    "    print(key, ':', asizeof(result_loaded[key]))"
   ]
  },
  {
   "cell_type": "code",
   "execution_count": 4,
   "metadata": {},
   "outputs": [
    {
     "name": "stdout",
     "output_type": "stream",
     "text": [
      "------------------\n",
      "10: 0.4264\n",
      "20: 0.3236\n",
      "30: 0.3236\n",
      "40: 0.2875\n",
      "50: 0.2875\n",
      "60: 0.2875\n",
      "70: 0.2875\n",
      "80: 0.2875\n",
      "90: 0.2875\n",
      "100: 0.2875\n",
      "Best score: 0.2875\n",
      "Best parameters: [0.27132766378910406, 0.001380381361838373, 0.2518454319618381, 74, 410.1861235669267, 62]\n",
      "Total time elapsed: 89.07 sec\n",
      "\n"
     ]
    }
   ],
   "source": [
    "_ = reload(result_loaded, get_params(3), 1, 0, verb=False)"
   ]
  },
  {
   "cell_type": "code",
   "execution_count": 5,
   "metadata": {},
   "outputs": [],
   "source": [
    "# REDUCE RESULT\n",
    "del result_loaded.models[:-1]"
   ]
  },
  {
   "cell_type": "code",
   "execution_count": 6,
   "metadata": {},
   "outputs": [
    {
     "name": "stdout",
     "output_type": "stream",
     "text": [
      "TOTAL : 283800\n",
      "x : 328\n",
      "func_vals : 896\n",
      "space : 48976\n",
      "x_iters : 33808\n",
      "specs : 51448\n",
      "models : 196728\n",
      "fun : 32\n",
      "random_state : 72\n"
     ]
    }
   ],
   "source": [
    "# check size again\n",
    "print(\"TOTAL :\", asizeof(result_loaded))\n",
    "for key in result_loaded.keys():\n",
    "    print(key, ':', asizeof(result_loaded[key]))"
   ]
  },
  {
   "cell_type": "code",
   "execution_count": 7,
   "metadata": {},
   "outputs": [
    {
     "name": "stdout",
     "output_type": "stream",
     "text": [
      "------------------\n",
      "10: 0.4264\n",
      "20: 0.3236\n",
      "30: 0.3236\n",
      "40: 0.2875\n",
      "50: 0.2875\n",
      "60: 0.2875\n",
      "70: 0.2875\n",
      "80: 0.2875\n",
      "90: 0.2875\n",
      "100: 0.2875\n",
      "Best score: 0.2875\n",
      "Best parameters: [0.27132766378910406, 0.001380381361838373, 0.2518454319618381, 74, 410.1861235669267, 62]\n",
      "Total time elapsed: 89.11 sec\n",
      "\n"
     ]
    }
   ],
   "source": [
    "# Check that it still works\n",
    "_ = reload(result_loaded, get_params(3), 1, 0, verb=False)"
   ]
  },
  {
   "cell_type": "code",
   "execution_count": 8,
   "metadata": {},
   "outputs": [
    {
     "name": "stdout",
     "output_type": "stream",
     "text": [
      "510278090696\n",
      "510278107208\n"
     ]
    },
    {
     "data": {
      "text/plain": [
       "[4]"
      ]
     },
     "execution_count": 8,
     "metadata": {},
     "output_type": "execute_result"
    }
   ],
   "source": [
    "models = [1, 2, 3, 4]\n",
    "print(id(models))\n",
    "models = [models[-1]]\n",
    "print(id(models))\n",
    "models"
   ]
  },
  {
   "cell_type": "code",
   "execution_count": 9,
   "metadata": {},
   "outputs": [
    {
     "name": "stdout",
     "output_type": "stream",
     "text": [
      "510230993608\n",
      "510230993608\n"
     ]
    },
    {
     "data": {
      "text/plain": [
       "[4]"
      ]
     },
     "execution_count": 9,
     "metadata": {},
     "output_type": "execute_result"
    }
   ],
   "source": [
    "models = [1, 2, 3, 4]\n",
    "print(id(models))\n",
    "del models[:-1]\n",
    "print(id(models))\n",
    "models"
   ]
  },
  {
   "cell_type": "markdown",
   "metadata": {},
   "source": [
    "# Reduce while optimizing"
   ]
  },
  {
   "cell_type": "code",
   "execution_count": 12,
   "metadata": {},
   "outputs": [
    {
     "name": "stdout",
     "output_type": "stream",
     "text": [
      "0\n",
      "0\n",
      "0\n",
      "0\n",
      "0\n",
      "0\n",
      "0\n",
      "0\n",
      "0\n",
      "0\n",
      "0\n",
      "0\n",
      "0\n",
      "0\n",
      "0\n",
      "0\n",
      "0\n",
      "0\n",
      "1\n",
      "1\n",
      "2\n",
      "1\n",
      "2\n",
      "1\n",
      "------------------\n",
      "10: 0.0302\n",
      "Best score: 0.0302\n",
      "Best parameters: [0.05871694001325902, 0.003936128001463711, 1.2984521643751779, 14, 5.846326121643415, 8]\n",
      "Total time elapsed: 967.65 sec\n",
      "\n"
     ]
    }
   ],
   "source": [
    "result_new = optimize(forest_minimize, get_params(0), 12, 0, verb=False)"
   ]
  },
  {
   "cell_type": "markdown",
   "metadata": {},
   "source": [
    "# Reduce all saved"
   ]
  },
  {
   "cell_type": "code",
   "execution_count": 25,
   "metadata": {},
   "outputs": [
    {
     "name": "stdout",
     "output_type": "stream",
     "text": [
      "Reduced optims\\scenario0\\dummy_0_50.opt by 0%, from 70240 to 70240\n",
      "Reduced optims\\scenario0\\dummy_1_50.opt by 0%, from 70240 to 70240\n",
      "Reduced optims\\scenario0\\dummy_2_50.opt by 0%, from 70240 to 70240\n",
      "Reduced optims\\scenario0\\dummy_3_50.opt by 0%, from 70240 to 70240\n",
      "Reduced optims\\scenario0\\dummy_4_50.opt by 0%, from 70272 to 70272\n",
      "Reduced optims\\scenario0\\forest_0_50.opt by 96%, from 8033608 to 266504\n",
      "Reduced optims\\scenario0\\forest_1_50.opt by 96%, from 8033608 to 266504\n",
      "Reduced optims\\scenario0\\forest_2_50.opt by 96%, from 8033608 to 266504\n",
      "Reduced optims\\scenario0\\forest_3_50.opt by 96%, from 8033608 to 266504\n",
      "Reduced optims\\scenario0\\forest_4_50.opt by 96%, from 8033640 to 266536\n",
      "Reduced optims\\scenario0\\gbrt_0_50.opt by 84%, from 560896 to 87232\n",
      "Reduced optims\\scenario0\\gbrt_1_50.opt by 84%, from 560896 to 87232\n",
      "Reduced optims\\scenario0\\gbrt_2_50.opt by 84%, from 560896 to 87232\n",
      "Reduced optims\\scenario0\\gbrt_3_50.opt by 84%, from 560896 to 87232\n",
      "Reduced optims\\scenario0\\gbrt_4_50.opt by 84%, from 560928 to 87264\n",
      "Reduced optims\\scenario0\\gp_0_13.opt by 16%, from 142328 to 119416\n",
      "Reduced optims\\scenario0\\gp_0_50.opt by 80%, from 788304 to 153200\n",
      "Reduced optims\\scenario0\\gp_1_50.opt by 80%, from 788304 to 153200\n",
      "Reduced optims\\scenario0\\gp_2_50.opt by 80%, from 788304 to 153200\n",
      "Reduced optims\\scenario0\\gp_3_50.opt by 80%, from 788304 to 153200\n",
      "Reduced optims\\scenario0\\gp_4_50.opt by 80%, from 788304 to 153200\n",
      "Reduced optims\\scenario1\\dummy_0_50.opt by 0%, from 70272 to 70272\n",
      "Reduced optims\\scenario1\\dummy_1_50.opt by 0%, from 70272 to 70272\n",
      "Reduced optims\\scenario1\\dummy_2_50.opt by 0%, from 70272 to 70272\n",
      "Reduced optims\\scenario1\\dummy_3_50.opt by 0%, from 70272 to 70272\n",
      "Reduced optims\\scenario1\\dummy_4_50.opt by 0%, from 70304 to 70304\n",
      "Reduced optims\\scenario1\\forest_0_50.opt by 96%, from 8033608 to 266504\n",
      "Reduced optims\\scenario1\\forest_1_50.opt by 96%, from 8033608 to 266504\n",
      "Reduced optims\\scenario1\\forest_2_50.opt by 96%, from 8033608 to 266504\n",
      "Reduced optims\\scenario1\\forest_3_50.opt by 96%, from 8033608 to 266504\n",
      "Reduced optims\\scenario1\\forest_4_50.opt by 96%, from 8033640 to 266536\n",
      "Reduced optims\\scenario1\\gbrt_0_50.opt by 84%, from 560896 to 87232\n",
      "Reduced optims\\scenario1\\gbrt_1_50.opt by 84%, from 560896 to 87232\n",
      "Reduced optims\\scenario1\\gbrt_2_50.opt by 84%, from 560896 to 87232\n",
      "Reduced optims\\scenario1\\gbrt_3_50.opt by 84%, from 560896 to 87232\n",
      "Reduced optims\\scenario1\\gbrt_4_50.opt by 84%, from 560928 to 87264\n",
      "Reduced optims\\scenario1\\gp_0_50.opt by 80%, from 788304 to 153200\n",
      "Reduced optims\\scenario1\\gp_1_50.opt by 80%, from 788304 to 153200\n",
      "Reduced optims\\scenario1\\gp_2_50.opt by 80%, from 788304 to 153200\n",
      "Reduced optims\\scenario1\\gp_3_50.opt by 80%, from 788304 to 153200\n",
      "Reduced optims\\scenario1\\gp_4_50.opt by 80%, from 788304 to 153200\n",
      "Reduced optims\\scenario2\\dummy_0_50.opt by 0%, from 70320 to 70320\n",
      "Reduced optims\\scenario2\\dummy_1_50.opt by 0%, from 70320 to 70320\n",
      "Reduced optims\\scenario2\\dummy_2_50.opt by 0%, from 70320 to 70320\n",
      "Reduced optims\\scenario2\\dummy_3_50.opt by 0%, from 70320 to 70320\n",
      "Reduced optims\\scenario2\\dummy_4_50.opt by 0%, from 70352 to 70352\n",
      "Reduced optims\\scenario2\\forest_0_50.opt by 96%, from 8033656 to 266552\n",
      "Reduced optims\\scenario2\\forest_1_50.opt by 96%, from 8033656 to 266552\n",
      "Reduced optims\\scenario2\\forest_2_50.opt by 96%, from 8033656 to 266552\n",
      "Reduced optims\\scenario2\\forest_3_50.opt by 96%, from 8033656 to 266552\n",
      "Reduced optims\\scenario2\\forest_4_50.opt by 96%, from 8033688 to 266584\n",
      "Reduced optims\\scenario2\\gbrt_0_50.opt by 84%, from 560944 to 87280\n",
      "Reduced optims\\scenario2\\gbrt_1_50.opt by 84%, from 560944 to 87280\n",
      "Reduced optims\\scenario2\\gbrt_2_50.opt by 84%, from 560944 to 87280\n",
      "Reduced optims\\scenario2\\gbrt_3_50.opt by 84%, from 560944 to 87280\n",
      "Reduced optims\\scenario2\\gbrt_4_50.opt by 84%, from 560976 to 87312\n",
      "Reduced optims\\scenario2\\gp_0_50.opt by 80%, from 788496 to 153392\n",
      "Reduced optims\\scenario2\\gp_1_50.opt by 80%, from 788496 to 153392\n",
      "Reduced optims\\scenario2\\gp_2_50.opt by 80%, from 788496 to 153392\n",
      "Reduced optims\\scenario2\\gp_3_50.opt by 80%, from 788496 to 153392\n",
      "Reduced optims\\scenario2\\gp_4_50.opt by 80%, from 788496 to 153392\n",
      "Reduced optims\\scenario3\\dummy_0_100.opt by 0%, from 87600 to 87600\n",
      "Reduced optims\\scenario3\\dummy_0_50.opt by 0%, from 70320 to 70320\n",
      "Reduced optims\\scenario3\\dummy_0_53.opt by 0%, from 71416 to 71416\n",
      "Reduced optims\\scenario3\\dummy_1_100.opt by 0%, from 87600 to 87600\n",
      "Reduced optims\\scenario3\\dummy_1_50.opt by 0%, from 70320 to 70320\n",
      "Reduced optims\\scenario3\\dummy_2_100.opt by 0%, from 87600 to 87600\n",
      "Reduced optims\\scenario3\\dummy_2_50.opt by 0%, from 70320 to 70320\n",
      "Reduced optims\\scenario3\\dummy_3_100.opt by 0%, from 87600 to 87600\n",
      "Reduced optims\\scenario3\\dummy_3_50.opt by 0%, from 70320 to 70320\n",
      "Reduced optims\\scenario3\\dummy_4_100.opt by 0%, from 87632 to 87632\n",
      "Reduced optims\\scenario3\\dummy_4_50.opt by 0%, from 70352 to 70352\n",
      "Reduced optims\\scenario3\\forest_0_100.opt by 98%, from 17759752 to 283800\n",
      "Reduced optims\\scenario3\\forest_0_50.opt by 96%, from 8033688 to 266584\n",
      "Reduced optims\\scenario3\\forest_0_53.opt by 96%, from 8617280 to 267648\n",
      "Reduced optims\\scenario3\\forest_1_100.opt by 98%, from 17759752 to 283800\n",
      "Reduced optims\\scenario3\\forest_1_50.opt by 96%, from 8033688 to 266584\n",
      "Reduced optims\\scenario3\\forest_2_100.opt by 98%, from 17759752 to 283800\n",
      "Reduced optims\\scenario3\\forest_2_50.opt by 96%, from 8033688 to 266584\n",
      "Reduced optims\\scenario3\\forest_3_100.opt by 98%, from 17759752 to 283800\n",
      "Reduced optims\\scenario3\\forest_3_50.opt by 96%, from 8033688 to 266584\n",
      "Reduced optims\\scenario3\\forest_4_100.opt by 98%, from 17759784 to 283832\n",
      "Reduced optims\\scenario3\\forest_4_50.opt by 96%, from 8033720 to 266616\n",
      "Reduced optims\\scenario3\\gbrt_0_100.opt by 90%, from 1171784 to 106072\n",
      "Reduced optims\\scenario3\\gbrt_0_50.opt by 84%, from 560944 to 87280\n",
      "Reduced optims\\scenario3\\gbrt_1_100.opt by 90%, from 1171848 to 106136\n",
      "Reduced optims\\scenario3\\gbrt_1_50.opt by 84%, from 560944 to 87280\n",
      "Reduced optims\\scenario3\\gbrt_2_100.opt by 90%, from 1171848 to 106136\n",
      "Reduced optims\\scenario3\\gbrt_2_50.opt by 84%, from 560944 to 87280\n",
      "Reduced optims\\scenario3\\gbrt_3_100.opt by 90%, from 1171848 to 106136\n",
      "Reduced optims\\scenario3\\gbrt_3_50.opt by 84%, from 560944 to 87280\n",
      "Reduced optims\\scenario3\\gbrt_4_100.opt by 90%, from 1171880 to 106168\n",
      "Reduced optims\\scenario3\\gbrt_4_50.opt by 84%, from 560976 to 87312\n",
      "Reduced optims\\scenario3\\gp_0_100.opt by 93%, from 3709592 to 234640\n",
      "Reduced optims\\scenario3\\gp_0_50.opt by 80%, from 788528 to 153424\n",
      "Reduced optims\\scenario3\\gp_0_53.opt by 82%, from 883136 to 157920\n",
      "Reduced optims\\scenario3\\gp_1_100.opt by 93%, from 3709592 to 234640\n",
      "Reduced optims\\scenario3\\gp_1_50.opt by 80%, from 788528 to 153424\n",
      "Reduced optims\\scenario3\\gp_2_100.opt by 93%, from 3709592 to 234640\n",
      "Reduced optims\\scenario3\\gp_2_50.opt by 80%, from 788528 to 153424\n",
      "Reduced optims\\scenario3\\gp_3_100.opt by 93%, from 3709592 to 234640\n",
      "Reduced optims\\scenario3\\gp_3_50.opt by 80%, from 788528 to 153424\n",
      "Reduced optims\\scenario3\\gp_4_100.opt by 93%, from 3709592 to 234640\n",
      "Reduced optims\\scenario3\\gp_4_50.opt by 80%, from 788528 to 153424\n"
     ]
    }
   ],
   "source": [
    "from optimize import reduce \n",
    "from pathlib import Path\n",
    "from pympler.asizeof import asizeof\n",
    "from skopt import load, dump\n",
    "\n",
    "path = Path(\"./optims\")\n",
    "\n",
    "for resultpath in path.glob(\"**/*.opt\"):\n",
    "    result = load(resultpath)\n",
    "    \n",
    "    oldsize = asizeof(result)\n",
    "    reduce(result)\n",
    "    newsize = asizeof(result)\n",
    "    \n",
    "    dump(result, resultpath)\n",
    "    print(\"Reduced\", resultpath, \"by\", str(int((oldsize-newsize)/oldsize*100))+\"%,\", \"from\", oldsize, \"to\", newsize)"
   ]
  },
  {
   "cell_type": "markdown",
   "metadata": {},
   "source": [
    "# See predicted function"
   ]
  },
  {
   "cell_type": "code",
   "execution_count": null,
   "metadata": {},
   "outputs": [],
   "source": [
    "import matlab.engine\n",
    "from optimize import *\n",
    "from skopt.acquisition import _gaussian_acquisition\n",
    "loaded = load(\"./optims/scenario6/forest_3_50.opt\")"
   ]
  },
  {
   "cell_type": "code",
   "execution_count": null,
   "metadata": {},
   "outputs": [],
   "source": [
    "# how optimizer predicts next value:\n",
    "space = loaded['space']\n",
    "#X = space.transform(space.rvs(n_samples=result.specs['args']['n_points'], random_state=0))\n",
    "X = np.array([[10**(i/5-1), 10**(j/10+1)] for i in range(21) for j in range(14)])\n",
    "values = _gaussian_acquisition(X=X, model=loaded.models[-1], y_opt=np.min(loaded.func_vals),\n",
    "                               acq_func=loaded.specs['args']['acq_func'],\n",
    "                               acq_func_kwargs={\"xi\":loaded.specs['args']['xi'], \"kappa\":loaded.specs['args']['kappa']})"
   ]
  },
  {
   "cell_type": "code",
   "execution_count": null,
   "metadata": {},
   "outputs": [],
   "source": [
    "# how the actual function works\n",
    "out = np.zeros((27, 41))\n",
    "for i in range(27):\n",
    "    maxIter = 10**(i/20.0+1)\n",
    "    for j in range(41):\n",
    "        alpha = 10**(j/20.0-1)\n",
    "        out[i][j] = loaded.models[-1].predict([[alpha, maxIter]])[0]\n",
    "\n",
    "savemat('./hyper_opt.mat', mdict={'surface':out, 'x':loaded.x_iters, 'y':loaded.func_vals})"
   ]
  }
 ],
 "metadata": {
  "kernelspec": {
   "display_name": "Python 3",
   "language": "python",
   "name": "python3"
  },
  "language_info": {
   "codemirror_mode": {
    "name": "ipython",
    "version": 3
   },
   "file_extension": ".py",
   "mimetype": "text/x-python",
   "name": "python",
   "nbconvert_exporter": "python",
   "pygments_lexer": "ipython3",
   "version": "3.5.4"
  }
 },
 "nbformat": 4,
 "nbformat_minor": 2
}
