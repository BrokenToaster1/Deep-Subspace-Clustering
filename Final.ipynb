{
 "cells": [
  {
   "cell_type": "code",
   "execution_count": 1,
   "metadata": {},
   "outputs": [
    {
     "name": "stdout",
     "output_type": "stream",
     "text": [
      "\n",
      "Starting MATLAB engine...\n",
      "-------------------------\n",
      "Elapsed: 3.60 sec\n"
     ]
    }
   ],
   "source": [
    "from optimize import *\n",
    "import full_model"
   ]
  },
  {
   "cell_type": "code",
   "execution_count": 2,
   "metadata": {},
   "outputs": [],
   "source": [
    "data_loaded = loadmat(\"./saved/rescaled/Coil20\")\n",
    "images_norm = data_loaded['X']\n",
    "images_norm_val = data_loaded['X_val']\n",
    "labels = data_loaded['Y'].reshape(-1)\n",
    "labels_val = data_loaded['Y_val'].reshape(-1)"
   ]
  },
  {
   "cell_type": "code",
   "execution_count": 3,
   "metadata": {},
   "outputs": [],
   "source": [
    "verb = True"
   ]
  },
  {
   "cell_type": "code",
   "execution_count": 4,
   "metadata": {},
   "outputs": [
    {
     "name": "stdout",
     "output_type": "stream",
     "text": [
      "\n",
      "Clustering with SSC...\n",
      "---------------------------------\n",
      "Elapsed: 16.92 sec\n",
      "\n"
     ]
    },
    {
     "data": {
      "text/plain": [
       "(0.3706597222222222, 0.2567551677309303, 0.5199574600231254)"
      ]
     },
     "execution_count": 4,
     "metadata": {},
     "output_type": "execute_result"
    }
   ],
   "source": [
    "# 1: SSC\n",
    "full_model.run_ssc(images_norm, labels, seed=0, verbose=verb, alpha=20)"
   ]
  },
  {
   "cell_type": "code",
   "execution_count": 5,
   "metadata": {},
   "outputs": [
    {
     "name": "stdout",
     "output_type": "stream",
     "text": [
      "\n",
      "Training Autoencoder...\n",
      "-----------------------\n",
      "\n",
      "Model loaded from ./saved/models/coil20/test_0.1699.npz\n",
      "\n",
      "epoch 0: global loss = 0.031537797302007675\n",
      "epoch 0: validation loss = 0.030438442908227444\n",
      "epoch 10: validation loss = 0.02699973510950804\n",
      "epoch 20: validation loss = 0.02691423338651657\n",
      "epoch 30: validation loss = 0.02870994085073471\n",
      "epoch 40: validation loss = 0.02722240723669529\n",
      "epoch 50: validation loss = 0.025897521540522574\n",
      "epoch 60: validation loss = 0.028928670287132262\n",
      "epoch 70: validation loss = 0.028407880008220674\n",
      "epoch 80: validation loss = 0.027382405519485474\n",
      "epoch 90: validation loss = 0.02738320742547512\n",
      "epoch 100: global loss = 0.02509577013552189\n",
      "epoch 100: validation loss = 0.028696676537394522\n",
      "epoch 110: validation loss = 0.027282013192772864\n",
      "epoch 120: validation loss = 0.027563994079828263\n",
      "epoch 130: validation loss = 0.028028564512729646\n",
      "epoch 140: validation loss = 0.02724683912098408\n",
      "epoch 150: validation loss = 0.027565908640623093\n",
      "epoch 160: validation loss = 0.029380443185567855\n",
      "epoch 170: validation loss = 0.027632333144545555\n",
      "epoch 180: validation loss = 0.02889514161646366\n",
      "epoch 190: validation loss = 0.028890244975686073\n",
      "epoch 200: global loss = 0.02305256947875023\n",
      "epoch 200: validation loss = 0.02837537242472172\n",
      "epoch 210: validation loss = 0.029419359877705574\n",
      "epoch 220: validation loss = 0.02915796485543251\n",
      "epoch 230: validation loss = 0.029354554787278175\n",
      "epoch 240: validation loss = 0.027318650767207145\n",
      "epoch 250: validation loss = 0.028829802662134172\n",
      "epoch 260: validation loss = 0.029422957360744476\n",
      "epoch 270: validation loss = 0.02819154730439186\n",
      "epoch 280: validation loss = 0.027641066268086434\n",
      "epoch 290: validation loss = 0.0273496778011322\n",
      "epoch 300: global loss = 0.02494039572775364\n",
      "epoch 300: validation loss = 0.031215358942747115\n",
      "epoch 310: validation loss = 0.02809331950545311\n",
      "epoch 320: validation loss = 0.030952544808387758\n",
      "epoch 330: validation loss = 0.028428924679756166\n",
      "epoch 340: validation loss = 0.02866035507619381\n",
      "epoch 350: validation loss = 0.028144902259111405\n",
      "epoch 360: validation loss = 0.028528632923960687\n",
      "epoch 370: validation loss = 0.028200721219182014\n",
      "epoch 380: validation loss = 0.028549943163990975\n",
      "epoch 390: validation loss = 0.029244505390524863\n",
      "epoch 400: global loss = 0.021693522110581398\n",
      "epoch 400: validation loss = 0.02829199729859829\n",
      "epoch 410: validation loss = 0.029522202670574187\n",
      "epoch 420: validation loss = 0.029037545904517174\n",
      "epoch 430: validation loss = 0.03035568794608116\n",
      "epoch 440: validation loss = 0.03074495604634285\n",
      "epoch 450: validation loss = 0.029056082278490068\n",
      "epoch 460: validation loss = 0.02907007673382759\n",
      "epoch 470: validation loss = 0.02993294936418533\n",
      "epoch 480: validation loss = 0.029493525728583336\n",
      "epoch 490: validation loss = 0.028882857427001\n",
      "epoch 500: global loss = 0.021549224853515625\n",
      "epoch 500: validation loss = 0.028590332135558127\n",
      "epoch 510: validation loss = 0.028857813358306884\n",
      "epoch 520: validation loss = 0.029396020889282226\n",
      "epoch 530: validation loss = 0.030617435559630393\n",
      "Training stopped after 530 epochs with loss = 0.025897521540522574\n",
      "Elapsed: 76.50 sec\n",
      "\n",
      "Clustering with SSC...\n",
      "---------------------------------\n",
      "Elapsed: 8.18 sec\n",
      "\n"
     ]
    },
    {
     "data": {
      "text/plain": [
       "(0.4982638888888889, 0.3439914314735354, 0.7015300719630682)"
      ]
     },
     "execution_count": 5,
     "metadata": {},
     "output_type": "execute_result"
    }
   ],
   "source": [
    "# 2: AE + SSC\n",
    "full_model.run_ae(images_norm, images_norm_val, labels, \"./saved/models/coil20/test_0.1699\", [32], seed=0, verbose=verb, \\\n",
    "                  lr=0.001, batch_num=100, lambda2=0.001, alpha2=20)"
   ]
  },
  {
   "cell_type": "code",
   "execution_count": 6,
   "metadata": {},
   "outputs": [
    {
     "name": "stdout",
     "output_type": "stream",
     "text": [
      "\n",
      "Finding affinity matrix...\n",
      "-------------------------------------\n",
      "Elapsed: 14.65 sec\n",
      "\n",
      "Training Autoencoder...\n",
      "-----------------------\n",
      "\n",
      "Model loaded from ./saved/models/coil20/test_0.1699.npz\n",
      "\n",
      "epoch 0: global loss = 0.03192337229847908\n",
      "epoch 0: validation loss = 0.030690926760435104\n",
      "epoch 10: validation loss = 0.028472003534436227\n",
      "epoch 20: validation loss = 0.027619986966252327\n",
      "epoch 30: validation loss = 0.02800992011278868\n",
      "epoch 40: validation loss = 0.02645889066159725\n",
      "epoch 50: validation loss = 0.027521021246910096\n",
      "epoch 60: validation loss = 0.026184393599629402\n",
      "epoch 70: validation loss = 0.02800075250864029\n",
      "epoch 80: validation loss = 0.029031406670808793\n",
      "epoch 90: validation loss = 0.02748820911347866\n",
      "epoch 100: global loss = 0.023329395800828934\n",
      "epoch 100: validation loss = 0.027066738560795785\n",
      "epoch 110: validation loss = 0.028457615464925767\n",
      "epoch 120: validation loss = 0.02707428552210331\n",
      "epoch 130: validation loss = 0.026566936001181603\n",
      "epoch 140: validation loss = 0.026482612892985345\n",
      "epoch 150: validation loss = 0.028632599353790283\n",
      "epoch 160: validation loss = 0.028063276514410974\n",
      "epoch 170: validation loss = 0.026901417449116706\n",
      "epoch 180: validation loss = 0.03288345992565155\n",
      "epoch 190: validation loss = 0.027281894475221634\n",
      "epoch 200: global loss = 0.023236503824591637\n",
      "epoch 200: validation loss = 0.02846133515238762\n",
      "epoch 210: validation loss = 0.027659442141652106\n",
      "epoch 220: validation loss = 0.02718839691579342\n",
      "epoch 230: validation loss = 0.028962495103478432\n",
      "epoch 240: validation loss = 0.026985413372516632\n",
      "epoch 250: validation loss = 0.028482230573892594\n",
      "epoch 260: validation loss = 0.02831340143084526\n",
      "epoch 270: validation loss = 0.02802294011414051\n",
      "epoch 280: validation loss = 0.02918513262271881\n",
      "epoch 290: validation loss = 0.028294243469834328\n",
      "epoch 300: global loss = 0.02203000709414482\n",
      "epoch 300: validation loss = 0.027825339570641518\n",
      "epoch 310: validation loss = 0.02843377748131752\n",
      "epoch 320: validation loss = 0.029471645906567572\n",
      "epoch 330: validation loss = 0.02886929140985012\n",
      "epoch 340: validation loss = 0.027971426993608474\n",
      "epoch 350: validation loss = 0.028878720924258233\n",
      "epoch 360: validation loss = 0.02912648792564869\n",
      "epoch 370: validation loss = 0.027997719347476958\n",
      "epoch 380: validation loss = 0.0287780332416296\n",
      "epoch 390: validation loss = 0.02758698530495167\n",
      "epoch 400: global loss = 0.02229909598827362\n",
      "epoch 400: validation loss = 0.028439096316695212\n",
      "epoch 410: validation loss = 0.02925956065952778\n",
      "epoch 420: validation loss = 0.029083097204566002\n",
      "epoch 430: validation loss = 0.0305099231749773\n",
      "epoch 440: validation loss = 0.029616077601909638\n",
      "epoch 450: validation loss = 0.028938966676592827\n",
      "epoch 460: validation loss = 0.027384771764278414\n",
      "epoch 470: validation loss = 0.028496893718838692\n",
      "epoch 480: validation loss = 0.029185415729880333\n",
      "epoch 490: validation loss = 0.028704054474830626\n",
      "epoch 500: global loss = 0.023222507908940315\n",
      "epoch 500: validation loss = 0.02991259936988354\n",
      "epoch 510: validation loss = 0.028830470368266106\n",
      "epoch 520: validation loss = 0.030997219100594522\n",
      "epoch 530: validation loss = 0.030593216478824615\n",
      "epoch 540: validation loss = 0.028152602463960646\n",
      "epoch 550: validation loss = 0.03043225522339344\n",
      "epoch 560: validation loss = 0.029519972652196885\n",
      "epoch 570: validation loss = 0.030174125254154204\n",
      "epoch 580: validation loss = 0.03062416994571686\n",
      "epoch 590: validation loss = 0.028862364634871483\n",
      "epoch 600: global loss = 0.02250288985669613\n",
      "epoch 600: validation loss = 0.02980319684743881\n",
      "epoch 610: validation loss = 0.03072444587945938\n",
      "epoch 620: validation loss = 0.03052133122086525\n",
      "epoch 630: validation loss = 0.030306488677859306\n",
      "epoch 640: validation loss = 0.028951445445418358\n",
      "epoch 650: validation loss = 0.02992496806383133\n",
      "epoch 660: validation loss = 0.030718949273228647\n",
      "epoch 670: validation loss = 0.029928898394107818\n",
      "epoch 680: validation loss = 0.030694938123226167\n",
      "epoch 690: validation loss = 0.02997307598590851\n",
      "epoch 700: global loss = 0.021754084154963493\n",
      "epoch 700: validation loss = 0.02968202541768551\n",
      "epoch 710: validation loss = 0.029342125564813613\n",
      "epoch 720: validation loss = 0.029188481882214547\n",
      "epoch 730: validation loss = 0.03119017978012562\n",
      "epoch 740: validation loss = 0.03092161490023136\n",
      "epoch 750: validation loss = 0.030542966440320014\n",
      "epoch 760: validation loss = 0.029382214546203614\n",
      "epoch 770: validation loss = 0.031643482953310015\n",
      "epoch 780: validation loss = 0.03057142749428749\n",
      "epoch 790: validation loss = 0.03055196362733841\n",
      "epoch 800: global loss = 0.02193249762058258\n",
      "epoch 800: validation loss = 0.029525124534964562\n",
      "epoch 810: validation loss = 0.03071165519952774\n",
      "epoch 820: validation loss = 0.029145267814397812\n",
      "epoch 830: validation loss = 0.030533265128731727\n",
      "epoch 840: validation loss = 0.03000597943365574\n",
      "epoch 850: validation loss = 0.03485173189640045\n",
      "epoch 860: validation loss = 0.030658725380897523\n",
      "epoch 870: validation loss = 0.03143357126414776\n",
      "epoch 880: validation loss = 0.030601782619953156\n",
      "epoch 890: validation loss = 0.030178674578666687\n",
      "epoch 900: global loss = 0.02208283357322216\n",
      "epoch 900: validation loss = 0.029664145544171332\n",
      "epoch 910: validation loss = 0.030454701349139215\n",
      "epoch 920: validation loss = 0.030163240775465967\n",
      "epoch 930: validation loss = 0.03134202152490616\n",
      "epoch 940: validation loss = 0.029913590654730798\n",
      "epoch 950: validation loss = 0.0300613177716732\n",
      "epoch 960: validation loss = 0.02964599460363388\n",
      "epoch 970: validation loss = 0.03251095530390739\n",
      "epoch 980: validation loss = 0.030286492139101027\n",
      "epoch 990: validation loss = 0.030085650146007538\n",
      "epoch 1000: global loss = 0.023420613259077072\n",
      "epoch 1000: validation loss = 0.03223928526043892\n",
      "epoch 1010: validation loss = 0.031856984704732895\n",
      "epoch 1020: validation loss = 0.03140842697024345\n",
      "epoch 1030: validation loss = 0.030892121240496635\n",
      "epoch 1040: validation loss = 0.032271719455718995\n",
      "epoch 1050: validation loss = 0.030773153886198997\n",
      "epoch 1060: validation loss = 0.030078583687543868\n",
      "epoch 1070: validation loss = 0.030982538551092148\n",
      "epoch 1080: validation loss = 0.03201351270079613\n",
      "epoch 1090: validation loss = 0.03075818935036659\n",
      "epoch 1100: global loss = 0.02186563052237034\n",
      "epoch 1100: validation loss = 0.030713460326194764\n",
      "epoch 1110: validation loss = 0.031100564777851104\n",
      "epoch 1120: validation loss = 0.03170765492320061\n",
      "epoch 1130: validation loss = 0.032292652130126956\n",
      "Training stopped after 1130 epochs with loss = 0.026184393599629402\n",
      "Elapsed: 1588.09 sec\n",
      "\n",
      "Clustering with SSC...\n",
      "---------------------------------\n",
      "Elapsed: 8.24 sec\n",
      "\n"
     ]
    },
    {
     "data": {
      "text/plain": [
       "(0.5069444444444444, 0.3608011954685032, 0.7301063849988567)"
      ]
     },
     "execution_count": 6,
     "metadata": {},
     "output_type": "execute_result"
    }
   ],
   "source": [
    "# 3: Globality Modification (X. Peng et al.)\n",
    "full_model.run_model(images_norm, images_norm_val, labels, \"./saved/models/coil20/test_0.1699\", [32], seed=0, verbose=verb, \\\n",
    "                     trainC=False, symmC=False, \\\n",
    "                     lr=0.001, batch_num=100, alpha1=20, lambda1=0.0001, lambda2=0.001, alpha2=20)"
   ]
  },
  {
   "cell_type": "code",
   "execution_count": 7,
   "metadata": {},
   "outputs": [
    {
     "name": "stdout",
     "output_type": "stream",
     "text": [
      "\n",
      "Finding affinity matrix...\n",
      "-------------------------------------\n",
      "Elapsed: 14.59 sec\n",
      "\n",
      "Training Autoencoder...\n",
      "-----------------------\n",
      "\n",
      "Model loaded from ./saved/models/coil20/test_0.1699.npz\n",
      "\n",
      "epoch 0: global loss = 0.03195493668317795\n",
      "epoch 0: validation loss = 0.03069029862433672\n",
      "epoch 10: validation loss = 0.028500882834196092\n",
      "epoch 20: validation loss = 0.0276404390335083\n",
      "epoch 30: validation loss = 0.02765659937262535\n",
      "epoch 40: validation loss = 0.028448229007422925\n",
      "epoch 50: validation loss = 0.02619444266706705\n",
      "epoch 60: validation loss = 0.03173036649823189\n",
      "epoch 70: validation loss = 0.029366023451089858\n",
      "epoch 80: validation loss = 0.02816110262274742\n",
      "epoch 90: validation loss = 0.026797647386789324\n",
      "epoch 100: global loss = 0.02257845737040043\n",
      "epoch 100: validation loss = 0.02677583062648773\n",
      "epoch 110: validation loss = 0.027983543887734413\n",
      "epoch 120: validation loss = 0.027239738896489143\n",
      "epoch 130: validation loss = 0.026755933180451393\n",
      "epoch 140: validation loss = 0.027292507722973824\n",
      "epoch 150: validation loss = 0.028101136893033982\n",
      "epoch 160: validation loss = 0.027250541716814042\n",
      "epoch 170: validation loss = 0.02734679478406906\n",
      "epoch 180: validation loss = 0.028583388403058053\n",
      "epoch 190: validation loss = 0.03053759379684925\n",
      "Training stopped after 190 epochs with loss = 0.02619444266706705\n",
      "Elapsed: 269.13 sec\n",
      "\n",
      "Clustering with SSC...\n",
      "---------------------------------\n",
      "Elapsed: 8.25 sec\n",
      "\n"
     ]
    },
    {
     "data": {
      "text/plain": [
       "(0.53125, 0.37609396595313616, 0.7786596539681463)"
      ]
     },
     "execution_count": 7,
     "metadata": {},
     "output_type": "execute_result"
    }
   ],
   "source": [
    "# 4: Globality + Symmetric\n",
    "full_model.run_model(images_norm, images_norm_val, labels, \"./saved/models/coil20/test_0.1699\", [32], seed=0, verbose=verb, \\\n",
    "                     trainC=False, symmC=True, \\\n",
    "                     lr=0.001, batch_num=100, alpha1=20, lambda1=0.0001, lambda2=0.001, alpha2=20)"
   ]
  },
  {
   "cell_type": "code",
   "execution_count": 8,
   "metadata": {},
   "outputs": [
    {
     "name": "stdout",
     "output_type": "stream",
     "text": [
      "\n",
      "Training Autoencoder...\n",
      "-----------------------\n",
      "\n",
      "Model loaded from ./saved/models/coil20/test_0.1699.npz\n",
      "\n"
     ]
    },
    {
     "name": "stderr",
     "output_type": "stream",
     "text": [
      "C:\\Program Files\\Anaconda3\\envs\\tensorflow\\lib\\site-packages\\tensorflow\\python\\ops\\gradients_impl.py:100: UserWarning: Converting sparse IndexedSlices to a dense Tensor of unknown shape. This may consume a large amount of memory.\n",
      "  \"Converting sparse IndexedSlices to a dense Tensor of unknown shape. \"\n"
     ]
    },
    {
     "name": "stdout",
     "output_type": "stream",
     "text": [
      "epoch 0: global loss = 0.44912922382354736\n",
      "epoch 0: validation loss = 0.39273501764692487\n",
      "epoch 10: validation loss = 0.34915615561702285\n",
      "epoch 20: validation loss = 0.3620239100337843\n",
      "epoch 30: validation loss = 0.30832715793455717\n",
      "epoch 40: validation loss = 0.3031581530387513\n",
      "epoch 50: validation loss = 0.2882474041043198\n",
      "epoch 60: validation loss = 0.294089601193124\n",
      "epoch 70: validation loss = 0.28579765265525786\n",
      "epoch 80: validation loss = 0.2812188917340245\n",
      "epoch 90: validation loss = 0.27931763162557033\n",
      "epoch 100: global loss = 0.026025256142020226\n",
      "epoch 100: validation loss = 0.27806904684896583\n",
      "epoch 110: validation loss = 0.2756551533565158\n",
      "epoch 120: validation loss = 0.27935419439431275\n",
      "epoch 130: validation loss = 0.2755551355545642\n",
      "epoch 140: validation loss = 0.28396877295195594\n",
      "epoch 150: validation loss = 0.28166572924102656\n",
      "epoch 160: validation loss = 0.28793476766361853\n",
      "epoch 170: validation loss = 0.2866343886343064\n",
      "epoch 180: validation loss = 0.28726347186076456\n",
      "epoch 190: validation loss = 0.2892562114974484\n",
      "epoch 200: global loss = 0.02385968528687954\n",
      "epoch 200: validation loss = 0.2921914425663417\n",
      "Training stopped after 200 epochs with loss = 0.2755551355545642\n",
      "Elapsed: 450.70 sec\n",
      "\n",
      "Clustering with SSC...\n",
      "---------------------------------\n",
      "Elapsed: 2.00 sec\n",
      "\n"
     ]
    },
    {
     "data": {
      "text/plain": [
       "(0.6475694444444444, 0.5943786913346285, 0.8055277883719906)"
      ]
     },
     "execution_count": 8,
     "metadata": {},
     "output_type": "execute_result"
    }
   ],
   "source": [
    "# 5: Conjoined Training Modification (P. Ji et al.)\n",
    "full_model.run_model(images_norm, images_norm_val, labels, \"./saved/models/coil20/test_0.1699\", [32], seed=0, verbose=verb, \\\n",
    "                     trainC=True, giveC=False, \\\n",
    "                     lr=0.001, batch_num=100, lambda1=0.0001, lambda2=0.001, lambda3=0.0001)"
   ]
  },
  {
   "cell_type": "code",
   "execution_count": 9,
   "metadata": {},
   "outputs": [
    {
     "name": "stdout",
     "output_type": "stream",
     "text": [
      "\n",
      "Finding affinity matrix...\n",
      "-------------------------------------\n",
      "Elapsed: 15.32 sec\n",
      "\n",
      "Training Autoencoder...\n",
      "-----------------------\n",
      "\n",
      "Model loaded from ./saved/models/coil20/test_0.1699.npz\n",
      "\n"
     ]
    },
    {
     "name": "stderr",
     "output_type": "stream",
     "text": [
      "C:\\Program Files\\Anaconda3\\envs\\tensorflow\\lib\\site-packages\\tensorflow\\python\\ops\\gradients_impl.py:100: UserWarning: Converting sparse IndexedSlices to a dense Tensor of unknown shape. This may consume a large amount of memory.\n",
      "  \"Converting sparse IndexedSlices to a dense Tensor of unknown shape. \"\n"
     ]
    },
    {
     "name": "stdout",
     "output_type": "stream",
     "text": [
      "epoch 0: global loss = 0.8728331327438354\n",
      "epoch 0: validation loss = 0.0337553030878742\n",
      "epoch 10: validation loss = 0.22262471733228303\n",
      "epoch 20: validation loss = 0.23275269390326575\n",
      "epoch 30: validation loss = 0.2330831478615699\n",
      "Training stopped after 30 epochs with loss = 0.0337553030878742\n",
      "Elapsed: 74.44 sec\n",
      "\n",
      "Clustering with SSC...\n",
      "---------------------------------\n",
      "Elapsed: 1.64 sec\n",
      "\n"
     ]
    },
    {
     "data": {
      "text/plain": [
       "(0.7395833333333334, 0.6061567076356673, 0.9292878314018558)"
      ]
     },
     "execution_count": 9,
     "metadata": {},
     "output_type": "execute_result"
    }
   ],
   "source": [
    "# 6: Conjoined + Initialize\n",
    "full_model.run_model(images_norm, images_norm_val, labels, \"./saved/models/coil20/test_0.1699\", [32], seed=0, verbose=verb, \\\n",
    "                     trainC=True, giveC=True, \\\n",
    "                     lr=0.001, batch_num=100, alpha1=20, lambda1=0.0001, lambda2=0.001, lambda3=0.0001)"
   ]
  }
 ],
 "metadata": {
  "kernelspec": {
   "display_name": "Python 3",
   "language": "python",
   "name": "python3"
  },
  "language_info": {
   "codemirror_mode": {
    "name": "ipython",
    "version": 3
   },
   "file_extension": ".py",
   "mimetype": "text/x-python",
   "name": "python",
   "nbconvert_exporter": "python",
   "pygments_lexer": "ipython3",
   "version": "3.5.6"
  }
 },
 "nbformat": 4,
 "nbformat_minor": 2
}
