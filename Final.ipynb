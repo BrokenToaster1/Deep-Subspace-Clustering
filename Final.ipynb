{
 "cells": [
  {
   "cell_type": "markdown",
   "metadata": {},
   "source": [
    "# Test modification #2"
   ]
  },
  {
   "cell_type": "code",
   "execution_count": 2,
   "metadata": {},
   "outputs": [
    {
     "name": "stdout",
     "output_type": "stream",
     "text": [
      "\n",
      "Starting MATLAB engine...\n",
      "-------------------------\n",
      "Elapsed: 3.02 sec\n"
     ]
    }
   ],
   "source": [
    "from optimize import *"
   ]
  },
  {
   "cell_type": "code",
   "execution_count": null,
   "metadata": {},
   "outputs": [
    {
     "name": "stdout",
     "output_type": "stream",
     "text": [
      "Seed: 0\n",
      "forest:\n",
      "Iteration No: 1 started. Evaluating function at random point.\n",
      "0.0001\n",
      "0.001\n",
      "0.0\n",
      "Iteration No: 1 ended. Evaluation done at random point.\n",
      "Time taken: 70.5913\n",
      "Function value obtained: 0.6332\n",
      "Current minimum: 0.6332\n",
      "Iteration No: 2 started. Evaluating function at random point.\n",
      "0.0001\n",
      "0.001\n",
      "0.0\n"
     ]
    }
   ],
   "source": [
    "optimize_multiple(0, 10, seeds=[0], functions={'forest': forest_minimize}, verb=True)"
   ]
  },
  {
   "cell_type": "markdown",
   "metadata": {},
   "source": [
    "# Optimization stuff"
   ]
  },
  {
   "cell_type": "code",
   "execution_count": 1,
   "metadata": {},
   "outputs": [
    {
     "name": "stdout",
     "output_type": "stream",
     "text": [
      "\n",
      "Starting MATLAB engine...\n",
      "-------------------------\n",
      "Elapsed: 19.48 sec\n"
     ]
    }
   ],
   "source": [
    "from optimize import *"
   ]
  },
  {
   "cell_type": "code",
   "execution_count": null,
   "metadata": {},
   "outputs": [],
   "source": [
    "optimize_multiple(3, 50, verb=True)"
   ]
  },
  {
   "cell_type": "code",
   "execution_count": null,
   "metadata": {},
   "outputs": [],
   "source": [
    "reload_multiple(3, 50, 3, verb=True)"
   ]
  },
  {
   "cell_type": "markdown",
   "metadata": {},
   "source": [
    "# See predicted function"
   ]
  },
  {
   "cell_type": "code",
   "execution_count": null,
   "metadata": {},
   "outputs": [],
   "source": [
    "import matlab.engine\n",
    "from optimize import *\n",
    "from skopt.acquisition import _gaussian_acquisition\n",
    "loaded = load(\"./optims/scenario6/forest_3_50.opt\")"
   ]
  },
  {
   "cell_type": "code",
   "execution_count": null,
   "metadata": {},
   "outputs": [],
   "source": [
    "# how optimizer predicts next value:\n",
    "space = loaded['space']\n",
    "#X = space.transform(space.rvs(n_samples=result.specs['args']['n_points'], random_state=0))\n",
    "X = np.array([[10**(i/5-1), 10**(j/10+1)] for i in range(21) for j in range(14)])\n",
    "values = _gaussian_acquisition(X=X, model=loaded.models[-1], y_opt=np.min(loaded.func_vals),\n",
    "                               acq_func=loaded.specs['args']['acq_func'],\n",
    "                               acq_func_kwargs={\"xi\":loaded.specs['args']['xi'], \"kappa\":loaded.specs['args']['kappa']})"
   ]
  },
  {
   "cell_type": "code",
   "execution_count": null,
   "metadata": {},
   "outputs": [],
   "source": [
    "# how the actual function works\n",
    "out = np.zeros((27, 41))\n",
    "for i in range(27):\n",
    "    maxIter = 10**(i/20.0+1)\n",
    "    for j in range(41):\n",
    "        alpha = 10**(j/20.0-1)\n",
    "        out[i][j] = loaded.models[-1].predict([[alpha, maxIter]])[0]\n",
    "\n",
    "savemat('./hyper_opt.mat', mdict={'surface':out, 'x':loaded.x_iters, 'y':loaded.func_vals})"
   ]
  }
 ],
 "metadata": {
  "kernelspec": {
   "display_name": "Python 3",
   "language": "python",
   "name": "python3"
  },
  "language_info": {
   "codemirror_mode": {
    "name": "ipython",
    "version": 3
   },
   "file_extension": ".py",
   "mimetype": "text/x-python",
   "name": "python",
   "nbconvert_exporter": "python",
   "pygments_lexer": "ipython3",
   "version": "3.5.4"
  }
 },
 "nbformat": 4,
 "nbformat_minor": 2
}
