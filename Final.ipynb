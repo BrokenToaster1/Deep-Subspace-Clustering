{
 "cells": [
  {
   "cell_type": "code",
   "execution_count": 1,
   "metadata": {
    "scrolled": true
   },
   "outputs": [],
   "source": [
    "import importlib\n",
    "import full_model"
   ]
  },
  {
   "cell_type": "code",
   "execution_count": 2,
   "metadata": {},
   "outputs": [
    {
     "name": "stdout",
     "output_type": "stream",
     "text": [
      "\n",
      "Starting MATLAB engine...\n",
      "-------------------------\n",
      "Elapsed: 3.06 sec\n"
     ]
    }
   ],
   "source": [
    "full_model.eng = full_model.start_matlab()"
   ]
  },
  {
   "cell_type": "code",
   "execution_count": 3,
   "metadata": {},
   "outputs": [],
   "source": [
    "images_norm = full_model.loadmat(\"./saved/yaleB.mat\")['X']\n",
    "labels = full_model.loadmat(\"./saved/yaleB.mat\")['Y'].reshape(-1)"
   ]
  },
  {
   "cell_type": "markdown",
   "metadata": {},
   "source": [
    "## Try various Hyperparameter tuning methods\n",
    "* [Scikit-Optimize](https://scikit-optimize.github.io/notebooks/hyperparameter-optimization.html)"
   ]
  },
  {
   "cell_type": "code",
   "execution_count": 4,
   "metadata": {},
   "outputs": [
    {
     "data": {
      "text/plain": [
       "<module 'full_model' from 'C:\\\\Users\\\\aleks_000\\\\Desktop\\\\Mentorship\\\\!GitHub\\\\full_model.py'>"
      ]
     },
     "execution_count": 4,
     "metadata": {},
     "output_type": "execute_result"
    }
   ],
   "source": [
    "importlib.reload(full_model)"
   ]
  },
  {
   "cell_type": "code",
   "execution_count": 5,
   "metadata": {},
   "outputs": [],
   "source": [
    "from skopt.space import Real, Integer\n",
    "\n",
    "space  = [Real(10**-2, 10**0, \"log-uniform\", name='lr_pretrain'),\n",
    "          Real(10**-3, 10**-1, \"log-uniform\", name='lr'),\n",
    "          Real(10**0, 10**2, \"log-uniform\", name='alpha1'),\n",
    "          Integer(2, 32, name='maxIter1'),\n",
    "          Real(10**0, 10**2, \"log-uniform\", name='alpha2'),\n",
    "          Integer(2, 32, name='maxIter2'),]"
   ]
  },
  {
   "cell_type": "code",
   "execution_count": 35,
   "metadata": {},
   "outputs": [],
   "source": [
    "from skopt.utils import use_named_args\n",
    "\n",
    "@use_named_args(space)\n",
    "def objective(**params):\n",
    "    global ep_prtr_, ep_, seed_\n",
    "    try:\n",
    "        return 1-full_model.run_model(images_norm, labels, seed_, ep_prtr_, ep_, **params)[0]\n",
    "        #return params['lr_pretrain']*params['lr']*params['alpha1']*params['alpha2']\n",
    "    except Exception as ex:\n",
    "        if(type(ex) == KeyError):\n",
    "            raise ex\n",
    "        return 1"
   ]
  },
  {
   "cell_type": "code",
   "execution_count": 36,
   "metadata": {},
   "outputs": [],
   "source": [
    "from skopt.plots import plot_convergence\n",
    "from skopt import dummy_minimize\n",
    "import time\n",
    "\n",
    "def optimize(function, iterations, epochs_pretrain, epochs, random_seed):\n",
    "    start_time = time.time()\n",
    "    \n",
    "    # global b/c I couldn't find a better way to directly pass these to the objective function\n",
    "    global ep_prtr_, ep_, seed_\n",
    "    ep_prtr_ = epochs_pretrain\n",
    "    ep_ = epochs\n",
    "    seed_ = random_seed\n",
    "    \n",
    "    # kwargs b/c dummy_minimize can not take n_jobs\n",
    "    kwargs = {\"n_calls\":iterations, \"random_state\":random_seed, \"verbose\":True}\n",
    "    if(function != dummy_minimize):\n",
    "        kwargs[\"n_jobs\"] = -1\n",
    "    res = function(objective, space, **kwargs)\n",
    "\n",
    "    plot_convergence(res, yscale=\"log\")\n",
    "    print(\"\\n------------------\")\n",
    "    print(\"Best score: {0:.4f}\".format(res.fun))\n",
    "    for i in range(10, iterations+1, 10):\n",
    "        print(\"\\t{0:d}: {1:.4f}\".format(i, min(res.func_vals[0:i])))\n",
    "    print(\"Best parameters: {0:}\".format(res.x))\n",
    "    print(\"Total time elapsed: {0:.2f} sec\\n\".format(time.time()-start_time))\n",
    "    return res"
   ]
  },
  {
   "cell_type": "code",
   "execution_count": 8,
   "metadata": {},
   "outputs": [],
   "source": [
    "def asdf(result):\n",
    "    for m in result.models:\n",
    "        print(id(m))"
   ]
  },
  {
   "cell_type": "code",
   "execution_count": 9,
   "metadata": {},
   "outputs": [],
   "source": [
    "def helper(result):\n",
    "    global models_, state_, set_vars_\n",
    "    if(set_vars):\n",
    "        result.models[:-1] = models_[:-1]\n",
    "        result.models[-1] = models_[-1]\n",
    "        result.random_state.set_state(state_)\n",
    "        set_vars_ = False\n",
    "    #asdf(result)"
   ]
  },
  {
   "cell_type": "code",
   "execution_count": 10,
   "metadata": {},
   "outputs": [],
   "source": [
    "def reload(result, addtl_calls):\n",
    "    args = result.specs['args']\n",
    "    args['n_calls'] = addtl_calls\n",
    "    args['n_random_starts'] = 0\n",
    "    args['x0'] = result.x_iters\n",
    "    args['y0'] = result.func_vals\n",
    "    args['random_state'] = None\n",
    "    args['callback'] = helper\n",
    "    global models_, state_, set_vars_\n",
    "    models_ = result.models\n",
    "    state_ = result.random_state.get_state()\n",
    "    set_vars_ = True\n",
    "    return gp_minimize(**args)"
   ]
  },
  {
   "cell_type": "code",
   "execution_count": null,
   "metadata": {},
   "outputs": [],
   "source": [
    "res1 = optimize(gp_minimize, 12, 1, 1, 0)"
   ]
  },
  {
   "cell_type": "code",
   "execution_count": null,
   "metadata": {},
   "outputs": [],
   "source": [
    "res12 = reload(res1, 4)"
   ]
  },
  {
   "cell_type": "code",
   "execution_count": null,
   "metadata": {},
   "outputs": [],
   "source": [
    "res2 = optimize(gp_minimize, 16, 1, 1, 0)"
   ]
  },
  {
   "cell_type": "code",
   "execution_count": null,
   "metadata": {},
   "outputs": [],
   "source": [
    "# Pro-tip:\n",
    "# Program taking too long?\n",
    "# No problem\n",
    "# ----------\n",
    "# For a lossless termination, delete the temp folder,\n",
    "# wait for the code to finish, then create it again\n",
    "# or\n",
    "# Deny Admin permissions to temp.mat,\n",
    "# wait for the code to finish, then remove the restrictions\n",
    "seed = 2\n",
    "iters = 50\n",
    "ep_prtr = 201\n",
    "ep = 101"
   ]
  },
  {
   "cell_type": "code",
   "execution_count": null,
   "metadata": {
    "scrolled": true
   },
   "outputs": [],
   "source": [
    "from skopt import gp_minimize\n",
    "gp = optimize(gp_minimize, iters, ep_prtr, ep, seed)"
   ]
  },
  {
   "cell_type": "code",
   "execution_count": null,
   "metadata": {},
   "outputs": [],
   "source": [
    "from skopt import dummy_minimize\n",
    "dummy = optimize(dummy_minimize, iters, ep_prtr, ep, seed)"
   ]
  },
  {
   "cell_type": "code",
   "execution_count": null,
   "metadata": {},
   "outputs": [],
   "source": [
    "from skopt import forest_minimize\n",
    "forest = optimize(forest_minimize, iters, ep_prtr, ep, seed)"
   ]
  },
  {
   "cell_type": "code",
   "execution_count": null,
   "metadata": {
    "scrolled": false
   },
   "outputs": [],
   "source": [
    "from skopt import gbrt_minimize\n",
    "gbrt = optimize(gbrt_minimize, iters, ep_prtr, ep, seed)"
   ]
  },
  {
   "cell_type": "code",
   "execution_count": 32,
   "metadata": {},
   "outputs": [],
   "source": [
    "from skopt import dump\n",
    "dump(gp, \"optims/scenario0/gp_\" + str(seed) + \"_\" + str(iters) + \".opt\")\n",
    "dump(dummy, \"optims/scenario0/dummy_\" + str(seed) + \"_\" + str(iters) + \".opt\")\n",
    "dump(forest, \"optims/scenario0/forest_\" + str(seed) + \"_\" + str(iters) + \".opt\")\n",
    "dump(gbrt, \"optims/scenario0/gbrt_\" + str(seed) + \"_\" + str(iters) + \".opt\")"
   ]
  },
  {
   "cell_type": "code",
   "execution_count": 28,
   "metadata": {},
   "outputs": [],
   "source": [
    "from skopt import load\n",
    "gp_loaded = load(\"optims/scenario0/gp_\" + str(seed) + \"_\" + str(iters) + \".opt\")\n",
    "dummy_loaded = load(\"optims/scenario0/dummy_\" + str(seed) + \"_\" + str(iters) + \".opt\")\n",
    "forest_loaded = load(\"optims/scenario0/forest_\" + str(seed) + \"_\" + str(iters) + \".opt\")\n",
    "gbrt_loaded = load(\"optims/scenario0/gbrt_\" + str(seed) + \"_\" + str(iters) + \".opt\")"
   ]
  },
  {
   "cell_type": "code",
   "execution_count": null,
   "metadata": {},
   "outputs": [],
   "source": []
  }
 ],
 "metadata": {
  "kernelspec": {
   "display_name": "Python 3",
   "language": "python",
   "name": "python3"
  },
  "language_info": {
   "codemirror_mode": {
    "name": "ipython",
    "version": 3
   },
   "file_extension": ".py",
   "mimetype": "text/x-python",
   "name": "python",
   "nbconvert_exporter": "python",
   "pygments_lexer": "ipython3",
   "version": "3.5.4"
  }
 },
 "nbformat": 4,
 "nbformat_minor": 2
}
