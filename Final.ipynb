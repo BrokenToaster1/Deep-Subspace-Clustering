{
 "cells": [
  {
   "cell_type": "markdown",
   "metadata": {},
   "source": [
    "## Process data"
   ]
  },
  {
   "cell_type": "code",
   "execution_count": 162,
   "metadata": {},
   "outputs": [
    {
     "name": "stdout",
     "output_type": "stream",
     "text": [
      "\n",
      "Loading CIFAR10...\n",
      "----------------\n",
      "Elapsed: 0.44 sec\n"
     ]
    }
   ],
   "source": [
    "import load\n",
    "from scipy.io import loadmat, savemat\n",
    "\n",
    "images, labels = load.load_CIFAR10()"
   ]
  },
  {
   "cell_type": "code",
   "execution_count": 163,
   "metadata": {},
   "outputs": [
    {
     "name": "stdout",
     "output_type": "stream",
     "text": [
      "(60000, 32, 32, 3) uint8\n",
      "(60000,) int32\n"
     ]
    }
   ],
   "source": [
    "print(images.shape, images.dtype)\n",
    "print(labels.shape, labels.dtype)\n",
    "#savemat(\"./saved/raw/CIFAR10.mat\", mdict={'X':images, 'Y':labels})"
   ]
  },
  {
   "cell_type": "code",
   "execution_count": 164,
   "metadata": {},
   "outputs": [
    {
     "name": "stdout",
     "output_type": "stream",
     "text": [
      "\n",
      "Normalizing data...\n",
      "-------------------\n",
      "Elapsed: 1.49 sec\n"
     ]
    }
   ],
   "source": [
    "images_norm = rescale(images)"
   ]
  },
  {
   "cell_type": "code",
   "execution_count": 165,
   "metadata": {},
   "outputs": [
    {
     "name": "stdout",
     "output_type": "stream",
     "text": [
      "(60000, 32, 32, 3) float32\n"
     ]
    }
   ],
   "source": [
    "print(images_norm.shape, images_norm.dtype)\n",
    "#savemat('./saved/rescaled/CIFAR10.mat', mdict={'X':images_norm, 'Y':labels})"
   ]
  },
  {
   "cell_type": "markdown",
   "metadata": {},
   "source": [
    "## SSC Comparison (performance2)"
   ]
  },
  {
   "cell_type": "code",
   "execution_count": 1,
   "metadata": {},
   "outputs": [
    {
     "name": "stdout",
     "output_type": "stream",
     "text": [
      "\n",
      "Loading YaleB...\n",
      "----------------\n",
      "Elapsed: 9.52 sec\n",
      "\n",
      "Loading Coil20...\n",
      "----------------\n",
      "Elapsed: 8.37 sec\n",
      "\n",
      "Loading MNIST...\n",
      "----------------\n",
      "Elapsed: 5.65 sec\n",
      "\n",
      "Loading CIFAR10...\n",
      "----------------\n",
      "Elapsed: 4.89 sec\n"
     ]
    }
   ],
   "source": [
    "import load\n",
    "images_yaleb, labels_yaleb = load.load_YaleB()\n",
    "images_coil, labels_coil = load.load_Coil20()\n",
    "images_mnist, labels_mnist = load.load_MNIST()\n",
    "images_cifar, labels_cifar = load.load_CIFAR10()"
   ]
  },
  {
   "cell_type": "code",
   "execution_count": null,
   "metadata": {},
   "outputs": [],
   "source": [
    "k = len(np.unique(labels))\n",
    "alpha = 20.0\n",
    "maxIter = 63"
   ]
  },
  {
   "cell_type": "code",
   "execution_count": null,
   "metadata": {},
   "outputs": [],
   "source": [
    "if(not trainC):\n",
    "    savemat('./temp.mat', mdict={'X': images_HM2})\n",
    "else:\n",
    "    savemat('./temp.mat', mdict={'C': C})\n",
    "grps = eng.SSC_modified(k, 0, False, alpha, False, 1, 1e-20, maxIter, True, 0, trainC)\n",
    "C_after = loadmat(\"./temp.mat\")['C']\n",
    "labels_pred = np.asarray(grps, dtype=np.int32).flatten()"
   ]
  },
  {
   "cell_type": "code",
   "execution_count": null,
   "metadata": {},
   "outputs": [],
   "source": [
    "from supporting_files.ji_zhang import err_rate\n",
    "from sklearn.metrics import normalized_mutual_info_score as nmi\n",
    "from sklearn.metrics import adjusted_rand_score as ari\n",
    "\n",
    "predicted = labels_pred\n",
    "print(\"Accuracy: \", str(1-err_rate(labels, predicted)))\n",
    "print(\"NMI: \", str(nmi(labels, predicted, average_method=\"geometric\")))\n",
    "print(\"ARI: \", str(ari(labels, predicted)))"
   ]
  },
  {
   "cell_type": "markdown",
   "metadata": {},
   "source": [
    "## Process optimization visualization"
   ]
  },
  {
   "cell_type": "code",
   "execution_count": 31,
   "metadata": {},
   "outputs": [
    {
     "name": "stderr",
     "output_type": "stream",
     "text": [
      "C:\\Program Files\\Anaconda3\\envs\\tensorflow\\lib\\site-packages\\scipy\\io\\matlab\\miobase.py:414: FutureWarning: Using a non-tuple sequence for multidimensional indexing is deprecated; use `arr[tuple(seq)]` instead of `arr[seq]`. In the future this will be interpreted as an array index, `arr[np.array(seq)]`, which will result either in an error or a different result.\n",
      "  arr[empties] = ' '\n"
     ]
    }
   ],
   "source": [
    "from figures.hyper_opt import *\n",
    "\n",
    "visual_save(\"optims/scenario21/forest_0_100.opt\", N=8)"
   ]
  }
 ],
 "metadata": {
  "kernelspec": {
   "display_name": "Python 3",
   "language": "python",
   "name": "python3"
  },
  "language_info": {
   "codemirror_mode": {
    "name": "ipython",
    "version": 3
   },
   "file_extension": ".py",
   "mimetype": "text/x-python",
   "name": "python",
   "nbconvert_exporter": "python",
   "pygments_lexer": "ipython3",
   "version": "3.5.6"
  }
 },
 "nbformat": 4,
 "nbformat_minor": 2
}
