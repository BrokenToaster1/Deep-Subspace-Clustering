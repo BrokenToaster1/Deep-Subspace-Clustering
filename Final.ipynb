{
 "cells": [
  {
   "cell_type": "code",
   "execution_count": 1,
   "metadata": {},
   "outputs": [
    {
     "name": "stdout",
     "output_type": "stream",
     "text": [
      "\n",
      "Starting MATLAB engine...\n",
      "-------------------------\n",
      "Elapsed: 3.60 sec\n"
     ]
    }
   ],
   "source": [
    "from optimize import *\n",
    "import full_model"
   ]
  },
  {
   "cell_type": "code",
   "execution_count": 2,
   "metadata": {},
   "outputs": [],
   "source": [
    "data_loaded = loadmat(\"./saved/rescaled/Coil20\")\n",
    "images_norm = data_loaded['X']\n",
    "images_norm_val = data_loaded['X_val']\n",
    "labels = data_loaded['Y'].reshape(-1)\n",
    "labels_val = data_loaded['Y_val'].reshape(-1)"
   ]
  },
  {
   "cell_type": "code",
   "execution_count": 3,
   "metadata": {},
   "outputs": [],
   "source": [
    "verb = True"
   ]
  },
  {
   "cell_type": "code",
   "execution_count": 4,
   "metadata": {},
   "outputs": [
    {
     "name": "stdout",
     "output_type": "stream",
     "text": [
      "\n",
      "Clustering with SSC...\n",
      "---------------------------------\n",
      "Elapsed: 16.92 sec\n",
      "\n"
     ]
    },
    {
     "data": {
      "text/plain": [
       "(0.3706597222222222, 0.2567551677309303, 0.5199574600231254)"
      ]
     },
     "execution_count": 4,
     "metadata": {},
     "output_type": "execute_result"
    }
   ],
   "source": [
    "# 1: SSC\n",
    "full_model.run_ssc(images_norm, labels, seed=0, verbose=verb, alpha=20)"
   ]
  },
  {
   "cell_type": "code",
   "execution_count": 10,
   "metadata": {
    "scrolled": true
   },
   "outputs": [
    {
     "name": "stdout",
     "output_type": "stream",
     "text": [
      "\n",
      "Training Autoencoder...\n",
      "-----------------------\n",
      "\n",
      "Model loaded from ./saved/models/coil20/256.64_10000.10.3_0.2098.npz\n",
      "\n",
      "epoch 0: global loss = 0.01978330872952938\n",
      "epoch 0: validation loss = 0.021735496543347835\n",
      "epoch 10: validation loss = 0.017427007280290126\n",
      "epoch 20: validation loss = 0.016834917396306992\n",
      "epoch 30: validation loss = 0.015834200970828532\n",
      "epoch 40: validation loss = 0.014944336891174316\n",
      "epoch 50: validation loss = 0.014804205685853958\n",
      "epoch 60: validation loss = 0.014907872810959816\n",
      "epoch 70: validation loss = 0.015223967090249061\n",
      "epoch 80: validation loss = 0.015348573498427867\n",
      "Training stopped after 80 epochs with loss = 0.014804205685853958\n",
      "Elapsed: 34.52 sec\n",
      "\n",
      "Clustering with SSC...\n",
      "---------------------------------\n",
      "Elapsed: 7.70 sec\n",
      "\n"
     ]
    },
    {
     "data": {
      "text/plain": [
       "(0.5364583333333334, 0.3821162213894419, 0.772742896084221)"
      ]
     },
     "execution_count": 10,
     "metadata": {},
     "output_type": "execute_result"
    }
   ],
   "source": [
    "# 2: AE + SSC\n",
    "full_model.run_ae(images_norm, images_norm_val, labels, \"./saved/models/coil20/256.64_10000.10.3_0.2098\", [256, 64, 256], \\\n",
    "                  seed=0, verbose=verb, \\\n",
    "                  lr=0.001, batch_num=100, lambda2=0.001, alpha2=20)"
   ]
  },
  {
   "cell_type": "code",
   "execution_count": 11,
   "metadata": {},
   "outputs": [
    {
     "name": "stdout",
     "output_type": "stream",
     "text": [
      "\n",
      "Finding affinity matrix...\n",
      "-------------------------------------\n",
      "Elapsed: 13.99 sec\n",
      "\n",
      "Training Autoencoder...\n",
      "-----------------------\n",
      "\n",
      "Model loaded from ./saved/models/coil20/256.64_10000.10.3_0.2098.npz\n",
      "\n",
      "epoch 0: global loss = 0.020640797913074493\n",
      "epoch 0: validation loss = 0.022630259588360787\n",
      "epoch 10: validation loss = 0.01792371056228876\n",
      "epoch 20: validation loss = 0.016109331235289574\n",
      "epoch 30: validation loss = 0.016399529933929444\n",
      "epoch 40: validation loss = 0.01629998654127121\n",
      "epoch 50: validation loss = 0.014894240029156208\n",
      "epoch 60: validation loss = 0.016341505214571953\n",
      "epoch 70: validation loss = 0.014479737408459186\n",
      "epoch 80: validation loss = 0.01473504076898098\n",
      "epoch 90: validation loss = 0.01430312155932188\n",
      "epoch 100: global loss = 0.00822578277438879\n",
      "epoch 100: validation loss = 0.014663369238376618\n",
      "epoch 110: validation loss = 0.014454742841422558\n",
      "epoch 120: validation loss = 0.014249518632888794\n",
      "epoch 130: validation loss = 0.013976660557091236\n",
      "epoch 140: validation loss = 0.014118670403957367\n",
      "epoch 150: validation loss = 0.01457412289828062\n",
      "epoch 160: validation loss = 0.01436445115506649\n",
      "epoch 170: validation loss = 0.014572717756032944\n",
      "epoch 180: validation loss = 0.01440796159207821\n",
      "epoch 190: validation loss = 0.01413132780790329\n",
      "epoch 200: global loss = 0.007619194686412811\n",
      "epoch 200: validation loss = 0.015691122651100158\n",
      "epoch 210: validation loss = 0.014512015864253044\n",
      "epoch 220: validation loss = 0.014820736065506936\n",
      "epoch 230: validation loss = 0.01498319935798645\n",
      "epoch 240: validation loss = 0.014258433617651462\n",
      "epoch 250: validation loss = 0.014226719699800015\n",
      "epoch 260: validation loss = 0.014299780160188675\n",
      "epoch 270: validation loss = 0.014526454612612724\n",
      "epoch 280: validation loss = 0.014346716828644275\n",
      "epoch 290: validation loss = 0.014865859806537629\n",
      "epoch 300: global loss = 0.005663996562361717\n",
      "epoch 300: validation loss = 0.014489238776266575\n",
      "epoch 310: validation loss = 0.014527839243412017\n",
      "epoch 320: validation loss = 0.014751878671348095\n",
      "epoch 330: validation loss = 0.015218512803316117\n",
      "Training stopped after 330 epochs with loss = 0.013976660557091236\n",
      "Elapsed: 979.87 sec\n",
      "\n",
      "Clustering with SSC...\n",
      "---------------------------------\n",
      "Elapsed: 9.96 sec\n",
      "\n"
     ]
    },
    {
     "data": {
      "text/plain": [
       "(0.6979166666666666, 0.521314261671978, 0.9295703624840196)"
      ]
     },
     "execution_count": 11,
     "metadata": {},
     "output_type": "execute_result"
    }
   ],
   "source": [
    "# 3: Globality Modification (X. Peng et al.)\n",
    "full_model.run_model(images_norm, images_norm_val, labels, \"./saved/models/coil20/256.64_10000.10.3_0.2098\", [256, 64, 256], \\\n",
    "                     seed=0, verbose=verb, \\\n",
    "                     trainC=False, symmC=False, \\\n",
    "                     lr=0.001, batch_num=100, alpha1=20, lambda1=0.0001, lambda2=0.001, alpha2=20)"
   ]
  },
  {
   "cell_type": "code",
   "execution_count": 12,
   "metadata": {},
   "outputs": [
    {
     "name": "stdout",
     "output_type": "stream",
     "text": [
      "\n",
      "Finding affinity matrix...\n",
      "-------------------------------------\n",
      "Elapsed: 17.41 sec\n",
      "\n",
      "Training Autoencoder...\n",
      "-----------------------\n",
      "\n",
      "Model loaded from ./saved/models/coil20/256.64_10000.10.3_0.2098.npz\n",
      "\n",
      "epoch 0: global loss = 0.02065088041126728\n",
      "epoch 0: validation loss = 0.02262956738471985\n",
      "epoch 10: validation loss = 0.01789468465000391\n",
      "epoch 20: validation loss = 0.016313261590898038\n",
      "epoch 30: validation loss = 0.015856377720832825\n",
      "epoch 40: validation loss = 0.0158957032635808\n",
      "epoch 50: validation loss = 0.01588597182929516\n",
      "epoch 60: validation loss = 0.014873973429203033\n",
      "epoch 70: validation loss = 0.014325510829687119\n",
      "epoch 80: validation loss = 0.015000482104718686\n",
      "epoch 90: validation loss = 0.015004559263586998\n",
      "epoch 100: global loss = 0.007964791730046272\n",
      "epoch 100: validation loss = 0.014285221017897129\n",
      "epoch 110: validation loss = 0.014173565909266472\n",
      "epoch 120: validation loss = 0.014566946290433407\n",
      "epoch 130: validation loss = 0.01387992361932993\n",
      "epoch 140: validation loss = 0.014801701769232749\n",
      "epoch 150: validation loss = 0.014508356653153896\n",
      "epoch 160: validation loss = 0.014183303214609623\n",
      "epoch 170: validation loss = 0.015654165990650653\n",
      "epoch 180: validation loss = 0.014379572056233882\n",
      "epoch 190: validation loss = 0.014421163477003575\n",
      "epoch 200: global loss = 0.007434946019202471\n",
      "epoch 200: validation loss = 0.015495655588805675\n",
      "epoch 210: validation loss = 0.014610416308045387\n",
      "epoch 220: validation loss = 0.014515898197889327\n",
      "epoch 230: validation loss = 0.014575117588043213\n",
      "epoch 240: validation loss = 0.014387584619224071\n",
      "epoch 250: validation loss = 0.013963912673294544\n",
      "epoch 260: validation loss = 0.014758235469460488\n",
      "epoch 270: validation loss = 0.014263383686542511\n",
      "epoch 280: validation loss = 0.014634780324995518\n",
      "epoch 290: validation loss = 0.014692939527332782\n",
      "epoch 300: global loss = 0.0060986848548054695\n",
      "epoch 300: validation loss = 0.015118686467409133\n",
      "Training stopped after 300 epochs with loss = 0.01387992361932993\n",
      "Elapsed: 1013.85 sec\n",
      "\n",
      "Clustering with SSC...\n",
      "---------------------------------\n",
      "Elapsed: 10.84 sec\n",
      "\n"
     ]
    },
    {
     "data": {
      "text/plain": [
       "(0.6918402777777778, 0.5158682860105374, 0.9376241644570992)"
      ]
     },
     "execution_count": 12,
     "metadata": {},
     "output_type": "execute_result"
    }
   ],
   "source": [
    "# 4: Globality + Symmetric\n",
    "full_model.run_model(images_norm, images_norm_val, labels, \"./saved/models/coil20/256.64_10000.10.3_0.2098\", [256, 64, 256], \\\n",
    "                     seed=0, verbose=verb, \\\n",
    "                     trainC=False, symmC=True, \\\n",
    "                     lr=0.001, batch_num=100, alpha1=20, lambda1=0.0001, lambda2=0.001, alpha2=20)"
   ]
  },
  {
   "cell_type": "code",
   "execution_count": 13,
   "metadata": {},
   "outputs": [
    {
     "name": "stdout",
     "output_type": "stream",
     "text": [
      "\n",
      "Training Autoencoder...\n",
      "-----------------------\n",
      "\n",
      "Model loaded from ./saved/models/coil20/256.64_10000.10.3_0.2098.npz\n",
      "\n"
     ]
    },
    {
     "name": "stderr",
     "output_type": "stream",
     "text": [
      "C:\\Program Files\\Anaconda3\\envs\\tensorflow\\lib\\site-packages\\tensorflow\\python\\ops\\gradients_impl.py:100: UserWarning: Converting sparse IndexedSlices to a dense Tensor of unknown shape. This may consume a large amount of memory.\n",
      "  \"Converting sparse IndexedSlices to a dense Tensor of unknown shape. \"\n"
     ]
    },
    {
     "name": "stdout",
     "output_type": "stream",
     "text": [
      "epoch 0: global loss = 0.4038185775279999\n",
      "epoch 0: validation loss = 0.24334393767775037\n",
      "epoch 10: validation loss = 0.2629563482893049\n",
      "epoch 20: validation loss = 0.2761624835355906\n",
      "epoch 30: validation loss = 0.2868477572818752\n",
      "Training stopped after 30 epochs with loss = 0.24334393767775037\n",
      "Elapsed: 123.43 sec\n",
      "\n",
      "Clustering with SSC...\n",
      "---------------------------------\n",
      "Elapsed: 2.12 sec\n",
      "\n"
     ]
    },
    {
     "data": {
      "text/plain": [
       "(0.8984375, 0.9416083067613024, 1.000186969452425)"
      ]
     },
     "execution_count": 13,
     "metadata": {},
     "output_type": "execute_result"
    }
   ],
   "source": [
    "# 5: Conjoined Training Modification (P. Ji et al.)\n",
    "full_model.run_model(images_norm, images_norm_val, labels, \"./saved/models/coil20/256.64_10000.10.3_0.2098\", [256, 64, 256], \\\n",
    "                     seed=0, verbose=verb, \\\n",
    "                     trainC=True, giveC=False, \\\n",
    "                     lr=0.001, batch_num=100, lambda1=0.0001, lambda2=0.001, lambda3=0.0001)"
   ]
  },
  {
   "cell_type": "code",
   "execution_count": 14,
   "metadata": {},
   "outputs": [
    {
     "name": "stdout",
     "output_type": "stream",
     "text": [
      "\n",
      "Finding affinity matrix...\n",
      "-------------------------------------\n",
      "Elapsed: 16.12 sec\n",
      "\n",
      "Training Autoencoder...\n",
      "-----------------------\n",
      "\n",
      "Model loaded from ./saved/models/coil20/256.64_10000.10.3_0.2098.npz\n",
      "\n"
     ]
    },
    {
     "name": "stderr",
     "output_type": "stream",
     "text": [
      "C:\\Program Files\\Anaconda3\\envs\\tensorflow\\lib\\site-packages\\tensorflow\\python\\ops\\gradients_impl.py:100: UserWarning: Converting sparse IndexedSlices to a dense Tensor of unknown shape. This may consume a large amount of memory.\n",
      "  \"Converting sparse IndexedSlices to a dense Tensor of unknown shape. \"\n"
     ]
    },
    {
     "name": "stdout",
     "output_type": "stream",
     "text": [
      "epoch 0: global loss = 0.870337188243866\n",
      "epoch 0: validation loss = 0.0324306543115119\n",
      "epoch 10: validation loss = 0.1743204322777863\n",
      "epoch 20: validation loss = 0.1923984007066931\n",
      "epoch 30: validation loss = 0.2065767901118961\n",
      "Training stopped after 30 epochs with loss = 0.0324306543115119\n",
      "Elapsed: 116.38 sec\n",
      "\n",
      "Clustering with SSC...\n",
      "---------------------------------\n",
      "Elapsed: 1.83 sec\n",
      "\n"
     ]
    },
    {
     "data": {
      "text/plain": [
       "(0.7404513888888888, 0.6138763778662242, 0.9302361440738176)"
      ]
     },
     "execution_count": 14,
     "metadata": {},
     "output_type": "execute_result"
    }
   ],
   "source": [
    "# 6: Conjoined + Initialize\n",
    "full_model.run_model(images_norm, images_norm_val, labels, \"./saved/models/coil20/256.64_10000.10.3_0.2098\", [256, 64, 256], \\\n",
    "                     seed=0, verbose=verb, \\\n",
    "                     trainC=True, giveC=True, \\\n",
    "                     lr=0.001, batch_num=100, alpha1=20, lambda1=0.0001, lambda2=0.001, lambda3=0.0001)"
   ]
  }
 ],
 "metadata": {
  "kernelspec": {
   "display_name": "Python 3",
   "language": "python",
   "name": "python3"
  },
  "language_info": {
   "codemirror_mode": {
    "name": "ipython",
    "version": 3
   },
   "file_extension": ".py",
   "mimetype": "text/x-python",
   "name": "python",
   "nbconvert_exporter": "python",
   "pygments_lexer": "ipython3",
   "version": "3.5.6"
  }
 },
 "nbformat": 4,
 "nbformat_minor": 2
}
