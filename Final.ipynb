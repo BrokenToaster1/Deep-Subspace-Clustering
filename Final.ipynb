{
 "cells": [
  {
   "cell_type": "code",
   "execution_count": null,
   "metadata": {},
   "outputs": [],
   "source": [
    "from optimize import *"
   ]
  },
  {
   "cell_type": "code",
   "execution_count": null,
   "metadata": {
    "scrolled": false
   },
   "outputs": [],
   "source": [
    "# Python 3.5, 3.6\n",
    "reeval_minimum(0, 50, 1, \"forest\", range(100, 105))\n",
    "reeval_minimum(1, 50, 4, \"dummy\", range(100, 105))\n",
    "reeval_minimum(2, 50, 3, \"forest\", range(100, 105))\n",
    "reeval_minimum(3, 100, 4, \"gbrt\", range(100, 105))"
   ]
  },
  {
   "cell_type": "code",
   "execution_count": null,
   "metadata": {},
   "outputs": [],
   "source": [
    "# Python 2.7\n",
    "reeval_minimum(4, 140, 3, \"gp\", range(100, 105))\n",
    "reeval_minimum(5, 50, 2, \"gp\", range(100, 105))\n",
    "reeval_minimum(6, 50, 3, \"forest\", range(100, 105))\n",
    "reeval_minimum(7, 50, 1, \"gp\", range(100, 105))\n",
    "reeval_minimum(8, 50, 1, \"forest\", range(100, 105))"
   ]
  }
 ],
 "metadata": {
  "kernelspec": {
   "display_name": "Python 3",
   "language": "python",
   "name": "python3"
  },
  "language_info": {
   "codemirror_mode": {
    "name": "ipython",
    "version": 3
   },
   "file_extension": ".py",
   "mimetype": "text/x-python",
   "name": "python",
   "nbconvert_exporter": "python",
   "pygments_lexer": "ipython3",
   "version": "3.5.4"
  }
 },
 "nbformat": 4,
 "nbformat_minor": 2
}
