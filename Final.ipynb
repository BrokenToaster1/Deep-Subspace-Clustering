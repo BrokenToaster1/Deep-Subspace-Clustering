{
 "cells": [
  {
   "cell_type": "markdown",
   "metadata": {},
   "source": [
    "# See predicted function"
   ]
  },
  {
   "cell_type": "code",
   "execution_count": 62,
   "metadata": {},
   "outputs": [],
   "source": [
    "import matlab.engine\n",
    "from optimize import *\n",
    "from skopt.acquisition import _gaussian_acquisition\n",
    "result = load(\"./optims/scenario9/forest_0_400.opt\")"
   ]
  },
  {
   "cell_type": "code",
   "execution_count": 141,
   "metadata": {},
   "outputs": [],
   "source": [
    "N = 1000\n",
    "\n",
    "# K - number of axes\n",
    "# N - number of eval points per axis\n",
    "\n",
    "K = result.space.n_dims\n",
    "if(isinstance(N, int)):\n",
    "    N = (N,) * K"
   ]
  },
  {
   "cell_type": "code",
   "execution_count": 142,
   "metadata": {},
   "outputs": [],
   "source": [
    "# ground-truth\n",
    "truth = {'names': [],\n",
    "         'priors': [],\n",
    "         'x': np.array(result.x_iters),\n",
    "         'y': result.func_vals,\n",
    "         'best': np.where(result.func_vals == result.fun)[0][0] + 1}    # matlab indexing\n",
    "\n",
    "# axes names and values\n",
    "axes = {}\n",
    "\n",
    "for idx in range(K):\n",
    "    dim = result.space.dimensions[idx]\n",
    "    \n",
    "    truth['names'].append(dim.name)\n",
    "    if(dim.prior == 'log-uniform'):\n",
    "        truth['priors'].append('log')\n",
    "        func = np.geomspace\n",
    "    else:\n",
    "        truth['priors'].append('uniform')\n",
    "        func = np.linspace\n",
    "    axes[dim.name] = func(dim.low, dim.high, num=N[idx])"
   ]
  },
  {
   "cell_type": "code",
   "execution_count": 143,
   "metadata": {},
   "outputs": [],
   "source": [
    "# surrogate model\n",
    "surrogate = {'mean': np.zeros(N), 'std': np.zeros(N)}\n",
    "\n",
    "# variable number of for-loops -> recursion\n",
    "def iterate(i, idx, xs, idxs):\n",
    "    if(i >= K):\n",
    "        # base case - evaluate\n",
    "        x = []\n",
    "        for j in range(K):\n",
    "            x.append(axes[truth['names'][j]][idx[j]])\n",
    "        idx2 = tuple(idx)\n",
    "        \n",
    "        # true value and index\n",
    "        xs.append(x)\n",
    "        idxs.append(idx2)\n",
    "        return\n",
    "    for val in range(N[i]):\n",
    "        # recursion - proceed to next dimension\n",
    "        idx.append(val)\n",
    "        iterate(i+1, idx, xs, idxs)\n",
    "        idx.pop()"
   ]
  },
  {
   "cell_type": "code",
   "execution_count": 144,
   "metadata": {},
   "outputs": [],
   "source": [
    "xs = []\n",
    "idxs = []\n",
    "iterate(0, [], xs, idxs)\n",
    "\n",
    "value = result.models[-1].predict(result.space.transform(xs), return_std=True)\n",
    "\n",
    "for i in range(len(idxs)):\n",
    "    surrogate['mean'][idxs[i]] = value[0][i]\n",
    "    surrogate['std'][idxs[i]] = value[1][i]"
   ]
  },
  {
   "cell_type": "code",
   "execution_count": 145,
   "metadata": {},
   "outputs": [
    {
     "name": "stderr",
     "output_type": "stream",
     "text": [
      "C:\\Program Files\\Anaconda3\\envs\\tensorflow\\lib\\site-packages\\scipy\\io\\matlab\\miobase.py:414: FutureWarning: Using a non-tuple sequence for multidimensional indexing is deprecated; use `arr[tuple(seq)]` instead of `arr[seq]`. In the future this will be interpreted as an array index, `arr[np.array(seq)]`, which will result either in an error or a different result.\n",
      "  arr[empties] = ' '\n"
     ]
    }
   ],
   "source": [
    "savemat('./figures/hyper_opt.mat', mdict={'surrogate':surrogate, 'axxes':axes, 'truth':truth}, oned_as='column')"
   ]
  }
 ],
 "metadata": {
  "kernelspec": {
   "display_name": "Python 3",
   "language": "python",
   "name": "python3"
  },
  "language_info": {
   "codemirror_mode": {
    "name": "ipython",
    "version": 3
   },
   "file_extension": ".py",
   "mimetype": "text/x-python",
   "name": "python",
   "nbconvert_exporter": "python",
   "pygments_lexer": "ipython3",
   "version": "3.5.4"
  }
 },
 "nbformat": 4,
 "nbformat_minor": 2
}
