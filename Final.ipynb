{
 "cells": [
  {
   "cell_type": "markdown",
   "metadata": {},
   "source": [
    "# See predicted function"
   ]
  },
  {
   "cell_type": "code",
   "execution_count": 62,
   "metadata": {},
   "outputs": [],
   "source": [
    "import matlab.engine\n",
    "from optimize import *\n",
    "from skopt.acquisition import _gaussian_acquisition\n",
    "result = load(\"./optims/scenario9/forest_0_400.opt\")"
   ]
  },
  {
   "cell_type": "code",
   "execution_count": 71,
   "metadata": {},
   "outputs": [],
   "source": [
    "N = 20\n",
    "\n",
    "# K - number of axes\n",
    "# N - number of eval points per axis\n",
    "\n",
    "K = result.space.n_dims\n",
    "if(isinstance(N, int)):\n",
    "    N = (N,) * K"
   ]
  },
  {
   "cell_type": "code",
   "execution_count": 72,
   "metadata": {},
   "outputs": [],
   "source": [
    "# ground-truth\n",
    "truth = {'names': [],\n",
    "         'priors': [],\n",
    "         'x': np.array(result.x_iters),\n",
    "         'y': result.func_vals,\n",
    "         'best': np.where(result.func_vals == result.fun)[0][0] + 1}    # matlab indexing\n",
    "\n",
    "# axes names and values\n",
    "axes = {}\n",
    "\n",
    "for idx in range(K):\n",
    "    dim = result.space.dimensions[idx]\n",
    "    \n",
    "    truth['names'].append(dim.name)\n",
    "    if(dim.prior == 'log-uniform'):\n",
    "        truth['priors'].append('log')\n",
    "        func = np.geomspace\n",
    "    else:\n",
    "        truth['priors'].append('uniform')\n",
    "        func = np.linspace\n",
    "    axes[dim.name] = func(dim.low, dim.high, num=N[idx])"
   ]
  },
  {
   "cell_type": "code",
   "execution_count": 99,
   "metadata": {},
   "outputs": [],
   "source": [
    "import time\n",
    "\n",
    "# surrogate model\n",
    "surrogate = {'mean': np.zeros(N), 'std': np.zeros(N)}\n",
    "\n",
    "def tick(t):\n",
    "    t2 = time.time()\n",
    "    o = t2 - t\n",
    "    t = t2\n",
    "    return o\n",
    "\n",
    "# variable number of for-loops -> recursion\n",
    "start = time.time()\n",
    "def iterate(i, idx):\n",
    "    t = time.time()\n",
    "    out = 0\n",
    "    inn = 0\n",
    "    if(i >= K):\n",
    "        # base case - evaluate\n",
    "        x = []\n",
    "        for j in range(K):\n",
    "            x.append(axes[truth['names'][j]][idx[j]])\n",
    "        idx2 = tuple(idx)\n",
    "        \n",
    "        out += tick(t)\n",
    "        value = result.models[-1].predict(result.space.transform([x]), return_std=True)\n",
    "        inn += tick(t)\n",
    "        surrogate['mean'][idx2] = value[0][0]\n",
    "        surrogate['std'][idx2] = value[1][0]\n",
    "        return inn, out\n",
    "    for val in range(N[i]):\n",
    "        # recursion - proceed to next dimension\n",
    "        idx.append(val)\n",
    "        re = iterate(i+1, idx)\n",
    "        inn += re[0]\n",
    "        out += re[1]\n",
    "        idx.pop()\n",
    "    return inn, out"
   ]
  },
  {
   "cell_type": "code",
   "execution_count": 100,
   "metadata": {},
   "outputs": [
    {
     "ename": "TypeError",
     "evalue": "'NoneType' object is not subscriptable",
     "output_type": "error",
     "traceback": [
      "\u001b[1;31m---------------------------------------------------------------------------\u001b[0m",
      "\u001b[1;31mTypeError\u001b[0m                                 Traceback (most recent call last)",
      "\u001b[1;32m<timed exec>\u001b[0m in \u001b[0;36m<module>\u001b[1;34m()\u001b[0m\n",
      "\u001b[1;32m<ipython-input-99-c8ca85eab8ba>\u001b[0m in \u001b[0;36miterate\u001b[1;34m(i, idx)\u001b[0m\n\u001b[0;32m     32\u001b[0m         \u001b[1;31m# recursion - proceed to next dimension\u001b[0m\u001b[1;33m\u001b[0m\u001b[1;33m\u001b[0m\u001b[0m\n\u001b[0;32m     33\u001b[0m         \u001b[0midx\u001b[0m\u001b[1;33m.\u001b[0m\u001b[0mappend\u001b[0m\u001b[1;33m(\u001b[0m\u001b[0mval\u001b[0m\u001b[1;33m)\u001b[0m\u001b[1;33m\u001b[0m\u001b[0m\n\u001b[1;32m---> 34\u001b[1;33m         \u001b[0mre\u001b[0m \u001b[1;33m=\u001b[0m \u001b[0miterate\u001b[0m\u001b[1;33m(\u001b[0m\u001b[0mi\u001b[0m\u001b[1;33m+\u001b[0m\u001b[1;36m1\u001b[0m\u001b[1;33m,\u001b[0m \u001b[0midx\u001b[0m\u001b[1;33m)\u001b[0m\u001b[1;33m\u001b[0m\u001b[0m\n\u001b[0m\u001b[0;32m     35\u001b[0m         \u001b[0minn\u001b[0m \u001b[1;33m+=\u001b[0m \u001b[0mre\u001b[0m\u001b[1;33m[\u001b[0m\u001b[1;36m0\u001b[0m\u001b[1;33m]\u001b[0m\u001b[1;33m\u001b[0m\u001b[0m\n\u001b[0;32m     36\u001b[0m         \u001b[0mout\u001b[0m \u001b[1;33m+=\u001b[0m \u001b[0mre\u001b[0m\u001b[1;33m[\u001b[0m\u001b[1;36m0\u001b[0m\u001b[1;33m]\u001b[0m\u001b[1;33m\u001b[0m\u001b[0m\n",
      "\u001b[1;32m<ipython-input-99-c8ca85eab8ba>\u001b[0m in \u001b[0;36miterate\u001b[1;34m(i, idx)\u001b[0m\n\u001b[0;32m     33\u001b[0m         \u001b[0midx\u001b[0m\u001b[1;33m.\u001b[0m\u001b[0mappend\u001b[0m\u001b[1;33m(\u001b[0m\u001b[0mval\u001b[0m\u001b[1;33m)\u001b[0m\u001b[1;33m\u001b[0m\u001b[0m\n\u001b[0;32m     34\u001b[0m         \u001b[0mre\u001b[0m \u001b[1;33m=\u001b[0m \u001b[0miterate\u001b[0m\u001b[1;33m(\u001b[0m\u001b[0mi\u001b[0m\u001b[1;33m+\u001b[0m\u001b[1;36m1\u001b[0m\u001b[1;33m,\u001b[0m \u001b[0midx\u001b[0m\u001b[1;33m)\u001b[0m\u001b[1;33m\u001b[0m\u001b[0m\n\u001b[1;32m---> 35\u001b[1;33m         \u001b[0minn\u001b[0m \u001b[1;33m+=\u001b[0m \u001b[0mre\u001b[0m\u001b[1;33m[\u001b[0m\u001b[1;36m0\u001b[0m\u001b[1;33m]\u001b[0m\u001b[1;33m\u001b[0m\u001b[0m\n\u001b[0m\u001b[0;32m     36\u001b[0m         \u001b[0mout\u001b[0m \u001b[1;33m+=\u001b[0m \u001b[0mre\u001b[0m\u001b[1;33m[\u001b[0m\u001b[1;36m0\u001b[0m\u001b[1;33m]\u001b[0m\u001b[1;33m\u001b[0m\u001b[0m\n\u001b[0;32m     37\u001b[0m         \u001b[0midx\u001b[0m\u001b[1;33m.\u001b[0m\u001b[0mpop\u001b[0m\u001b[1;33m(\u001b[0m\u001b[1;33m)\u001b[0m\u001b[1;33m\u001b[0m\u001b[0m\n",
      "\u001b[1;31mTypeError\u001b[0m: 'NoneType' object is not subscriptable"
     ]
    }
   ],
   "source": [
    "%%time\n",
    "inn, out = iterate(0, [])"
   ]
  },
  {
   "cell_type": "code",
   "execution_count": 61,
   "metadata": {},
   "outputs": [
    {
     "name": "stderr",
     "output_type": "stream",
     "text": [
      "C:\\Program Files\\Anaconda3\\envs\\tensorflow\\lib\\site-packages\\scipy\\io\\matlab\\miobase.py:414: FutureWarning: Using a non-tuple sequence for multidimensional indexing is deprecated; use `arr[tuple(seq)]` instead of `arr[seq]`. In the future this will be interpreted as an array index, `arr[np.array(seq)]`, which will result either in an error or a different result.\n",
      "  arr[empties] = ' '\n"
     ]
    }
   ],
   "source": [
    "savemat('./figures/hyper_opt.mat', mdict={'surrogate':surrogate, 'axxes':axes, 'truth':truth}, oned_as='column')"
   ]
  }
 ],
 "metadata": {
  "kernelspec": {
   "display_name": "Python 3",
   "language": "python",
   "name": "python3"
  },
  "language_info": {
   "codemirror_mode": {
    "name": "ipython",
    "version": 3
   },
   "file_extension": ".py",
   "mimetype": "text/x-python",
   "name": "python",
   "nbconvert_exporter": "python",
   "pygments_lexer": "ipython3",
   "version": "3.5.4"
  }
 },
 "nbformat": 4,
 "nbformat_minor": 2
}
