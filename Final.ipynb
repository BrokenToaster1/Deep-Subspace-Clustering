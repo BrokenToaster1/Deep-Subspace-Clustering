{
 "cells": [
  {
   "cell_type": "markdown",
   "metadata": {},
   "source": [
    "## Data loading"
   ]
  },
  {
   "cell_type": "code",
   "execution_count": 1,
   "metadata": {},
   "outputs": [],
   "source": [
    "import load"
   ]
  },
  {
   "cell_type": "code",
   "execution_count": 2,
   "metadata": {},
   "outputs": [
    {
     "name": "stdout",
     "output_type": "stream",
     "text": [
      "\n",
      "Loading YaleB...\n",
      "----------------\n",
      "Elapsed: 7.75 sec\n",
      "(2350, 192, 168) (2350,)\n"
     ]
    }
   ],
   "source": [
    "yale_images, yale_labels = load.load_YaleB()\n",
    "print(yale_images.shape, yale_labels.shape)"
   ]
  },
  {
   "cell_type": "code",
   "execution_count": 3,
   "metadata": {},
   "outputs": [
    {
     "name": "stdout",
     "output_type": "stream",
     "text": [
      "\n",
      "Loading Coil20...\n",
      "----------------\n",
      "Elapsed: 7.87 sec\n",
      "(1440, 128, 128) (1440,)\n"
     ]
    }
   ],
   "source": [
    "coil_images, coil_labels = load.load_Coil20()\n",
    "print(coil_images.shape, coil_labels.shape)"
   ]
  },
  {
   "cell_type": "code",
   "execution_count": 4,
   "metadata": {},
   "outputs": [
    {
     "name": "stdout",
     "output_type": "stream",
     "text": [
      "\n",
      "Loading MNIST...\n",
      "----------------\n",
      "Elapsed: 4.54 sec\n",
      "(70000, 28, 28) (70000,)\n"
     ]
    }
   ],
   "source": [
    "mnist_images, mnist_labels = load.load_MNIST()\n",
    "print(mnist_images.shape, mnist_labels.shape)"
   ]
  },
  {
   "cell_type": "code",
   "execution_count": 5,
   "metadata": {},
   "outputs": [
    {
     "name": "stdout",
     "output_type": "stream",
     "text": [
      "\n",
      "Loading CIFAR10...\n",
      "----------------\n",
      "Elapsed: 4.18 sec\n",
      "(60000, 32, 32, 3) (60000,)\n"
     ]
    }
   ],
   "source": [
    "cifar_images, cifar_labels = load.load_CIFAR10()\n",
    "print(cifar_images.shape, cifar_labels.shape)"
   ]
  },
  {
   "cell_type": "code",
   "execution_count": null,
   "metadata": {},
   "outputs": [],
   "source": [
    "import matplotlib.pyplot as plt\n",
    "\n",
    "fig, ax = plt.subplots(1, 4)\n",
    "ax[0].imshow(yale_images[0])\n",
    "ax[1].imshow(coil_images[0])\n",
    "ax[2].imshow(mnist_images[0])\n",
    "ax[3].imshow(cifar_images[0])"
   ]
  },
  {
   "cell_type": "markdown",
   "metadata": {},
   "source": [
    "## Process optimization visualization"
   ]
  },
  {
   "cell_type": "code",
   "execution_count": 31,
   "metadata": {},
   "outputs": [
    {
     "name": "stderr",
     "output_type": "stream",
     "text": [
      "C:\\Program Files\\Anaconda3\\envs\\tensorflow\\lib\\site-packages\\scipy\\io\\matlab\\miobase.py:414: FutureWarning: Using a non-tuple sequence for multidimensional indexing is deprecated; use `arr[tuple(seq)]` instead of `arr[seq]`. In the future this will be interpreted as an array index, `arr[np.array(seq)]`, which will result either in an error or a different result.\n",
      "  arr[empties] = ' '\n"
     ]
    }
   ],
   "source": [
    "from figures.hyper_opt import *\n",
    "\n",
    "visual_save(\"optims/scenario21/forest_0_100.opt\", N=8)"
   ]
  }
 ],
 "metadata": {
  "kernelspec": {
   "display_name": "Python 3",
   "language": "python",
   "name": "python3"
  },
  "language_info": {
   "codemirror_mode": {
    "name": "ipython",
    "version": 3
   },
   "file_extension": ".py",
   "mimetype": "text/x-python",
   "name": "python",
   "nbconvert_exporter": "python",
   "pygments_lexer": "ipython3",
   "version": "3.5.6"
  }
 },
 "nbformat": 4,
 "nbformat_minor": 2
}
