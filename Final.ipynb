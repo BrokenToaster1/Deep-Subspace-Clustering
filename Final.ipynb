{
 "cells": [
  {
   "cell_type": "code",
   "execution_count": 1,
   "metadata": {
    "scrolled": true
   },
   "outputs": [],
   "source": [
    "import importlib\n",
    "import full_model"
   ]
  },
  {
   "cell_type": "code",
   "execution_count": 2,
   "metadata": {},
   "outputs": [
    {
     "name": "stdout",
     "output_type": "stream",
     "text": [
      "\n",
      "Starting MATLAB engine...\n",
      "-------------------------\n",
      "Elapsed: 16.22 sec\n"
     ]
    }
   ],
   "source": [
    "full_model.eng = full_model.start_matlab()"
   ]
  },
  {
   "cell_type": "code",
   "execution_count": 3,
   "metadata": {},
   "outputs": [],
   "source": [
    "images_norm = full_model.loadmat(\"./saved/yaleB.mat\")['X']\n",
    "labels = full_model.loadmat(\"./saved/yaleB.mat\")['Y'].reshape(-1)"
   ]
  },
  {
   "cell_type": "markdown",
   "metadata": {},
   "source": [
    "## Try various Hyperparameter tuning methods\n",
    "* [Scikit-Optimize](https://scikit-optimize.github.io/notebooks/hyperparameter-optimization.html)"
   ]
  },
  {
   "cell_type": "code",
   "execution_count": 4,
   "metadata": {},
   "outputs": [
    {
     "data": {
      "text/plain": [
       "<module 'full_model' from 'C:\\\\Users\\\\aleks_000\\\\Desktop\\\\Mentorship\\\\!GitHub\\\\full_model.py'>"
      ]
     },
     "execution_count": 4,
     "metadata": {},
     "output_type": "execute_result"
    }
   ],
   "source": [
    "importlib.reload(full_model)"
   ]
  },
  {
   "cell_type": "code",
   "execution_count": 5,
   "metadata": {},
   "outputs": [],
   "source": [
    "from skopt.space import Real, Integer\n",
    "\n",
    "space  = [Real(10**-2, 10**0, \"log-uniform\", name='lr_pretrain'),\n",
    "          Real(10**-3, 10**-1, \"log-uniform\", name='lr'),\n",
    "          Real(10**0, 10**2, \"log-uniform\", name='alpha1'),\n",
    "          Integer(2, 32, name='maxIter1'),\n",
    "          Real(10**0, 10**2, \"log-uniform\", name='alpha2'),\n",
    "          Integer(2, 32, name='maxIter2'),]"
   ]
  },
  {
   "cell_type": "code",
   "execution_count": 6,
   "metadata": {},
   "outputs": [],
   "source": [
    "from skopt.utils import use_named_args\n",
    "\n",
    "@use_named_args(space)\n",
    "def objective(**params):\n",
    "    try:\n",
    "        return 1-full_model.run_model(images_norm, labels, seed, ep_prtr, ep, **params)[0]\n",
    "        #return params['lr_pretrain']*params['lr']*params['alpha1']*params['alpha2']\n",
    "    except Exception as ex:\n",
    "        if(type(ex) == KeyError):\n",
    "            raise ex\n",
    "        return 1"
   ]
  },
  {
   "cell_type": "code",
   "execution_count": 7,
   "metadata": {},
   "outputs": [],
   "source": [
    "from skopt.plots import plot_convergence\n",
    "import time\n",
    "\n",
    "def optimize(function, iterations, epochs_pretrain, epochs, random_seed):\n",
    "    start_time = time.time()\n",
    "    \n",
    "    # global b/c I couldn't find a better way to directly pass these to the objective function\n",
    "    global ep_prtr, ep, seed\n",
    "    ep_prtr = epochs_pretrain\n",
    "    ep = epochs\n",
    "    seed = random_seed\n",
    "    res = function(objective, space, n_calls=iterations, random_state=random_seed, verbose=True, n_jobs=-1)\n",
    "\n",
    "    plot_convergence(res, yscale=\"log\")\n",
    "    print(\"\\n------------------\")\n",
    "    print(\"Best score: {0:.4f}\".format(res.fun))\n",
    "    for i in range(10, iterations+1, 10):\n",
    "        print(\"\\t{0:d}: {1:.4f}\".format(i, min(res.func_vals[0:i])))\n",
    "    print(\"Best parameters: {0:}\".format(res.x))\n",
    "    print(\"Total time elapsed: {0:.2f} sec\\n\".format(time.time()-start_time))\n",
    "    return res"
   ]
  },
  {
   "cell_type": "code",
   "execution_count": 563,
   "metadata": {},
   "outputs": [],
   "source": [
    "m1 = res1.models[-1]\n",
    "m2 = res1.models[-2]"
   ]
  },
  {
   "cell_type": "code",
   "execution_count": 578,
   "metadata": {},
   "outputs": [
    {
     "name": "stderr",
     "output_type": "stream",
     "text": [
      "c:\\program files\\anaconda3\\envs\\tensorflow\\lib\\site-packages\\sklearn\\utils\\deprecation.py:77: DeprecationWarning: Function rng is deprecated; Attribute rng was deprecated in version 0.19 and will be removed in 0.21.\n",
      "  warnings.warn(msg, category=DeprecationWarning)\n"
     ]
    },
    {
     "data": {
      "text/plain": [
       "b'\\xda^!\\x07L\\x0cu[\\x8b\\xdf'"
      ]
     },
     "execution_count": 578,
     "metadata": {},
     "output_type": "execute_result"
    }
   ],
   "source": [
    "m1.rng.bytes(10)"
   ]
  },
  {
   "cell_type": "code",
   "execution_count": 577,
   "metadata": {},
   "outputs": [
    {
     "name": "stderr",
     "output_type": "stream",
     "text": [
      "c:\\program files\\anaconda3\\envs\\tensorflow\\lib\\site-packages\\sklearn\\utils\\deprecation.py:77: DeprecationWarning: Function rng is deprecated; Attribute rng was deprecated in version 0.19 and will be removed in 0.21.\n",
      "  warnings.warn(msg, category=DeprecationWarning)\n"
     ]
    },
    {
     "data": {
      "text/plain": [
       "b'\\xda^!\\x07L\\x0cu[\\x8b\\xdf'"
      ]
     },
     "execution_count": 577,
     "metadata": {},
     "output_type": "execute_result"
    }
   ],
   "source": [
    "m2.rng.bytes(10)"
   ]
  },
  {
   "cell_type": "code",
   "execution_count": 573,
   "metadata": {},
   "outputs": [],
   "source": [
    "def asdf(result):\n",
    "    for m in result.models:\n",
    "        print(id(m))"
   ]
  },
  {
   "cell_type": "code",
   "execution_count": 572,
   "metadata": {},
   "outputs": [],
   "source": [
    "def helper(result):\n",
    "    global models, state, set_vars\n",
    "    if(set_vars):\n",
    "        result.models[:-1] = models[:-1]\n",
    "        result.models[-1] = models[-1]\n",
    "        result.random_state.set_state(state)\n",
    "        set_vars = False\n",
    "    asdf(result)"
   ]
  },
  {
   "cell_type": "code",
   "execution_count": 557,
   "metadata": {},
   "outputs": [],
   "source": [
    "def reload(result, addtl_calls):\n",
    "    args = result.specs['args']\n",
    "    args['n_calls'] = addtl_calls\n",
    "    args['n_random_starts'] = 0\n",
    "    args['x0'] = result.x_iters\n",
    "    args['y0'] = result.func_vals\n",
    "    args['random_state'] = None\n",
    "    args['callback'] = helper\n",
    "    global models, state, set_vars\n",
    "    models = result.models\n",
    "    state = result.random_state.get_state()\n",
    "    set_vars = True\n",
    "    return gp_minimize(**args)"
   ]
  },
  {
   "cell_type": "code",
   "execution_count": null,
   "metadata": {},
   "outputs": [],
   "source": [
    "res1 = optimize(gp_minimize, 12, 1, 1, 0)"
   ]
  },
  {
   "cell_type": "code",
   "execution_count": null,
   "metadata": {},
   "outputs": [],
   "source": [
    "res12 = reload(res1, 4)"
   ]
  },
  {
   "cell_type": "code",
   "execution_count": null,
   "metadata": {},
   "outputs": [],
   "source": [
    "res2 = optimize(gp_minimize, 16, 1, 1, 0)"
   ]
  },
  {
   "cell_type": "code",
   "execution_count": null,
   "metadata": {
    "scrolled": true
   },
   "outputs": [],
   "source": [
    "from skopt import gp_minimize\n",
    "# Pro-tip:\n",
    "# Program taking too long?\n",
    "# No problem\n",
    "# ----------\n",
    "# For a lossless termination, delete the temp folder,\n",
    "# wait for the code to finish, then create it again\n",
    "# or\n",
    "# Deny Admin permissions to temp.mat,\n",
    "# wait for the code to finish, then remove the restrictions\n",
    "gp_s1_50 = optimize(gp_minimize, 50, 201, 101, 0)"
   ]
  },
  {
   "cell_type": "code",
   "execution_count": 10,
   "metadata": {},
   "outputs": [],
   "source": [
    "from skopt import dummy_minimize\n",
    "dummy_s1_50 = optimize(dummy_minimize, 50, 201, 101, 0)"
   ]
  },
  {
   "cell_type": "code",
   "execution_count": 11,
   "metadata": {},
   "outputs": [],
   "source": [
    "from skopt import forest_minimize\n",
    "forest_s1_50 = optimize(forest_minimize, 50, 201, 101, 0)"
   ]
  },
  {
   "cell_type": "code",
   "execution_count": 12,
   "metadata": {},
   "outputs": [],
   "source": [
    "from skopt import gbrt_minimize\n",
    "gbrt_s1_50 = optimize(gbrt_minimize, 50, 201, 101, 0)"
   ]
  },
  {
   "cell_type": "code",
   "execution_count": null,
   "metadata": {},
   "outputs": [],
   "source": [
    "from skopt import dump\n",
    "dump(gp_s1_50, \"optims/gp_s1_50.opt\")\n",
    "dump(dummy_s1_50, \"optims/dummy_s1_50.opt\")\n",
    "dump(forest_s1_50, \"optims/forest_s1_50.opt\")\n",
    "dump(gbrt_s1_50, \"optims/gbrt_s1_50.opt\")"
   ]
  },
  {
   "cell_type": "code",
   "execution_count": null,
   "metadata": {},
   "outputs": [],
   "source": [
    "from skopt import load\n",
    "gp_s1_50 = load(\"optims/gp_s1_50.opt\")\n",
    "dummy_s1_50 = load(\"optims/dummy_s1_50.opt\")\n",
    "forest_s1_50 = load(\"optims/forest_s1_50.opt\")\n",
    "gbrt_s1_50 = load(\"optims/gbrt_s1_50.opt\")"
   ]
  }
 ],
 "metadata": {
  "kernelspec": {
   "display_name": "Python 3",
   "language": "python",
   "name": "python3"
  },
  "language_info": {
   "codemirror_mode": {
    "name": "ipython",
    "version": 3
   },
   "file_extension": ".py",
   "mimetype": "text/x-python",
   "name": "python",
   "nbconvert_exporter": "python",
   "pygments_lexer": "ipython3",
   "version": "3.5.4"
  }
 },
 "nbformat": 4,
 "nbformat_minor": 2
}
