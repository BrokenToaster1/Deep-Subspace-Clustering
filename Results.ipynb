{
 "cells": [
  {
   "cell_type": "markdown",
   "metadata": {},
   "source": [
    "## Load"
   ]
  },
  {
   "cell_type": "code",
   "execution_count": 10,
   "metadata": {},
   "outputs": [
    {
     "name": "stdout",
     "output_type": "stream",
     "text": [
      "\n",
      "Starting MATLAB engine...\n",
      "-------------------------\n",
      "Elapsed: 22.70 sec\n"
     ]
    }
   ],
   "source": [
    "from optimize import *\n",
    "from full_model import *"
   ]
  },
  {
   "cell_type": "code",
   "execution_count": 11,
   "metadata": {},
   "outputs": [],
   "source": [
    "data_loaded = loadmat(\"./saved/rescaled/Coil20\")\n",
    "images_norm = data_loaded['X']\n",
    "images_norm_val = data_loaded['X_val']\n",
    "labels = data_loaded['Y'].reshape(-1)\n",
    "labels_val = data_loaded['Y_val'].reshape(-1)"
   ]
  },
  {
   "cell_type": "code",
   "execution_count": 12,
   "metadata": {},
   "outputs": [],
   "source": [
    "load_path = \"./saved/models/coil20/256.64_10000.10.3_0.2098\"\n",
    "hidden_dims = [256,64,256]"
   ]
  },
  {
   "cell_type": "code",
   "execution_count": 58,
   "metadata": {},
   "outputs": [],
   "source": [
    "result1 = load(\"./optims/train/1_SSC/256.64_10000.10.3.opt\")\n",
    "result2 = load(\"./optims/train/2_SSC+AE/256.64_10000.10.3.opt\")\n",
    "result3 = load(\"./optims/train/3_Global/256.64_10000.10.3.opt\")\n",
    "result4 = load(\"./optims/train/4_Glob+Symm/256.64_10000.10.3.opt\")\n",
    "result5 = load(\"./optims/train/5_Conjoin/256.64_10000.10.3.opt\")\n",
    "result6 = load(\"./optims/train/6_Conj+Init/256.64_10000.10.3.opt\")"
   ]
  },
  {
   "cell_type": "code",
   "execution_count": 59,
   "metadata": {},
   "outputs": [],
   "source": [
    "results = [result1, result2, result3, result4, result5, result6]"
   ]
  },
  {
   "cell_type": "markdown",
   "metadata": {},
   "source": [
    "## Re-eval"
   ]
  },
  {
   "cell_type": "code",
   "execution_count": 60,
   "metadata": {},
   "outputs": [],
   "source": [
    "optimums = [res_optimum(result)[0] for result in results]"
   ]
  },
  {
   "cell_type": "code",
   "execution_count": 61,
   "metadata": {},
   "outputs": [],
   "source": [
    "models = [run_ssc, run_ae, run_model, run_model, run_model, run_model]"
   ]
  },
  {
   "cell_type": "code",
   "execution_count": 62,
   "metadata": {},
   "outputs": [],
   "source": [
    "spaces = [['alpha'],\n",
    "          ['lr', 'batch_num', 'lambda2', 'alpha2'],\n",
    "          ['lr', 'batch_num', 'alpha1', 'lambda1', 'lambda2', 'alpha2'],\n",
    "          ['lr', 'batch_num', 'alpha1', 'lambda1', 'lambda2', 'alpha2'],\n",
    "          ['lr', 'batch_num', 'lambda1', 'lambda2', 'lambda3'],\n",
    "          ['lr', 'batch_num', 'alpha1', 'lambda1', 'lambda2', 'lambda3']]"
   ]
  },
  {
   "cell_type": "code",
   "execution_count": 63,
   "metadata": {},
   "outputs": [],
   "source": [
    "params = [{'images_norm':images_norm, 'labels':labels},\n",
    "          {'images_norm':images_norm, 'images_norm_val':images_norm_val, 'labels':labels, \\\n",
    "           'load_path':load_path, 'hidden_dims':hidden_dims},\n",
    "          {'images_norm':images_norm, 'images_norm_val':images_norm_val, 'labels':labels, \\\n",
    "           'load_path':load_path, 'hidden_dims':hidden_dims, 'trainC':False, 'symmC':False},\n",
    "          {'images_norm':images_norm, 'images_norm_val':images_norm_val, 'labels':labels, \\\n",
    "           'load_path':load_path, 'hidden_dims':hidden_dims, 'trainC':False, 'symmC':True},\n",
    "          {'images_norm':images_norm, 'images_norm_val':images_norm_val, 'labels':labels, \\\n",
    "           'load_path':load_path, 'hidden_dims':hidden_dims, 'trainC':True, 'giveC':False},\n",
    "          {'images_norm':images_norm, 'images_norm_val':images_norm_val, 'labels':labels, \\\n",
    "           'load_path':load_path, 'hidden_dims':hidden_dims, 'trainC':True, 'giveC':False}]"
   ]
  },
  {
   "cell_type": "code",
   "execution_count": null,
   "metadata": {},
   "outputs": [],
   "source": [
    "from copy import copy\n",
    "\n",
    "def run(idx, hypers=optimums[idx], seed=0, verbose=True):\n",
    "    par = copy(params[idx])\n",
    "    par.update(zip(spaces[idx], hypers))\n",
    "    return models[idx](seed=seed, verbose=verbose, **par)"
   ]
  },
  {
   "cell_type": "code",
   "execution_count": 73,
   "metadata": {},
   "outputs": [],
   "source": [
    "def run_mult(idx, hypers=optimums[idx], seeds=range(100, 105), verbose=False):\n",
    "    log_sum = 0\n",
    "    for seed in seeds:\n",
    "        log_sum += np.log(run(idx, hypers, seed, verbose))\n",
    "    return np.exp(log_sum / len(seeds))"
   ]
  },
  {
   "cell_type": "code",
   "execution_count": 56,
   "metadata": {},
   "outputs": [
    {
     "name": "stdout",
     "output_type": "stream",
     "text": [
      "0 [0.39099743 0.2419614  0.53952853]\n",
      "1 [0.41375444 0.24220494 0.56159482]\n",
      "2 [0.38009483 0.26630685 0.53243602]\n",
      "3 [0.45840264 0.27189531 0.64254757]\n"
     ]
    },
    {
     "name": "stderr",
     "output_type": "stream",
     "text": [
      "C:\\Program Files\\Anaconda3\\envs\\tensorflow\\lib\\site-packages\\tensorflow\\python\\ops\\gradients_impl.py:100: UserWarning: Converting sparse IndexedSlices to a dense Tensor of unknown shape. This may consume a large amount of memory.\n",
      "  \"Converting sparse IndexedSlices to a dense Tensor of unknown shape. \"\n"
     ]
    },
    {
     "name": "stdout",
     "output_type": "stream",
     "text": [
      "4 [0.52811586 0.43392175 0.68967471]\n"
     ]
    }
   ],
   "source": [
    "for idx in range(6):\n",
    "    print(idx, run_mult(idx))"
   ]
  },
  {
   "cell_type": "code",
   "execution_count": 64,
   "metadata": {},
   "outputs": [
    {
     "name": "stderr",
     "output_type": "stream",
     "text": [
      "C:\\Program Files\\Anaconda3\\envs\\tensorflow\\lib\\site-packages\\tensorflow\\python\\ops\\gradients_impl.py:100: UserWarning: Converting sparse IndexedSlices to a dense Tensor of unknown shape. This may consume a large amount of memory.\n",
      "  \"Converting sparse IndexedSlices to a dense Tensor of unknown shape. \"\n"
     ]
    },
    {
     "name": "stdout",
     "output_type": "stream",
     "text": [
      "5 [0.5283546  0.40890772 0.67817871]\n"
     ]
    },
    {
     "ename": "IndexError",
     "evalue": "list index out of range",
     "output_type": "error",
     "traceback": [
      "\u001b[1;31m---------------------------------------------------------------------------\u001b[0m",
      "\u001b[1;31mIndexError\u001b[0m                                Traceback (most recent call last)",
      "\u001b[1;32m<ipython-input-64-134b7cfe0af2>\u001b[0m in \u001b[0;36m<module>\u001b[1;34m()\u001b[0m\n\u001b[0;32m      1\u001b[0m \u001b[1;32mfor\u001b[0m \u001b[0midx\u001b[0m \u001b[1;32min\u001b[0m \u001b[0mrange\u001b[0m\u001b[1;33m(\u001b[0m\u001b[1;36m5\u001b[0m\u001b[1;33m,\u001b[0m \u001b[1;36m7\u001b[0m\u001b[1;33m)\u001b[0m\u001b[1;33m:\u001b[0m\u001b[1;33m\u001b[0m\u001b[0m\n\u001b[1;32m----> 2\u001b[1;33m     \u001b[0mprint\u001b[0m\u001b[1;33m(\u001b[0m\u001b[0midx\u001b[0m\u001b[1;33m,\u001b[0m \u001b[0mrun_mult\u001b[0m\u001b[1;33m(\u001b[0m\u001b[0midx\u001b[0m\u001b[1;33m)\u001b[0m\u001b[1;33m)\u001b[0m\u001b[1;33m\u001b[0m\u001b[0m\n\u001b[0m",
      "\u001b[1;32m<ipython-input-54-7ca2277062fb>\u001b[0m in \u001b[0;36mrun_mult\u001b[1;34m(idx, seeds)\u001b[0m\n\u001b[0;32m      2\u001b[0m     \u001b[0mlog_sum\u001b[0m \u001b[1;33m=\u001b[0m \u001b[1;36m0\u001b[0m\u001b[1;33m\u001b[0m\u001b[0m\n\u001b[0;32m      3\u001b[0m     \u001b[1;32mfor\u001b[0m \u001b[0mseed\u001b[0m \u001b[1;32min\u001b[0m \u001b[0mseeds\u001b[0m\u001b[1;33m:\u001b[0m\u001b[1;33m\u001b[0m\u001b[0m\n\u001b[1;32m----> 4\u001b[1;33m         \u001b[0mlog_sum\u001b[0m \u001b[1;33m+=\u001b[0m \u001b[0mnp\u001b[0m\u001b[1;33m.\u001b[0m\u001b[0mlog\u001b[0m\u001b[1;33m(\u001b[0m\u001b[0mrun\u001b[0m\u001b[1;33m(\u001b[0m\u001b[0midx\u001b[0m\u001b[1;33m,\u001b[0m \u001b[0mseed\u001b[0m\u001b[1;33m,\u001b[0m \u001b[1;32mFalse\u001b[0m\u001b[1;33m)\u001b[0m\u001b[1;33m)\u001b[0m\u001b[1;33m\u001b[0m\u001b[0m\n\u001b[0m\u001b[0;32m      5\u001b[0m     \u001b[1;32mreturn\u001b[0m \u001b[0mnp\u001b[0m\u001b[1;33m.\u001b[0m\u001b[0mexp\u001b[0m\u001b[1;33m(\u001b[0m\u001b[0mlog_sum\u001b[0m \u001b[1;33m/\u001b[0m \u001b[0mlen\u001b[0m\u001b[1;33m(\u001b[0m\u001b[0mseeds\u001b[0m\u001b[1;33m)\u001b[0m\u001b[1;33m)\u001b[0m\u001b[1;33m\u001b[0m\u001b[0m\n",
      "\u001b[1;32m<ipython-input-42-e4e1cc4f7d1c>\u001b[0m in \u001b[0;36mrun\u001b[1;34m(idx, seed, verbose)\u001b[0m\n\u001b[0;32m      2\u001b[0m \u001b[1;33m\u001b[0m\u001b[0m\n\u001b[0;32m      3\u001b[0m \u001b[1;32mdef\u001b[0m \u001b[0mrun\u001b[0m\u001b[1;33m(\u001b[0m\u001b[0midx\u001b[0m\u001b[1;33m,\u001b[0m \u001b[0mseed\u001b[0m\u001b[1;33m=\u001b[0m\u001b[1;36m0\u001b[0m\u001b[1;33m,\u001b[0m \u001b[0mverbose\u001b[0m\u001b[1;33m=\u001b[0m\u001b[1;32mTrue\u001b[0m\u001b[1;33m)\u001b[0m\u001b[1;33m:\u001b[0m\u001b[1;33m\u001b[0m\u001b[0m\n\u001b[1;32m----> 4\u001b[1;33m     \u001b[0mpar\u001b[0m \u001b[1;33m=\u001b[0m \u001b[0mcopy\u001b[0m\u001b[1;33m(\u001b[0m\u001b[0mparams\u001b[0m\u001b[1;33m[\u001b[0m\u001b[0midx\u001b[0m\u001b[1;33m]\u001b[0m\u001b[1;33m)\u001b[0m\u001b[1;33m\u001b[0m\u001b[0m\n\u001b[0m\u001b[0;32m      5\u001b[0m     \u001b[0mpar\u001b[0m\u001b[1;33m.\u001b[0m\u001b[0mupdate\u001b[0m\u001b[1;33m(\u001b[0m\u001b[0mzip\u001b[0m\u001b[1;33m(\u001b[0m\u001b[0mspaces\u001b[0m\u001b[1;33m[\u001b[0m\u001b[0midx\u001b[0m\u001b[1;33m]\u001b[0m\u001b[1;33m,\u001b[0m \u001b[0moptimums\u001b[0m\u001b[1;33m[\u001b[0m\u001b[0midx\u001b[0m\u001b[1;33m]\u001b[0m\u001b[1;33m)\u001b[0m\u001b[1;33m)\u001b[0m\u001b[1;33m\u001b[0m\u001b[0m\n\u001b[0;32m      6\u001b[0m     \u001b[1;32mreturn\u001b[0m \u001b[0mmodels\u001b[0m\u001b[1;33m[\u001b[0m\u001b[0midx\u001b[0m\u001b[1;33m]\u001b[0m\u001b[1;33m(\u001b[0m\u001b[0mseed\u001b[0m\u001b[1;33m=\u001b[0m\u001b[0mseed\u001b[0m\u001b[1;33m,\u001b[0m \u001b[0mverbose\u001b[0m\u001b[1;33m=\u001b[0m\u001b[0mverbose\u001b[0m\u001b[1;33m,\u001b[0m \u001b[1;33m**\u001b[0m\u001b[0mpar\u001b[0m\u001b[1;33m)\u001b[0m\u001b[1;33m\u001b[0m\u001b[0m\n",
      "\u001b[1;31mIndexError\u001b[0m: list index out of range"
     ]
    }
   ],
   "source": []
  },
  {
   "cell_type": "code",
   "execution_count": null,
   "metadata": {},
   "outputs": [],
   "source": [
    "k = len(np.unique(labels))\n",
    "grps = eng.SSC_modified(k, 0, False, 6.0, False, 1, 1e-20, 100, True, -1, False, **mlab_kwargs)\n",
    "labels_pred = np.asarray(grps, dtype=np.int32).flatten()"
   ]
  },
  {
   "cell_type": "markdown",
   "metadata": {},
   "source": [
    "## Sensitivity analysis"
   ]
  },
  {
   "cell_type": "code",
   "execution_count": null,
   "metadata": {},
   "outputs": [
    {
     "name": "stdout",
     "output_type": "stream",
     "text": [
      "[0.607566580310015]\n",
      "[0.607566580310015]\n",
      "[0.607566580310015]\n",
      "[0.607566580310015]\n",
      "[0.607566580310015]\n",
      "[1.9212942239792576]\n",
      "[1.9212942239792576]\n",
      "[1.9212942239792576]\n",
      "[1.9212942239792576]\n",
      "[1.9212942239792576]\n"
     ]
    }
   ],
   "source": [
    "from copy import copy\n",
    "\n",
    "mults = [10**-1, 10**-0.5, 10**0.5, 10**1]\n",
    "for idx in range(len(results)):\n",
    "    # for each model\n",
    "    xs = []\n",
    "    ys = []\n",
    "    hypers = copy(optimums[idx])\n",
    "    for i in range(len(spaces[idx])):\n",
    "        # for each hyperparameter\n",
    "        x = []\n",
    "        y = []\n",
    "        hyper = hypers[i]\n",
    "        for mult in mults:\n",
    "            # for each multiplied value of said hyperparameter\n",
    "            hypers[i] = hyper * mult\n",
    "            x.append(hyper * mult)\n",
    "            y.append(run_mult(idx, hypers))\n",
    "        hypers[i] = hyper\n",
    "        xs.append(x)\n",
    "        ys.append(y)\n",
    "    print(idx, x, y)"
   ]
  },
  {
   "cell_type": "code",
   "execution_count": null,
   "metadata": {},
   "outputs": [],
   "source": []
  }
 ],
 "metadata": {
  "kernelspec": {
   "display_name": "Python 3",
   "language": "python",
   "name": "python3"
  },
  "language_info": {
   "codemirror_mode": {
    "name": "ipython",
    "version": 3
   },
   "file_extension": ".py",
   "mimetype": "text/x-python",
   "name": "python",
   "nbconvert_exporter": "python",
   "pygments_lexer": "ipython3",
   "version": "3.5.6"
  }
 },
 "nbformat": 4,
 "nbformat_minor": 2
}
