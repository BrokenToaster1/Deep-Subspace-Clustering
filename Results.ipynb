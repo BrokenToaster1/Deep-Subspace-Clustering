{
 "cells": [
  {
   "cell_type": "markdown",
   "metadata": {},
   "source": [
    "## Load"
   ]
  },
  {
   "cell_type": "code",
   "execution_count": 1,
   "metadata": {},
   "outputs": [
    {
     "name": "stderr",
     "output_type": "stream",
     "text": [
      "c:\\anaconda3\\envs\\tensorflow-gpu\\lib\\site-packages\\h5py\\__init__.py:36: FutureWarning: Conversion of the second argument of issubdtype from `float` to `np.floating` is deprecated. In future, it will be treated as `np.float64 == np.dtype(float).type`.\n",
      "  from ._conv import register_converters as _register_converters\n"
     ]
    },
    {
     "name": "stdout",
     "output_type": "stream",
     "text": [
      "\n",
      "Starting MATLAB engine...\n",
      "-------------------------\n",
      "Elapsed: 35.72 sec\n"
     ]
    }
   ],
   "source": [
    "from optimize import *\n",
    "from full_model import *"
   ]
  },
  {
   "cell_type": "code",
   "execution_count": 2,
   "metadata": {},
   "outputs": [],
   "source": [
    "data_loaded = loadmat(\"./saved/rescaled/Coil20\")\n",
    "images_norm = data_loaded['X']\n",
    "images_norm_val = data_loaded['X_val']\n",
    "labels = data_loaded['Y'].reshape(-1)\n",
    "labels_val = data_loaded['Y_val'].reshape(-1)"
   ]
  },
  {
   "cell_type": "code",
   "execution_count": 3,
   "metadata": {},
   "outputs": [],
   "source": [
    "load_path = \"./saved/models/coil20/256.64_10000.10.3_0.2098\"\n",
    "hidden_dims = [256,64,256]"
   ]
  },
  {
   "cell_type": "code",
   "execution_count": 4,
   "metadata": {},
   "outputs": [],
   "source": [
    "result1 = load(\"./optims/train/1_SSC/256.64_10000.10.3.opt\")\n",
    "result2 = load(\"./optims/train/2_SSC+AE/256.64_10000.10.3.opt\")\n",
    "result3 = load(\"./optims/train/3_Global/256.64_10000.10.3.opt\")\n",
    "result4 = load(\"./optims/train/4_Glob+Symm/256.64_10000.10.3.opt\")\n",
    "result5 = load(\"./optims/train/5_Conjoin/256.64_10000.10.3.opt\")\n",
    "result6 = load(\"./optims/train/6_Conj+Init/256.64_10000.10.3.opt\")"
   ]
  },
  {
   "cell_type": "code",
   "execution_count": 5,
   "metadata": {},
   "outputs": [],
   "source": [
    "results = [result1, result2, result3, result4, result5, result6]"
   ]
  },
  {
   "cell_type": "markdown",
   "metadata": {},
   "source": [
    "## Re-eval"
   ]
  },
  {
   "cell_type": "code",
   "execution_count": 6,
   "metadata": {},
   "outputs": [],
   "source": [
    "optimums = [res_optimum(result)[0] for result in results]"
   ]
  },
  {
   "cell_type": "code",
   "execution_count": 7,
   "metadata": {},
   "outputs": [],
   "source": [
    "models = [run_ssc, run_ae, run_model, run_model, run_model, run_model]"
   ]
  },
  {
   "cell_type": "code",
   "execution_count": 8,
   "metadata": {},
   "outputs": [],
   "source": [
    "spaces = [['alpha'],\n",
    "          ['lr', 'batch_num', 'lambda2', 'alpha2'],\n",
    "          ['lr', 'batch_num', 'alpha1', 'lambda1', 'lambda2', 'alpha2'],\n",
    "          ['lr', 'batch_num', 'alpha1', 'lambda1', 'lambda2', 'alpha2'],\n",
    "          ['lr', 'batch_num', 'lambda1', 'lambda2', 'lambda3'],\n",
    "          ['lr', 'batch_num', 'alpha1', 'lambda1', 'lambda2', 'lambda3']]"
   ]
  },
  {
   "cell_type": "code",
   "execution_count": 9,
   "metadata": {},
   "outputs": [],
   "source": [
    "params = [{'images_norm':images_norm, 'labels':labels},\n",
    "          {'images_norm':images_norm, 'images_norm_val':images_norm_val, 'labels':labels, \\\n",
    "           'load_path':load_path, 'hidden_dims':hidden_dims},\n",
    "          {'images_norm':images_norm, 'images_norm_val':images_norm_val, 'labels':labels, \\\n",
    "           'load_path':load_path, 'hidden_dims':hidden_dims, 'trainC':False, 'symmC':False},\n",
    "          {'images_norm':images_norm, 'images_norm_val':images_norm_val, 'labels':labels, \\\n",
    "           'load_path':load_path, 'hidden_dims':hidden_dims, 'trainC':False, 'symmC':True},\n",
    "          {'images_norm':images_norm, 'images_norm_val':images_norm_val, 'labels':labels, \\\n",
    "           'load_path':load_path, 'hidden_dims':hidden_dims, 'trainC':True, 'giveC':False},\n",
    "          {'images_norm':images_norm, 'images_norm_val':images_norm_val, 'labels':labels, \\\n",
    "           'load_path':load_path, 'hidden_dims':hidden_dims, 'trainC':True, 'giveC':False}]"
   ]
  },
  {
   "cell_type": "code",
   "execution_count": 13,
   "metadata": {},
   "outputs": [],
   "source": [
    "from copy import copy\n",
    "\n",
    "def run(idx, hypers=None, seed=0, verbose=True):\n",
    "    if(hypers is None):\n",
    "        hypers = optimums[idx]\n",
    "    par = copy(params[idx])\n",
    "    par.update(zip(spaces[idx], hypers))\n",
    "    return models[idx](seed=seed, verbose=verbose, **par)"
   ]
  },
  {
   "cell_type": "code",
   "execution_count": 38,
   "metadata": {},
   "outputs": [],
   "source": [
    "def run_mult(idx, hypers=None, seeds=range(100, 105), verbose=False):\n",
    "    if(hypers is None):\n",
    "        hypers = optimums[idx]\n",
    "    \n",
    "    log_sum = 0\n",
    "    values = []\n",
    "    \n",
    "    for seed in seeds:\n",
    "        value = run(idx, hypers, seed, verbose)\n",
    "        log_sum += np.log(value)\n",
    "        values.append(value)\n",
    "    mean = np.exp(log_sum / len(seeds))\n",
    "    \n",
    "    diff_sum = 0\n",
    "    for value in values:\n",
    "        diff_sum += np.log(value / mean) ** 2\n",
    "    std = np.exp(np.sqrt(diff_sum / len(seeds)))\n",
    "    \n",
    "    return mean, std"
   ]
  },
  {
   "cell_type": "code",
   "execution_count": 37,
   "metadata": {
    "scrolled": true
   },
   "outputs": [
    {
     "name": "stdout",
     "output_type": "stream",
     "text": [
      "0 (array([0.15255458, 0.05621323, 0.19031127]), array([1.02554728, 1.05345709, 1.05838865]))\n",
      "1 (array([0.13918033, 0.04691573, 0.17081291]), array([1.04099483, 1.01683183, 1.0124997 ]))\n",
      "2 (array([0.19403063, 0.07919506, 0.2416942 ]), array([1.18145403, 1.12877655, 1.21602755]))\n",
      "3 (array([0.21314304, 0.06540353, 0.22601901]), array([1.06851282, 1.1038804 , 1.12400808]))\n"
     ]
    },
    {
     "name": "stderr",
     "output_type": "stream",
     "text": [
      "c:\\anaconda3\\envs\\tensorflow-gpu\\lib\\site-packages\\tensorflow\\python\\ops\\gradients_impl.py:96: UserWarning: Converting sparse IndexedSlices to a dense Tensor of unknown shape. This may consume a large amount of memory.\n",
      "  \"Converting sparse IndexedSlices to a dense Tensor of unknown shape. \"\n"
     ]
    },
    {
     "name": "stdout",
     "output_type": "stream",
     "text": [
      "4 (array([0.34570456, 0.24199661, 0.41580567]), array([1.06879385, 1.08034589, 1.0700674 ]))\n",
      "5 (array([0.33234488, 0.24583892, 0.41173368]), array([1.09216602, 1.08469467, 1.08538846]))\n"
     ]
    }
   ],
   "source": [
    "for idx in range(6):\n",
    "    print(idx, run_mult(idx, seeds=range(100, 130)))"
   ]
  },
  {
   "cell_type": "markdown",
   "metadata": {},
   "source": [
    "## Sensitivity analysis"
   ]
  },
  {
   "cell_type": "code",
   "execution_count": 21,
   "metadata": {},
   "outputs": [
    {
     "name": "stdout",
     "output_type": "stream",
     "text": [
      "0 [[0.7354101963496097, 2.325571234976412, 23.25571234976412, 73.54101963496096]] [[array([0.94444444, 0.91872887, 0.9996679 ]), array([0.82690651, 0.63888266, 0.97736735]), array([0.24322518, 0.12210265, 0.31450403]), array([0.43633952, 0.2282624 , 0.642591  ])]]\n",
      "1 [[4.004277562598502e-06, 1.2662637481318733e-05, 0.00012662637481318734, 0.00040042775625985023], [2, 6, 63, 200], [0.002694794548503328, 0.008521688599475608, 0.08521688599475609, 0.26947945485033276], [0.29412978394240047, 0.9301200449512051, 9.301200449512052, 29.412978394240046]] [[array([0.15034682, 0.05050148, 0.17719993]), array([0.1484375 , 0.04830346, 0.17462973]), array([0.15949283, 0.05480618, 0.19216263]), array([0.13847535, 0.06508809, 0.25139915])], [array([0.14009817, 0.05061405, 0.17506718]), array([0.14079282, 0.05024343, 0.17509831]), array([0.13721832, 0.0467222 , 0.16984892]), array([0.14096834, 0.05053155, 0.1796922 ])], [array([0.15585382, 0.04866179, 0.17920832]), array([0.17001367, 0.05011462, 0.18511271]), array([0.1441826 , 0.05265783, 0.18607398]), array([0.15972222, 0.05043196, 0.18181326])], [array([0.94444444, 0.91872887, 0.9996679 ]), array([0.94444444, 0.91872887, 0.9996679 ]), array([0.39129366, 0.19198328, 0.55610607]), array([0.68082302, 0.38990303, 0.88174926])]]\n",
      "2 [[0.00029827932498277835, 0.0009432420458831438, 0.009432420458831439, 0.02982793249827783], [1, 2, 28, 90], [8.773431686907871, 27.74402702652214, 277.44027026522144, 877.3431686907871], [0.31241437056633203, 0.9879409847574775, 9.879409847574776, 31.241437056633202], [0.0006142761694486912, 0.001942511807821402, 0.01942511807821402, 0.06142761694486912], [0.4104140600442313, 1.2978432134968765, 12.978432134968765, 41.04140600442313]] [[array([0.156076  , 0.06270122, 0.17980412]), array([0.2168092 , 0.08759542, 0.24091759]), array([0.87407539, 0.65398349, 0.95812859]), array([0.94444444, 0.91872887, 0.9996679 ])], [array([0.20133091, 0.07519207, 0.25704473]), array([0.16987745, 0.0731724 , 0.20490258]), array([0.20051888, 0.07522367, 0.26396081]), array([0.34601879, 0.18030127, 0.46872032])], [array([0.14301847, 0.05498177, 0.17497814]), array([0.19271831, 0.07563799, 0.24609783]), array([0.14329586, 0.04959175, 0.1703629 ]), array([0.14128311, 0.04828729, 0.17064383])], [array([0.16042189, 0.05180311, 0.18280205]), array([0.17419258, 0.0565381 , 0.19227899]), array([0.20827904, 0.08745365, 0.24310182]), array([0.19743387, 0.09422557, 0.237769  ])], [array([0.16718431, 0.07433989, 0.20563751]), array([0.21086522, 0.08482963, 0.26148529]), array([0.17755063, 0.06749087, 0.22177869]), array([0.19497917, 0.0746592 , 0.22985609])], [array([0.94444444, 0.91872887, 0.9996679 ]), array([0.8964624 , 0.76087056, 0.99387767]), array([0.34192782, 0.15561485, 0.43016188]), array([0.5390109 , 0.27728872, 0.69864365])]]\n",
      "3 [[0.00011918332008628392, 0.0003768907505735529, 0.003768907505735529, 0.011918332008628392], [4, 13, 135, 430], [97.15681077230266, 307.2368122384592, 3072.3681223845924, 9715.681077230265], [0.028789062179205856, 0.09103900818650107, 0.9103900818650108, 2.8789062179205853], [0.006749082370202175, 0.021342472405926596, 0.21342472405926596, 0.6749082370202175], [0.3076821250432061, 0.9729763104572644, 9.729763104572644, 30.76821250432061]] [[array([0.21407723, 0.08047718, 0.27095858]), array([0.22498527, 0.06993993, 0.24811417]), array([0.20616659, 0.08121012, 0.2866788 ]), array([0.94444444, 0.91872887, 0.9996679 ])], [array([0.22902323, 0.07481357, 0.27860201]), array([0.20171922, 0.06174464, 0.21089767]), array([0.22511455, 0.06894581, 0.24460028]), array([0.40748182, 0.1883594 , 0.58947412])], [array([0.20148137, 0.06293968, 0.21308231]), array([0.18812991, 0.06055376, 0.20739651]), array([0.21798975, 0.07007707, 0.24681105]), array([0.20981689, 0.0619046 , 0.21700918])], [array([0.22344447, 0.06518043, 0.24196078]), array([0.19422233, 0.06422945, 0.20605718]), array([0.19850393, 0.0607347 , 0.21169406]), array([0.19747462, 0.06154159, 0.21194031])], [array([0.19523893, 0.06587357, 0.21884708]), array([0.22015199, 0.06848492, 0.23508005]), array([0.19615686, 0.06201178, 0.20979438]), array([0.17712266, 0.05736334, 0.19610465])], [array([0.94444444, 0.91872887, 0.9996679 ]), array([0.94444444, 0.91872887, 0.9996679 ]), array([0.6032023 , 0.32023708, 0.79911507]), array([0.75625792, 0.46866462, 0.9304284 ])]]\n"
     ]
    },
    {
     "name": "stderr",
     "output_type": "stream",
     "text": [
      "c:\\anaconda3\\envs\\tensorflow-gpu\\lib\\site-packages\\tensorflow\\python\\ops\\gradients_impl.py:96: UserWarning: Converting sparse IndexedSlices to a dense Tensor of unknown shape. This may consume a large amount of memory.\n",
      "  \"Converting sparse IndexedSlices to a dense Tensor of unknown shape. \"\n"
     ]
    },
    {
     "name": "stdout",
     "output_type": "stream",
     "text": [
      "4 [[0.0002636778074047182, 0.0008338224398381208, 0.008338224398381208, 0.026367780740471816], [1, 1, 12, 40], [0.12197508538591706, 0.3857190876130161, 3.857190876130161, 12.197508538591705], [9.037961288138778e-05, 0.00028580543074947887, 0.002858054307494789, 0.009037961288138777], [75.079256151631, 237.42145447036208, 2374.214544703621, 7507.9256151631]] [[array([0.37574675, 0.27279462, 0.46036837]), array([0.35703653, 0.25655805, 0.43980386]), array([0.38150336, 0.27798127, 0.46508142]), array([0.60192431, 0.60638413, 0.76474539])], [array([0.38010703, 0.2647863 , 0.45985658]), array([0.38010703, 0.2647863 , 0.45985658]), array([0.37531015, 0.28124531, 0.46199893]), array([0.40806951, 0.3248356 , 0.52060303])], [array([0.35978478, 0.26525376, 0.44929495]), array([0.3556135 , 0.24597259, 0.4287906 ]), array([0.3605308 , 0.25532803, 0.44326583]), array([0.34466677, 0.25001647, 0.41451403])], [array([0.35203035, 0.23653527, 0.41318626]), array([0.34500979, 0.23649211, 0.40920635]), array([0.34724172, 0.24037115, 0.41830014]), array([0.34290142, 0.24010045, 0.41241959])], [array([0.37416199, 0.28516106, 0.47231864]), array([0.35178213, 0.25579564, 0.43498381]), array([0.31880227, 0.2400565 , 0.4001637 ]), array([0.36076178, 0.2719795 , 0.44601023])]]\n",
      "5 [[3.4530957843208805e-05, 0.0001091964765717953, 0.001091964765717953, 0.0034530957843208806], [15, 47, 477, 1510], [1.115272752333169, 3.526802109697682, 35.268021096976824, 111.5272752333169], [0.5620971112367532, 1.7775071377091651, 17.775071377091653, 56.20971112367532], [0.00020488085880099625, 0.0006478901627825025, 0.006478901627825025, 0.020488085880099625], [10.888476364148701, 34.43238555961885, 344.32385559618854, 1088.84763641487]] [[array([0.41676192, 0.30741817, 0.51246367]), array([0.36924673, 0.27165092, 0.46331676]), array([0.5084302 , 0.46651359, 0.64446905]), array([0.88575241, 0.92899213, 0.99592443])], [array([0.37044574, 0.27115328, 0.45995576]), array([0.36581879, 0.26212969, 0.44187874]), array([0.33275412, 0.26186399, 0.41606545]), array([0.43321827, 0.39672737, 0.54938994])], [array([0.31962028, 0.23985905, 0.39697733]), array([0.31962028, 0.23985905, 0.39697733]), array([0.31962028, 0.23985905, 0.39697733]), array([0.31962028, 0.23985905, 0.39697733])], [array([0.39375369, 0.31625162, 0.50655449]), array([0.34883957, 0.27604655, 0.44837021]), array([0.32436462, 0.23943125, 0.39280977]), array([0.41740114, 0.31401266, 0.49068762])], [array([0.36366204, 0.25067039, 0.43192499]), array([0.33479153, 0.25549569, 0.41688562]), array([0.33038548, 0.23760924, 0.40806747]), array([0.31989926, 0.23374887, 0.38707003])], [array([0.45647417, 0.40074778, 0.56634953]), array([0.39189798, 0.31265741, 0.49303241]), array([0.34550635, 0.27265122, 0.43571218]), array([0.47110223, 0.39445007, 0.58281876])]]\n"
     ]
    }
   ],
   "source": [
    "from copy import copy\n",
    "\n",
    "mults = [10**-1, 10**-0.5, 10**0.5, 10**1]\n",
    "for idx in range(len(results)):\n",
    "    # for each model\n",
    "    xs = []\n",
    "    ys = []\n",
    "    hypers = copy(optimums[idx])\n",
    "    for i in range(len(spaces[idx])):\n",
    "        # for each hyperparameter\n",
    "        x = []\n",
    "        y = []\n",
    "        hyper = hypers[i]\n",
    "        for mult in mults:\n",
    "            # for each multiplied value of said hyperparameter\n",
    "            new_hyper = hyper * mult\n",
    "            if(spaces[idx][i] == 'batch_num'):\n",
    "                new_hyper = int(new_hyper)\n",
    "                if(new_hyper <= 0):\n",
    "                    new_hyper = 1\n",
    "            hypers[i] = new_hyper\n",
    "            x.append(new_hyper)\n",
    "            y.append(run_mult(idx, hypers, seeds=range(100, 105)))\n",
    "        hypers[i] = hyper\n",
    "        xs.append(x)\n",
    "        ys.append(y)\n",
    "    print(idx, xs, ys)"
   ]
  }
 ],
 "metadata": {
  "kernelspec": {
   "display_name": "Python 3",
   "language": "python",
   "name": "python3"
  },
  "language_info": {
   "codemirror_mode": {
    "name": "ipython",
    "version": 3
   },
   "file_extension": ".py",
   "mimetype": "text/x-python",
   "name": "python",
   "nbconvert_exporter": "python",
   "pygments_lexer": "ipython3",
   "version": "3.5.6"
  }
 },
 "nbformat": 4,
 "nbformat_minor": 2
}
