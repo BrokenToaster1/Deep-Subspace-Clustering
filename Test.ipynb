{
 "cells": [
  {
   "cell_type": "markdown",
   "metadata": {},
   "source": [
    "# Re-evaluate functions and compare\n",
    "* Previous optimizations over other seeds\n",
    "* Check if Octave underperforms"
   ]
  },
  {
   "cell_type": "markdown",
   "metadata": {},
   "source": [
    "## Function minimum"
   ]
  },
  {
   "cell_type": "code",
   "execution_count": 1,
   "metadata": {},
   "outputs": [
    {
     "data": {
      "text/plain": [
       "[0.00010334762307546188,\n",
       " 1.5415805242432643e-05,\n",
       " 14.519110660781786,\n",
       " 93,\n",
       " 6.1054043480560045,\n",
       " 40]"
      ]
     },
     "execution_count": 1,
     "metadata": {},
     "output_type": "execute_result"
    }
   ],
   "source": [
    "from skopt import load\n",
    "def objective():\n",
    "    pass\n",
    "mult = [load(\"./optims/scenario3/gbrt_\" + str(seed) + \"_100.opt\") for seed in range(5)]\n",
    "best = mult[4]\n",
    "best.x"
   ]
  },
  {
   "cell_type": "code",
   "execution_count": 2,
   "metadata": {},
   "outputs": [
    {
     "data": {
      "text/plain": [
       "[0.00010334762307546188,\n",
       " 1.5415805242432643e-05,\n",
       " 14.519110660781786,\n",
       " 93,\n",
       " 6.1054043480560045,\n",
       " 40]"
      ]
     },
     "execution_count": 2,
     "metadata": {},
     "output_type": "execute_result"
    }
   ],
   "source": [
    "import numpy as np\n",
    "best.x_iters[np.argmin(best.func_vals)]"
   ]
  },
  {
   "cell_type": "markdown",
   "metadata": {},
   "source": [
    "## Cumulative function optimum"
   ]
  },
  {
   "cell_type": "code",
   "execution_count": 3,
   "metadata": {},
   "outputs": [
    {
     "name": "stdout",
     "output_type": "stream",
     "text": [
      "\n",
      "Starting MATLAB engine...\n",
      "-------------------------\n",
      "Elapsed: 32.11 sec\n"
     ]
    }
   ],
   "source": [
    "from optimize import res_optimum, res_optimum_mult"
   ]
  },
  {
   "cell_type": "code",
   "execution_count": 4,
   "metadata": {},
   "outputs": [
    {
     "data": {
      "text/plain": [
       "([0.0002109673047643446,\n",
       "  0.05723377028423132,\n",
       "  409.1369490061136,\n",
       "  170,\n",
       "  0.9280712004527215,\n",
       "  93],\n",
       " 0.5977239534927569)"
      ]
     },
     "execution_count": 4,
     "metadata": {},
     "output_type": "execute_result"
    }
   ],
   "source": [
    "res_optimum(best)"
   ]
  },
  {
   "cell_type": "code",
   "execution_count": 5,
   "metadata": {},
   "outputs": [
    {
     "data": {
      "text/plain": [
       "([0.0010898482519426577,\n",
       "  0.0039172298798781716,\n",
       "  2.547687882806528,\n",
       "  24,\n",
       "  506.27253684590727,\n",
       "  174],\n",
       " 0.5484916099100569)"
      ]
     },
     "execution_count": 5,
     "metadata": {},
     "output_type": "execute_result"
    }
   ],
   "source": [
    "res_optimum_mult(mult)"
   ]
  },
  {
   "cell_type": "markdown",
   "metadata": {},
   "source": [
    "## Evaluate Minimum"
   ]
  },
  {
   "cell_type": "code",
   "execution_count": null,
   "metadata": {},
   "outputs": [],
   "source": [
    "import full_model\n",
    "from skopt import load\n",
    "from scipy.io import loadmat\n",
    "from math import log10\n",
    "\n",
    "function = full_model.run_model\n",
    "dataset = \"Coil20.mat\"\n",
    "ep_prtr = 1001\n",
    "ep = 251\n",
    "arg_names = [\"lr_pretrain\", \"lr\", \"alpha1\", \"maxIter1\", \"lambda1\", \"lambda2\", \"alpha2\", \"maxIter2\"]\n",
    "arg_vals = load(\"./optims/scenario4/gp_3_140.opt\")\n",
    "\n",
    "args = dict(zip(arg_names, arg_vals))\n",
    "data_loaded = loadmat(\"./saved/processed/\" + dataset)\n",
    "images_norm = data_loaded['X']\n",
    "labels = data_loaded['Y'].reshape(-1)\n",
    "\n",
    "total = 1.0\n",
    "for seed in range(100, 105):\n",
    "    print(seed)\n",
    "    value = 1-function(images_norm, labels, seed, ep_prtr, ep, **args, verbose=False)[0]\n",
    "    print(\"value:\", value)\n",
    "    total *= value\n",
    "\n",
    "print(\"AVERAGE:\", total**0.2)\n",
    "\n",
    "function = full_model.run_ssc\n",
    "dataset = \"yaleB.mat\"\n",
    "arg_names = [\"alpha1\", \"maxIter1\"]\n",
    "arg_vals = load(\"./optims/scenario5/gp_2_50.opt\")\n",
    "\n",
    "args = dict(zip(arg_names, arg_vals))\n",
    "data_loaded = loadmat(\"./saved/processed/\" + dataset)\n",
    "images_norm = data_loaded['X']\n",
    "labels = data_loaded['Y'].reshape(-1)\n",
    "\n",
    "total = 1.0\n",
    "for seed in range(100, 105):\n",
    "    print(seed)\n",
    "    value = 1-function(images_norm, labels, seed, ep_prtr, ep, **args, verbose=False)[0]\n",
    "    print(\"value:\", value)\n",
    "    total *= value\n",
    "\n",
    "print(\"AVERAGE:\", total**0.2)\n",
    "\n",
    "function = full_model.run_ssc\n",
    "dataset = \"Coil20.mat\"\n",
    "arg_names = [\"alpha1\", \"maxIter1\"]\n",
    "arg_vals = load(\"./optims/scenario6/forest_3_50.opt\")\n",
    "\n",
    "args = dict(zip(arg_names, arg_vals))\n",
    "data_loaded = loadmat(\"./saved/processed/\" + dataset)\n",
    "images_norm = data_loaded['X']\n",
    "labels = data_loaded['Y'].reshape(-1)\n",
    "\n",
    "total = 1.0\n",
    "for seed in range(100, 105):\n",
    "    print(seed)\n",
    "    value = 1-function(images_norm, labels, seed, ep_prtr, ep, **args, verbose=False)[0]\n",
    "    print(\"value:\", value)\n",
    "    total *= value\n",
    "\n",
    "print(\"AVERAGE:\", total**0.2)\n",
    "\n",
    "function = full_model.run_ae\n",
    "dataset = \"yaleB.mat\"\n",
    "ep_prtr = 201\n",
    "ep = 101\n",
    "arg_names = [\"lr_pretrain\", \"lr\", \"lambda1\", \"lambda2\", \"alpha2\", \"maxIter2\"]\n",
    "arg_vals = load(\"./optims/scenario7/gp_0_50.opt\")\n",
    "\n",
    "args = dict(zip(arg_names, arg_vals))\n",
    "data_loaded = loadmat(\"./saved/processed/\" + dataset)\n",
    "images_norm = data_loaded['X']\n",
    "labels = data_loaded['Y'].reshape(-1)\n",
    "\n",
    "total = 1.0\n",
    "for seed in range(100, 105):\n",
    "    print(seed)\n",
    "    value = 1-function(images_norm, labels, seed, ep_prtr, ep, **args, verbose=False)[0]\n",
    "    print(\"value:\", value)\n",
    "    total *= value\n",
    "\n",
    "print(\"AVERAGE:\", total**0.2)\n",
    "\n",
    "function = full_model.run_ae\n",
    "dataset = \"Coil20.mat\"\n",
    "ep_prtr = 1001\n",
    "ep = 251\n",
    "arg_names = [\"lr_pretrain\", \"lr\", \"lambda1\", \"lambda2\", \"alpha2\", \"maxIter2\"]\n",
    "arg_vals = load(\"./optims/scenario8/forest_0_50.opt\")\n",
    "\n",
    "args = dict(zip(arg_names, arg_vals))\n",
    "data_loaded = loadmat(\"./saved/processed/\" + dataset)\n",
    "images_norm = data_loaded['X']\n",
    "labels = data_loaded['Y'].reshape(-1)\n",
    "\n",
    "total = 1.0\n",
    "for seed in range(100, 105):\n",
    "    print(seed)\n",
    "    value = 1-function(images_norm, labels, seed, ep_prtr, ep, **args, verbose=False)[0]\n",
    "    print(\"value:\", value)\n",
    "    total *= value\n",
    "\n",
    "print(\"AVERAGE:\", total**0.2)"
   ]
  },
  {
   "cell_type": "markdown",
   "metadata": {},
   "source": [
    "## Evaluate Optimum"
   ]
  },
  {
   "cell_type": "code",
   "execution_count": 10,
   "metadata": {},
   "outputs": [
    {
     "name": "stdout",
     "output_type": "stream",
     "text": [
      "optimum:\n",
      "([0.005723346377343881, 0.0006960540795460365, 1.0686885283416514, 85, 2.527546354637533, 100], 0.725669763942158)\n",
      "100\n",
      "value: 0.9493055555555555\n",
      "101\n",
      "value: 0.9493055555555555\n",
      "102\n",
      "value: 0.9493055555555555\n",
      "103\n",
      "value: 0.9493055555555555\n",
      "104\n",
      "value: 0.9493055555555555\n",
      "AVERAGE: 0.9493055555555555\n"
     ]
    }
   ],
   "source": [
    "scenario = 2\n",
    "best_opt = \"forest\"\n",
    "max_iters = 50\n",
    "optimum = res_optimum_mult([load(\"./optims/scenario\"+str(scenario)+\"/\"+best_opt+\"_\"+str(seed)+\"_\"+str(max_iters)+\".opt\") for seed in range(5)])\n",
    "print(\"optimum:\")\n",
    "print(optimum)\n",
    "\n",
    "function = full_model.run_model\n",
    "dataset = \"Coil20.mat\"\n",
    "ep_prtr = 201\n",
    "ep = 101\n",
    "arg_names = [\"lr_pretrain\", \"lr\", \"alpha1\", \"maxIter1\", \"lambda1\", \"lambda2\", \"alpha2\", \"maxIter2\"]\n",
    "arg_vals = optimum[0]\n",
    "\n",
    "args = dict(zip(arg_names, arg_vals))\n",
    "data_loaded = loadmat(\"./saved/processed/\" + dataset)\n",
    "images_norm = data_loaded['X']\n",
    "labels = data_loaded['Y'].reshape(-1)\n",
    "\n",
    "total = 1.0\n",
    "for seed in range(100, 105):\n",
    "    print(seed)\n",
    "    value = 1-function(images_norm, labels, seed, ep_prtr, ep, **args, verbose=False)[0]\n",
    "    print(\"value:\", value)\n",
    "    total *= value\n",
    "\n",
    "print(\"AVERAGE:\", total**0.2)"
   ]
  }
 ],
 "metadata": {
  "kernelspec": {
   "display_name": "Python 3",
   "language": "python",
   "name": "python3"
  },
  "language_info": {
   "codemirror_mode": {
    "name": "ipython",
    "version": 3
   },
   "file_extension": ".py",
   "mimetype": "text/x-python",
   "name": "python",
   "nbconvert_exporter": "python",
   "pygments_lexer": "ipython3",
   "version": "3.5.4"
  }
 },
 "nbformat": 4,
 "nbformat_minor": 2
}
