{
 "cells": [
  {
   "cell_type": "code",
   "execution_count": 1,
   "metadata": {},
   "outputs": [
    {
     "name": "stdout",
     "output_type": "stream",
     "text": [
      "\n",
      "Starting MATLAB engine...\n",
      "-------------------------\n",
      "Elapsed: 33.68 sec\n"
     ]
    }
   ],
   "source": [
    "from optimize import *"
   ]
  },
  {
   "cell_type": "code",
   "execution_count": null,
   "metadata": {
    "scrolled": true
   },
   "outputs": [
    {
     "name": "stdout",
     "output_type": "stream",
     "text": [
      "Seed: 0\n",
      "forest:\n",
      "Iteration No: 1 started. Evaluating function at random point.\n",
      "Iteration No: 1 ended. Evaluation done at random point.\n",
      "Time taken: 373.9062\n",
      "Function value obtained: 0.6451\n",
      "Current minimum: 0.6451\n",
      "Iteration No: 2 started. Evaluating function at random point.\n"
     ]
    }
   ],
   "source": [
    "result = optimize_multiple(9, 400, seeds=[0], functions={'forest': forest_minimize}, verb=True)"
   ]
  },
  {
   "cell_type": "markdown",
   "metadata": {},
   "source": [
    "## Evaluate Optimum"
   ]
  },
  {
   "cell_type": "code",
   "execution_count": 5,
   "metadata": {},
   "outputs": [
    {
     "name": "stdout",
     "output_type": "stream",
     "text": [
      "optimum:\n",
      "([0.005723346377343881, 0.0006960540795460365, 1.0686885283416514, 85, 2.527546354637533, 100], 0.725669763942158)\n"
     ]
    },
    {
     "ename": "NameError",
     "evalue": "name 'full_model' is not defined",
     "output_type": "error",
     "traceback": [
      "\u001b[1;31m---------------------------------------------------------------------------\u001b[0m",
      "\u001b[1;31mNameError\u001b[0m                                 Traceback (most recent call last)",
      "\u001b[1;32m<ipython-input-5-f0f1cd0e838a>\u001b[0m in \u001b[0;36m<module>\u001b[1;34m()\u001b[0m\n\u001b[0;32m      6\u001b[0m \u001b[0mprint\u001b[0m\u001b[1;33m(\u001b[0m\u001b[0moptimum\u001b[0m\u001b[1;33m)\u001b[0m\u001b[1;33m\u001b[0m\u001b[0m\n\u001b[0;32m      7\u001b[0m \u001b[1;33m\u001b[0m\u001b[0m\n\u001b[1;32m----> 8\u001b[1;33m \u001b[0mfunction\u001b[0m \u001b[1;33m=\u001b[0m \u001b[0mfull_model\u001b[0m\u001b[1;33m.\u001b[0m\u001b[0mrun_model\u001b[0m\u001b[1;33m\u001b[0m\u001b[0m\n\u001b[0m\u001b[0;32m      9\u001b[0m \u001b[0mdataset\u001b[0m \u001b[1;33m=\u001b[0m \u001b[1;34m\"Coil20.mat\"\u001b[0m\u001b[1;33m\u001b[0m\u001b[0m\n\u001b[0;32m     10\u001b[0m \u001b[0mep_prtr\u001b[0m \u001b[1;33m=\u001b[0m \u001b[1;36m201\u001b[0m\u001b[1;33m\u001b[0m\u001b[0m\n",
      "\u001b[1;31mNameError\u001b[0m: name 'full_model' is not defined"
     ]
    }
   ],
   "source": [
    "from skopt import load\n",
    "def objective():\n",
    "    pass\n",
    "scenario = 2\n",
    "best_opt = \"forest\"\n",
    "max_iters = 50\n",
    "optimum = res_optimum_mult([load(\"./optims/scenario\"+str(scenario)+\"/\"+best_opt+\"_\"+str(seed)+\"_\"+str(max_iters)+\".opt\") for seed in range(5)])\n",
    "print(\"optimum:\")\n",
    "print(optimum)\n",
    "\n",
    "function = full_model.run_model\n",
    "dataset = \"Coil20.mat\"\n",
    "ep_prtr = 201\n",
    "ep = 101\n",
    "arg_names = [\"lr_pretrain\", \"lr\", \"alpha1\", \"maxIter1\", \"lambda1\", \"lambda2\", \"alpha2\", \"maxIter2\"]\n",
    "arg_vals = optimum[0]\n",
    "\n",
    "args = dict(zip(arg_names, arg_vals))\n",
    "data_loaded = loadmat(\"./saved/processed/\" + dataset)\n",
    "images_norm = data_loaded['X']\n",
    "labels = data_loaded['Y'].reshape(-1)\n",
    "\n",
    "total = 1.0\n",
    "for seed in range(100, 105):\n",
    "    print(seed)\n",
    "    value = 1-function(images_norm, labels, seed, ep_prtr, ep, **args, verbose=False)[0]\n",
    "    print(\"value:\", value)\n",
    "    total *= value\n",
    "\n",
    "print(\"AVERAGE:\", total**0.2)"
   ]
  }
 ],
 "metadata": {
  "kernelspec": {
   "display_name": "Python 3",
   "language": "python",
   "name": "python3"
  },
  "language_info": {
   "codemirror_mode": {
    "name": "ipython",
    "version": 3
   },
   "file_extension": ".py",
   "mimetype": "text/x-python",
   "name": "python",
   "nbconvert_exporter": "python",
   "pygments_lexer": "ipython3",
   "version": "3.5.4"
  }
 },
 "nbformat": 4,
 "nbformat_minor": 2
}
