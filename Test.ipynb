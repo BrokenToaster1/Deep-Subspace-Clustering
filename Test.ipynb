{
 "cells": [
  {
   "cell_type": "code",
   "execution_count": 1,
   "metadata": {
    "scrolled": true
   },
   "outputs": [],
   "source": [
    "import importlib\n",
    "import full_model\n",
    "import numpy as np"
   ]
  },
  {
   "cell_type": "code",
   "execution_count": 2,
   "metadata": {},
   "outputs": [
    {
     "name": "stdout",
     "output_type": "stream",
     "text": [
      "\n",
      "Starting MATLAB engine...\n",
      "-------------------------\n",
      "Elapsed: 21.47 sec\n"
     ]
    }
   ],
   "source": [
    "full_model.eng = full_model.start_matlab()"
   ]
  },
  {
   "cell_type": "code",
   "execution_count": 3,
   "metadata": {},
   "outputs": [],
   "source": [
    "data_loaded = full_model.loadmat(\"./saved/processed/yaleB.mat\")\n",
    "images_norm = data_loaded['X']\n",
    "labels = data_loaded['Y'].reshape(-1)"
   ]
  },
  {
   "cell_type": "code",
   "execution_count": 11,
   "metadata": {},
   "outputs": [],
   "source": [
    "from skopt.space import Real, Integer\n",
    "\n",
    "space  = [Real(10**-2, 10**0, \"log-uniform\", name='lr_pretrain'),\n",
    "          Real(10**-3, 10**-1, \"log-uniform\", name='lr'),\n",
    "          Real(10**0, 10**2, \"log-uniform\", name='alpha1'),\n",
    "          Integer(2, 3, name='maxIter1'),\n",
    "          Real(10**0, 10**2, \"log-uniform\", name='alpha2'),\n",
    "          Integer(2, 3, name='maxIter2'),]"
   ]
  },
  {
   "cell_type": "code",
   "execution_count": 12,
   "metadata": {},
   "outputs": [],
   "source": [
    "from skopt.utils import use_named_args\n",
    "\n",
    "@use_named_args(space)\n",
    "def objective(**params):\n",
    "    global ep_prtr_, ep_, seed_\n",
    "    try:\n",
    "        #return 1-full_model.run_model(images_norm, labels, seed_, ep_prtr_, ep_, **params)[0]\n",
    "        return params['lr_pretrain']*params['lr']*params['alpha1']*params['alpha2']\n",
    "    except Exception as ex:\n",
    "        if(type(ex) == KeyError):\n",
    "            raise ex\n",
    "        print(\"Caught a \" + type(ex).__name__ + \". Returning 1.0\")\n",
    "        return 1"
   ]
  },
  {
   "cell_type": "code",
   "execution_count": 13,
   "metadata": {},
   "outputs": [],
   "source": [
    "from skopt import gp_minimize, dummy_minimize, forest_minimize, gbrt_minimize\n",
    "import time\n",
    "\n",
    "def optimize(function, iterations, epochs_pretrain, epochs, random_seed):\n",
    "    start_time = time.time()\n",
    "    \n",
    "    # global b/c I couldn't find a better way to directly pass these to the objective function\n",
    "    global ep_prtr_, ep_, seed_\n",
    "    ep_prtr_ = epochs_pretrain\n",
    "    ep_ = epochs\n",
    "    seed_ = random_seed\n",
    "    \n",
    "    # kwargs b/c dummy_minimize can not take n_jobs\n",
    "    params = {\"n_calls\":iterations, \"random_state\":random_seed, \"verbose\":True}\n",
    "    if(function != dummy_minimize):\n",
    "        params[\"n_jobs\"] = -1\n",
    "    result = function(objective, space, **params)\n",
    "    opt_stats(result, start_time)\n",
    "    return result"
   ]
  },
  {
   "cell_type": "code",
   "execution_count": 14,
   "metadata": {},
   "outputs": [],
   "source": [
    "from skopt.plots import plot_convergence\n",
    "\n",
    "def opt_stats(res, start_time=None):\n",
    "    plot_convergence(res, yscale=\"log\")\n",
    "    print(\"\\n------------------\")\n",
    "    for i in range(10, len(res.func_vals)+1, 10):\n",
    "        print(\"{0:d}: {1:.4f}\".format(i, min(res.func_vals[0:i])))\n",
    "    print(\"Best score: {0:.4f}\".format(res.fun))\n",
    "    print(\"Best parameters: {0:}\".format(res.x))\n",
    "    if(start_time is not None):\n",
    "        print(\"Total time elapsed: {0:.2f} sec\\n\".format(time.time()-start_time))"
   ]
  },
  {
   "cell_type": "markdown",
   "metadata": {},
   "source": [
    "Reloading functions:"
   ]
  },
  {
   "cell_type": "code",
   "execution_count": 84,
   "metadata": {},
   "outputs": [],
   "source": [
    "from copy import deepcopy\n",
    "from skopt.optimizer import base_minimize\n",
    "\n",
    "def reload_bad(result, addtl_calls):\n",
    "    args = deepcopy(result.specs['args'])\n",
    "    args['n_calls'] = addtl_calls\n",
    "    args['n_random_starts'] = 0\n",
    "    args['x0'] = deepcopy(result.x_iters)\n",
    "    args['y0'] = deepcopy(result.func_vals)\n",
    "    args['random_state'] = deepcopy(result.random_state)\n",
    "    return base_minimize(**args)"
   ]
  },
  {
   "cell_type": "code",
   "execution_count": 85,
   "metadata": {},
   "outputs": [],
   "source": [
    "from copy import deepcopy\n",
    "from skopt.learning import GaussianProcessRegressor\n",
    "from skopt.optimizer import base_minimize\n",
    "from sklearn.utils import check_random_state\n",
    "import warnings\n",
    "\n",
    "def func_new(params):\n",
    "    global func_, xs_, ys_\n",
    "    if(len(xs_) > 0):\n",
    "        y = ys_.pop(0)\n",
    "        if(params != xs_.pop(0)):\n",
    "            warnings.warn(\"Deviated from expected value, re-evaluating\", RuntimeWarning)\n",
    "        else:\n",
    "            return y\n",
    "    return func_(params)\n",
    "\n",
    "def reload(result, addtl_calls, init_seed=None):\n",
    "    args = deepcopy(result.specs['args'])\n",
    "    args['n_calls'] += addtl_calls\n",
    "    \n",
    "    # global b/c I couldn't find a better way to pass\n",
    "    global func_, xs_, ys_\n",
    "    func_ = args['func']\n",
    "    xs_ = list(result.x_iters)\n",
    "    ys_ = list(result.func_vals)\n",
    "    args['func'] = func_new\n",
    "    \n",
    "    # recover initial random_state\n",
    "    if(isinstance(args['random_state'], np.random.RandomState)):\n",
    "        args['random_state'] = check_random_state(init_seed)\n",
    "        # if gp_minimize\n",
    "        if(isinstance(result.specs['args']['base_estimator'], GaussianProcessRegressor)):\n",
    "            args['random_state'].randint(0, np.iinfo(np.int32).max)\n",
    "    \n",
    "    # run the optimization\n",
    "    result_new = base_minimize(**args)\n",
    "    \n",
    "    # change the function back, to reload multiple times\n",
    "    result_new.specs['args']['func'] = func_\n",
    "    \n",
    "    return result_new"
   ]
  },
  {
   "cell_type": "code",
   "execution_count": 10,
   "metadata": {},
   "outputs": [],
   "source": [
    "tests = {'fun', 'space', 'x', 'func_vals', 'x_iters'}\n",
    "def test(val1, val2):\n",
    "    assert np.alltrue([np.alltrue(val1[key] == val2[key]) for key in tests]), \"TESTS FAILED\"\n",
    "    print(\"ALL TESTS PASSED!\")"
   ]
  },
  {
   "cell_type": "code",
   "execution_count": null,
   "metadata": {},
   "outputs": [],
   "source": [
    "used_func = forest_minimize\n",
    "seed = 1234\n",
    "res1 = optimize(used_func, 12, 1, 1, seed)\n",
    "res1_copy = deepcopy(res1)\n",
    "res12 = reload(res1, 4, seed)\n",
    "res23 = reload(res12, 4, seed)\n",
    "res13 = reload(res1, 8, seed)\n",
    "res3 = optimize(used_func, 20, 1, 1, seed)\n",
    "\n",
    "from skopt import dump, load\n",
    "dump(res1, \"temp.txt\")\n",
    "res1_loaded = load(\"temp.txt\")\n",
    "res12_loaded = reload(res1_loaded, 4, seed)"
   ]
  },
  {
   "cell_type": "code",
   "execution_count": 97,
   "metadata": {},
   "outputs": [
    {
     "name": "stdout",
     "output_type": "stream",
     "text": [
      "ALL TESTS PASSED!\n",
      "ALL TESTS PASSED!\n",
      "ALL TESTS PASSED!\n",
      "ALL TESTS PASSED!\n",
      "ALL TESTS PASSED!\n"
     ]
    }
   ],
   "source": [
    "test(res13, res3)\n",
    "test(res23, res3)\n",
    "test(res1, res1_loaded)\n",
    "test(res12, res12_loaded)\n",
    "test(res1_copy, res1)"
   ]
  },
  {
   "cell_type": "code",
   "execution_count": null,
   "metadata": {},
   "outputs": [],
   "source": []
  }
 ],
 "metadata": {
  "kernelspec": {
   "display_name": "Python 3",
   "language": "python",
   "name": "python3"
  },
  "language_info": {
   "codemirror_mode": {
    "name": "ipython",
    "version": 3
   },
   "file_extension": ".py",
   "mimetype": "text/x-python",
   "name": "python",
   "nbconvert_exporter": "python",
   "pygments_lexer": "ipython3",
   "version": "3.5.4"
  }
 },
 "nbformat": 4,
 "nbformat_minor": 2
}
