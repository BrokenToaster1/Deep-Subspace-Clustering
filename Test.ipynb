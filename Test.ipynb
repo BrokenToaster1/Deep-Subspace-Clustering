{
 "cells": [
  {
   "cell_type": "markdown",
   "metadata": {},
   "source": [
    "# Compare rand behavior\n",
    "* Different python versions\n",
    "* Different seeding methods\n",
    "* MATLAB / Octave "
   ]
  },
  {
   "cell_type": "code",
   "execution_count": 1,
   "metadata": {
    "scrolled": true
   },
   "outputs": [
    {
     "name": "stdout",
     "output_type": "stream",
     "text": [
      "\n",
      "Starting MATLAB engine...\n",
      "-------------------------\n",
      "Elapsed: 3.42 sec\n",
      "0.9617021276595745 0.9851113230275155 0.9578386188385504\n"
     ]
    }
   ],
   "source": [
    "import matlab.engine\n",
    "from full_model import *\n",
    "from scipy.io import loadmat\n",
    "data_loaded = loadmat(\"./saved/processed/yaleB.mat\")\n",
    "labels = data_loaded['Y'].reshape(-1)\n",
    "grps = eng.SSC_modified(37, 0, False, 20.0, False, 1, 1e-20, 16, True, 0)\n",
    "labels_pred = np.asarray(grps, dtype=np.int32).flatten()\n",
    "print(1-err_rate(labels, labels_pred), nmi(labels, labels_pred, average_method=\"geometric\"), ari(labels, labels_pred))"
   ]
  },
  {
   "cell_type": "code",
   "execution_count": 6,
   "metadata": {},
   "outputs": [
    {
     "name": "stdout",
     "output_type": "stream",
     "text": [
      "\n",
      "Finding affinity matrix (iter: 6)...\n",
      "-------------------------------------\n",
      "Elapsed: 4.07 sec\n",
      "\n",
      "Training Autoencoder...\n",
      "-----------------------\n",
      "Layer 1\n",
      "300 -> 200\n",
      "epoch 0: global loss = 1.0553826093673706\n",
      "epoch 100: global loss = 0.033024195581674576\n",
      "Layer 2\n",
      "200 -> 150\n",
      "epoch 0: global loss = 1.2791131734848022\n",
      "epoch 100: global loss = 0.02575872465968132\n",
      "\n",
      "epoch 0: global loss = 0.034736163914203644\n",
      "epoch 25: global loss = 0.002287367358803749\n",
      "epoch 50: global loss = 0.00209440547041595\n",
      "epoch 75: global loss = 0.002039118204265833\n",
      "epoch 100: global loss = 0.002007222268730402\n",
      "Elapsed: 38.06 sec\n",
      "\n",
      "Clustering with SSC (iter: 16)...\n",
      "---------------------------------\n",
      "Elapsed: 14.90 sec\n",
      "\n"
     ]
    },
    {
     "data": {
      "text/plain": [
       "(0.9625531914893617, 0.9853149048310011, 0.9583452282183348)"
      ]
     },
     "execution_count": 6,
     "metadata": {},
     "output_type": "execute_result"
    }
   ],
   "source": [
    "import matlab.engine\n",
    "import full_model\n",
    "from scipy.io import loadmat\n",
    "data_loaded = loadmat(\"./saved/processed/yaleB.mat\")\n",
    "images_norm = data_loaded['X']\n",
    "labels = data_loaded['Y'].reshape(-1)\n",
    "full_model.run_model(images_norm, labels, seed=0)"
   ]
  },
  {
   "cell_type": "markdown",
   "metadata": {},
   "source": [
    "# Check simpler models\n",
    "* Plain SSC\n",
    "* Plain AE"
   ]
  },
  {
   "cell_type": "code",
   "execution_count": 1,
   "metadata": {},
   "outputs": [
    {
     "name": "stdout",
     "output_type": "stream",
     "text": [
      "\n",
      "Starting MATLAB engine...\n",
      "-------------------------\n",
      "Elapsed: 30.63 sec\n",
      "\n",
      "Training Autoencoder...\n",
      "-----------------------\n",
      "Layer 1\n",
      "300 -> 200\n",
      "epoch 0: global loss = 1.0553826093673706\n",
      "epoch 100: global loss = 0.033024195581674576\n",
      "Layer 2\n",
      "200 -> 150\n",
      "epoch 0: global loss = 1.2791131734848022\n",
      "epoch 100: global loss = 0.02575872465968132\n",
      "\n",
      "epoch 0: global loss = 0.03473581373691559\n",
      "epoch 25: global loss = 0.0022870430257171392\n",
      "epoch 50: global loss = 0.002094089752063155\n",
      "epoch 75: global loss = 0.002038809238001704\n",
      "epoch 100: global loss = 0.0020069198217242956\n",
      "Elapsed: 137.40 sec\n",
      "\n",
      "Clustering with SSC (iter: 16)...\n",
      "---------------------------------\n",
      "Elapsed: 113.07 sec\n",
      "\n"
     ]
    },
    {
     "data": {
      "text/plain": [
       "(0.9617021276595745, 0.9851113230275155, 0.9578386188385504)"
      ]
     },
     "execution_count": 1,
     "metadata": {},
     "output_type": "execute_result"
    }
   ],
   "source": [
    "import matlab.engine\n",
    "import full_model\n",
    "from scipy.io import loadmat\n",
    "data_loaded = loadmat(\"./saved/processed/yaleB.mat\")\n",
    "images_norm = data_loaded['X']\n",
    "labels = data_loaded['Y'].reshape(-1)\n",
    "full_model.run_ae(images_norm, labels, seed=0)"
   ]
  },
  {
   "cell_type": "code",
   "execution_count": null,
   "metadata": {},
   "outputs": [
    {
     "name": "stdout",
     "output_type": "stream",
     "text": [
      "Iteration No: 1 started. Evaluating function at random point.\n",
      "Iteration No: 1 ended. Evaluation done at random point.\n",
      "Time taken: 311.7222\n",
      "Function value obtained: 0.5345\n",
      "Current minimum: 0.5345\n",
      "Iteration No: 2 started. Evaluating function at random point.\n",
      "Iteration No: 2 ended. Evaluation done at random point.\n",
      "Time taken: 246.1591\n",
      "Function value obtained: 0.7409\n",
      "Current minimum: 0.5345\n",
      "Iteration No: 3 started. Evaluating function at random point.\n",
      "Iteration No: 3 ended. Evaluation done at random point.\n",
      "Time taken: 286.9545\n",
      "Function value obtained: 0.0404\n",
      "Current minimum: 0.0404\n",
      "Iteration No: 4 started. Evaluating function at random point.\n",
      "Iteration No: 4 ended. Evaluation done at random point.\n",
      "Time taken: 282.9618\n",
      "Function value obtained: 0.1953\n",
      "Current minimum: 0.0404\n",
      "Iteration No: 5 started. Evaluating function at random point.\n",
      "Iteration No: 5 ended. Evaluation done at random point.\n",
      "Time taken: 296.4713\n",
      "Function value obtained: 0.9723\n",
      "Current minimum: 0.0404\n",
      "Iteration No: 6 started. Evaluating function at random point.\n",
      "Iteration No: 6 ended. Evaluation done at random point.\n",
      "Time taken: 311.0877\n",
      "Function value obtained: 0.0251\n",
      "Current minimum: 0.0251\n",
      "Iteration No: 7 started. Evaluating function at random point.\n"
     ]
    }
   ],
   "source": [
    "import matlab.engine\n",
    "from optimize import *\n",
    "optimize(gp_minimize, get_params(7), 13, random_seed=0)"
   ]
  },
  {
   "cell_type": "markdown",
   "metadata": {},
   "source": [
    "# Reload skopt optimizations\n",
    "The package *skopt* (scikit-optimize) contains several useful methods that optimize expensive and noisy functions"
   ]
  },
  {
   "cell_type": "code",
   "execution_count": 1,
   "metadata": {},
   "outputs": [],
   "source": [
    "from copy import deepcopy\n",
    "from skopt.optimizer import base_minimize\n",
    "\n",
    "def reload_bad(result, addtl_calls):\n",
    "    args = deepcopy(result.specs['args'])\n",
    "    args['n_calls'] = addtl_calls\n",
    "    args['n_random_starts'] = 0\n",
    "    args['x0'] = deepcopy(result.x_iters)\n",
    "    args['y0'] = deepcopy(result.func_vals)\n",
    "    args['random_state'] = deepcopy(result.random_state)\n",
    "    return base_minimize(**args)"
   ]
  },
  {
   "cell_type": "code",
   "execution_count": 21,
   "metadata": {},
   "outputs": [],
   "source": [
    "import numpy as np\n",
    "import warnings\n",
    "from copy import deepcopy\n",
    "from skopt.learning import GaussianProcessRegressor\n",
    "from skopt.optimizer import base_minimize\n",
    "from sklearn.utils import check_random_state\n",
    "\n",
    "def func_new(params):\n",
    "    global func_, xs_, ys_\n",
    "    if(len(xs_) > 0):\n",
    "        y = ys_.pop(0)\n",
    "        if(params != xs_.pop(0)):\n",
    "            warnings.warn(\"Deviated from expected value, re-evaluating\", RuntimeWarning)\n",
    "        else:\n",
    "            return y\n",
    "    return func_(params)\n",
    "\n",
    "def reload(result, addtl_calls, init_seed):\n",
    "    args = deepcopy(result.specs['args'])\n",
    "    args['n_calls'] += addtl_calls\n",
    "    \n",
    "    # global b/c I couldn't find a better way to pass\n",
    "    global func_, xs_, ys_\n",
    "    func_ = args['func']\n",
    "    xs_ = list(result.x_iters)\n",
    "    ys_ = list(result.func_vals)\n",
    "    args['func'] = func_new\n",
    "    \n",
    "    # recover initial random_state\n",
    "    if(isinstance(args['random_state'], np.random.RandomState)):\n",
    "        args['random_state'] = check_random_state(init_seed)\n",
    "        # if gp_minimize\n",
    "        if(isinstance(result.specs['args']['base_estimator'], GaussianProcessRegressor)):\n",
    "            args['random_state'].randint(0, np.iinfo(np.int32).max)\n",
    "    \n",
    "    # run the optimization\n",
    "    result_new = base_minimize(**args)\n",
    "    \n",
    "    # change the function back, to reload multiple times\n",
    "    result_new.specs['args']['func'] = func_\n",
    "    \n",
    "    return result_new"
   ]
  },
  {
   "cell_type": "code",
   "execution_count": 60,
   "metadata": {},
   "outputs": [
    {
     "name": "stdout",
     "output_type": "stream",
     "text": [
      "TEST PASSED\n",
      "OPTIMUM: 0.17739012894583892 at [0.5878821579502587, 0.35429393738241166]\n"
     ]
    }
   ],
   "source": [
    "import numpy as np\n",
    "from skopt import gp_minimize\n",
    "from skopt.space import Real\n",
    "from skopt.utils import use_named_args\n",
    "\n",
    "space = [Real(-2, 2, \"uniform\", name='x'),\n",
    "         Real(-1, 3, \"uniform\", name='y')]\n",
    "\n",
    "@use_named_args(space)\n",
    "def rosenbrock(x, y):\n",
    "    # true minimum is 0 at (a, a^2)\n",
    "    a = 1\n",
    "    b = 100\n",
    "    return (a-x)**2 + b*(y-x*x)**2\n",
    "\n",
    "result1 = gp_minimize(rosenbrock, space, n_calls=20, random_state=0)\n",
    "result1 = reload(result1, addtl_calls=20, init_seed=0)\n",
    "\n",
    "result2 = gp_minimize(rosenbrock, space, n_calls=40, random_state=0)\n",
    "\n",
    "if(np.allclose(result1.func_vals, result2.func_vals)):\n",
    "    print(\"TEST PASSED\")\n",
    "else:\n",
    "    print(\"TEST FAILED\")\n",
    "print(\"OPTIMUM:\", result1.fun, \"at\", result1.x)"
   ]
  },
  {
   "cell_type": "code",
   "execution_count": null,
   "metadata": {},
   "outputs": [],
   "source": []
  }
 ],
 "metadata": {
  "kernelspec": {
   "display_name": "Python 3",
   "language": "python",
   "name": "python3"
  },
  "language_info": {
   "codemirror_mode": {
    "name": "ipython",
    "version": 3
   },
   "file_extension": ".py",
   "mimetype": "text/x-python",
   "name": "python",
   "nbconvert_exporter": "python",
   "pygments_lexer": "ipython3",
   "version": "3.5.4"
  }
 },
 "nbformat": 4,
 "nbformat_minor": 2
}
