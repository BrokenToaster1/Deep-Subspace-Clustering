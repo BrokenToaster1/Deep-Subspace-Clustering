{
 "cells": [
  {
   "cell_type": "markdown",
   "metadata": {},
   "source": [
    "# Re-evaluate functions and compare\n",
    "* Previous optimizations over other seeds\n",
    "* Check if Octave underperforms"
   ]
  },
  {
   "cell_type": "code",
   "execution_count": 46,
   "metadata": {},
   "outputs": [
    {
     "data": {
      "text/plain": [
       "[0.00010334762307546188,\n",
       " 1.5415805242432643e-05,\n",
       " 14.519110660781786,\n",
       " 93,\n",
       " 6.1054043480560045,\n",
       " 40]"
      ]
     },
     "execution_count": 46,
     "metadata": {},
     "output_type": "execute_result"
    }
   ],
   "source": [
    "from skopt import load\n",
    "def objective():\n",
    "    pass\n",
    "loaded = load(\"./optims/scenario3/gbrt_4_100.opt\")\n",
    "loaded.x"
   ]
  },
  {
   "cell_type": "code",
   "execution_count": 47,
   "metadata": {},
   "outputs": [
    {
     "name": "stdout",
     "output_type": "stream",
     "text": [
      "100\n",
      "value: 0.7090277777777778\n",
      "101\n",
      "value: 0.66875\n",
      "102\n",
      "value: 0.6708333333333333\n",
      "103\n",
      "value: 0.6131944444444445\n",
      "104\n",
      "value: 0.7340277777777777\n",
      "AVERAGE: 0.6779075600541836\n"
     ]
    }
   ],
   "source": [
    "import matlab.engine\n",
    "import full_model\n",
    "from scipy.io import loadmat\n",
    "from math import log10\n",
    "\n",
    "function = full_model.run_model\n",
    "dataset = \"Coil20.mat\"\n",
    "ep_prtr = 1001\n",
    "ep = 251\n",
    "arg_names = [\"lr_pretrain\", \"lr\", \"alpha1\", \"maxIter1\", \"lambda1\", \"lambda2\", \"alpha2\", \"maxIter2\"]\n",
    "arg_vals = [0.00010334762307546188,\n",
    " 1.5415805242432643e-05,\n",
    " 14.519110660781786,\n",
    " 93,\n",
    " 6.1054043480560045,\n",
    " 40]\n",
    "\n",
    "args = dict(zip(arg_names, arg_vals))\n",
    "data_loaded = loadmat(\"./saved/processed/\" + dataset)\n",
    "images_norm = data_loaded['X']\n",
    "labels = data_loaded['Y'].reshape(-1)\n",
    "\n",
    "total = 0\n",
    "for seed in range(100, 105):\n",
    "    print(seed)\n",
    "    value = 1-function(images_norm, labels, seed, ep_prtr, ep, **args, verbose=False)[0]\n",
    "    print(\"value:\", value)\n",
    "    total += log10(value)\n",
    "\n",
    "print(\"AVERAGE:\", 10**(total/5))"
   ]
  }
 ],
 "metadata": {
  "kernelspec": {
   "display_name": "Python 3",
   "language": "python",
   "name": "python3"
  },
  "language_info": {
   "codemirror_mode": {
    "name": "ipython",
    "version": 3
   },
   "file_extension": ".py",
   "mimetype": "text/x-python",
   "name": "python",
   "nbconvert_exporter": "python",
   "pygments_lexer": "ipython3",
   "version": "3.5.4"
  }
 },
 "nbformat": 4,
 "nbformat_minor": 2
}
