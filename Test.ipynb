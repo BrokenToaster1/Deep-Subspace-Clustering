{
 "cells": [
  {
   "cell_type": "code",
   "execution_count": 1,
   "metadata": {
    "scrolled": true
   },
   "outputs": [],
   "source": [
    "import importlib\n",
    "import full_model\n",
    "import numpy as np"
   ]
  },
  {
   "cell_type": "code",
   "execution_count": 2,
   "metadata": {},
   "outputs": [
    {
     "name": "stdout",
     "output_type": "stream",
     "text": [
      "\n",
      "Starting MATLAB engine...\n",
      "-------------------------\n",
      "Elapsed: 11.63 sec\n"
     ]
    }
   ],
   "source": [
    "full_model.eng = full_model.start_matlab()"
   ]
  },
  {
   "cell_type": "code",
   "execution_count": 3,
   "metadata": {},
   "outputs": [],
   "source": [
    "images_norm = full_model.loadmat(\"./saved/yaleB.mat\")['X']\n",
    "labels = full_model.loadmat(\"./saved/yaleB.mat\")['Y'].reshape(-1)"
   ]
  },
  {
   "cell_type": "code",
   "execution_count": 4,
   "metadata": {},
   "outputs": [],
   "source": [
    "from skopt.space import Real, Integer\n",
    "\n",
    "space  = [Real(10**-2, 10**0, \"log-uniform\", name='lr_pretrain'),\n",
    "          Real(10**-3, 10**-1, \"log-uniform\", name='lr'),\n",
    "          Real(10**0, 10**2, \"log-uniform\", name='alpha1'),\n",
    "          Integer(2, 3, name='maxIter1'),\n",
    "          Real(10**0, 10**2, \"log-uniform\", name='alpha2'),\n",
    "          Integer(2, 3, name='maxIter2'),]"
   ]
  },
  {
   "cell_type": "code",
   "execution_count": 5,
   "metadata": {},
   "outputs": [],
   "source": [
    "from skopt.utils import use_named_args\n",
    "\n",
    "@use_named_args(space)\n",
    "def objective(**params):\n",
    "    try:\n",
    "        #return 1-full_model.run_model(images_norm, labels, seed, ep_prtr, ep, **params)[0]\n",
    "        return params['lr_pretrain']*params['lr']*params['alpha1']*params['alpha2']\n",
    "    except Exception as ex:\n",
    "        if(type(ex) == KeyError):\n",
    "            raise ex\n",
    "        return 1"
   ]
  },
  {
   "cell_type": "code",
   "execution_count": 6,
   "metadata": {},
   "outputs": [],
   "source": [
    "import gp\n",
    "from skopt import dummy_minimize\n",
    "from skopt.plots import plot_convergence\n",
    "import time\n",
    "\n",
    "def optimize(function, iterations, epochs_pretrain, epochs, random_seed):\n",
    "    start_time = time.time()\n",
    "    \n",
    "    # global b/c I couldn't find a better way to directly pass these to the objective function\n",
    "    global ep_prtr, ep, seed\n",
    "    ep_prtr = epochs_pretrain\n",
    "    ep = epochs\n",
    "    seed = random_seed\n",
    "    \n",
    "    # kwargs b/c dummy_minimize can not take n_jobs\n",
    "    kwargs = {\"n_calls\":iterations, \"random_state\":random_seed, \"verbose\":True, \"callback\":callback_func}\n",
    "    if(function != dummy_minimize):\n",
    "        kwargs[\"n_jobs\"] = -1\n",
    "    res = function(objective, space, **kwargs)\n",
    "    end_func(res)\n",
    "    opt_stats(res, start_time)\n",
    "    return res"
   ]
  },
  {
   "cell_type": "code",
   "execution_count": 7,
   "metadata": {},
   "outputs": [],
   "source": [
    "def opt_stats(res, start_time=None):\n",
    "    plot_convergence(res, yscale=\"log\")\n",
    "    print(\"\\n------------------\")\n",
    "    for i in range(10, len(res.func_vals)+1, 10):\n",
    "        print(\"{0:d}: {1:.4f}\".format(i, min(res.func_vals[0:i])))\n",
    "    print(\"Best score: {0:.4f}\".format(res.fun))\n",
    "    print(\"Best parameters: {0:}\".format(res.x))\n",
    "    if(start_time is not None):\n",
    "        print(\"Total time elapsed: {0:.2f} sec\\n\".format(time.time()-start_time))"
   ]
  },
  {
   "cell_type": "code",
   "execution_count": 8,
   "metadata": {},
   "outputs": [],
   "source": [
    "def asdf(result):\n",
    "    print(len(result.func_vals))\n",
    "    print(result.random_state.get_state()[1][0])\n",
    "    print(result.random_state.bytes(10))\n",
    "    print(np.where(result.random_state.multinomial(1, [1/500]*500) == 1))\n",
    "    print(result.random_state.bytes(10))\n",
    "    if(len(result.models) > 0):\n",
    "        print(result.models[-1].predict(np.zeros((1, 6))))"
   ]
  },
  {
   "cell_type": "code",
   "execution_count": 9,
   "metadata": {},
   "outputs": [],
   "source": [
    "def end_func(result):\n",
    "    global random_current_, random_prev_\n",
    "    if(\"random_prev_\" in globals()):\n",
    "        result.random_state = random_prev_\n",
    "    else:\n",
    "        raise Exception(\"Not enough iterations\")\n",
    "    del random_current_\n",
    "    del random_prev_"
   ]
  },
  {
   "cell_type": "code",
   "execution_count": 10,
   "metadata": {},
   "outputs": [],
   "source": [
    "from copy import deepcopy\n",
    "\n",
    "def callback_func(result):\n",
    "    asdf(result)\n",
    "    global random_current_, random_prev_\n",
    "    if(\"random_current_\" in globals()):\n",
    "        random_prev_ = random_current_\n",
    "    random_current_ = deepcopy(result.random_state)\n",
    "    return False"
   ]
  },
  {
   "cell_type": "code",
   "execution_count": 11,
   "metadata": {},
   "outputs": [],
   "source": [
    "def helper(result):\n",
    "    global models, state, set_vars\n",
    "    if(set_vars):\n",
    "        # same situation with the RandomState object\n",
    "        # modifying its parameters like this makes the RandomState object behave identically,\n",
    "        # while keeping it at the same location in memory\n",
    "        # thus, pointers in any other parts of the code will still receive this new object\n",
    "        result.random_state.set_state(state)\n",
    "        \n",
    "        # this only needs to be performed once, after the first iteration\n",
    "        set_vars = False\n",
    "        asdf(result, False)\n",
    "    else:\n",
    "        asdf(result, True)"
   ]
  },
  {
   "cell_type": "code",
   "execution_count": 12,
   "metadata": {},
   "outputs": [],
   "source": [
    "from copy import deepcopy\n",
    "\n",
    "def reload(result, addtl_calls):\n",
    "    start_time = time.time()\n",
    "    args = deepcopy(result.specs['args'])\n",
    "    args['n_calls'] = addtl_calls\n",
    "    args['n_random_starts'] = 0\n",
    "    args['x0'] = result.x_iters\n",
    "    args['y0'] = result.func_vals\n",
    "    args['random_state'] = result.random_state\n",
    "    result_new = gp.gp_minimize(**args)\n",
    "    end_func(result_new)\n",
    "    opt_stats(result_new, start_time)\n",
    "    return result_new"
   ]
  },
  {
   "cell_type": "code",
   "execution_count": 60,
   "metadata": {},
   "outputs": [],
   "source": [
    "seeed = 1234"
   ]
  },
  {
   "cell_type": "code",
   "execution_count": 73,
   "metadata": {},
   "outputs": [
    {
     "data": {
      "text/plain": [
       "<module 'gp' from 'C:\\\\Users\\\\aleks_000\\\\Desktop\\\\Mentorship\\\\!GitHub\\\\gp.py'>"
      ]
     },
     "execution_count": 73,
     "metadata": {},
     "output_type": "execute_result"
    }
   ],
   "source": [
    "importlib.reload(gp)"
   ]
  },
  {
   "cell_type": "code",
   "execution_count": null,
   "metadata": {},
   "outputs": [],
   "source": [
    "res1 = optimize(gp.gp_minimize, 12, 1, 1, seeed)"
   ]
  },
  {
   "cell_type": "code",
   "execution_count": null,
   "metadata": {},
   "outputs": [],
   "source": [
    "res12 = reload(res1, 4)"
   ]
  },
  {
   "cell_type": "code",
   "execution_count": null,
   "metadata": {},
   "outputs": [],
   "source": [
    "res2 = optimize(gp.gp_minimize, 16, 1, 1, seeed)"
   ]
  },
  {
   "cell_type": "code",
   "execution_count": null,
   "metadata": {},
   "outputs": [],
   "source": [
    "ATTENTION - self.gains_:\n",
    "[-1.02042693 -1.03237808 -0.55954234]\n",
    "14"
   ]
  },
  {
   "cell_type": "code",
   "execution_count": 21,
   "metadata": {},
   "outputs": [],
   "source": [
    "from skopt import load\n",
    "seed_ = 1\n",
    "iters_ = 50\n",
    "gp_loaded = load(\"optims/scenario0/gp_\" + str(seed_) + \"_\" + str(iters_) + \".opt\")\n",
    "dummy_loaded = load(\"optims/scenario0/dummy_\" + str(seed_) + \"_\" + str(iters_) + \".opt\")\n",
    "forest_loaded = load(\"optims/scenario0/forest_\" + str(seed_) + \"_\" + str(iters_) + \".opt\")\n",
    "gbrt_loaded = load(\"optims/scenario0/gbrt_\" + str(seed_) + \"_\" + str(iters_) + \".opt\")"
   ]
  },
  {
   "cell_type": "code",
   "execution_count": null,
   "metadata": {},
   "outputs": [],
   "source": [
    "opt_stats(gbrt_loaded)"
   ]
  },
  {
   "cell_type": "code",
   "execution_count": 71,
   "metadata": {},
   "outputs": [
    {
     "data": {
      "text/plain": [
       "array([3.77196407e+00, 2.48504733e-03, 6.85648911e-02, 7.80830527e-01,\n",
       "       7.84859376e-02, 1.54998680e-02, 1.38466320e+00, 8.88918898e-01,\n",
       "       4.45292196e-02, 5.87109554e+00, 1.40929124e-03, 1.97937218e-03,\n",
       "       1.60747531e-03, 2.94241614e-02, 1.00000000e-05, 3.83670628e-04])"
      ]
     },
     "execution_count": 71,
     "metadata": {},
     "output_type": "execute_result"
    }
   ],
   "source": [
    "res12.func_vals"
   ]
  },
  {
   "cell_type": "code",
   "execution_count": 72,
   "metadata": {},
   "outputs": [
    {
     "data": {
      "text/plain": [
       "array([3.77196407e+00, 2.48504733e-03, 6.85648911e-02, 7.80830527e-01,\n",
       "       7.84859376e-02, 1.54998680e-02, 1.38466320e+00, 8.88918898e-01,\n",
       "       4.45292196e-02, 5.87109554e+00, 1.40929124e-03, 1.97937218e-03,\n",
       "       1.60747531e-03, 2.94241614e-02, 1.31557356e-03, 1.00000000e-03])"
      ]
     },
     "execution_count": 72,
     "metadata": {},
     "output_type": "execute_result"
    }
   ],
   "source": [
    "res2.func_vals"
   ]
  },
  {
   "cell_type": "code",
   "execution_count": 103,
   "metadata": {},
   "outputs": [],
   "source": [
    "def test():\n",
    "    state = deepcopy(res1.random_state)\n",
    "    print(np.where(state.multinomial(1, [1/1000]*1000) == 1))"
   ]
  },
  {
   "cell_type": "code",
   "execution_count": 113,
   "metadata": {},
   "outputs": [
    {
     "name": "stdout",
     "output_type": "stream",
     "text": [
      "(array([371], dtype=int64),)\n",
      "(array([371], dtype=int64),)\n",
      "(array([371], dtype=int64),)\n",
      "(array([371], dtype=int64),)\n",
      "(array([371], dtype=int64),)\n",
      "(array([371], dtype=int64),)\n",
      "(array([371], dtype=int64),)\n",
      "(array([371], dtype=int64),)\n",
      "(array([371], dtype=int64),)\n",
      "(array([371], dtype=int64),)\n",
      "(array([371], dtype=int64),)\n"
     ]
    }
   ],
   "source": [
    "for i in range(10):\n",
    "    test()\n",
    "print(np.where(res1.random_state.multinomial(1, [1/1000]*1000) == 1))"
   ]
  },
  {
   "cell_type": "code",
   "execution_count": null,
   "metadata": {},
   "outputs": [],
   "source": []
  }
 ],
 "metadata": {
  "kernelspec": {
   "display_name": "Python 3",
   "language": "python",
   "name": "python3"
  },
  "language_info": {
   "codemirror_mode": {
    "name": "ipython",
    "version": 3
   },
   "file_extension": ".py",
   "mimetype": "text/x-python",
   "name": "python",
   "nbconvert_exporter": "python",
   "pygments_lexer": "ipython3",
   "version": "3.5.4"
  }
 },
 "nbformat": 4,
 "nbformat_minor": 2
}
