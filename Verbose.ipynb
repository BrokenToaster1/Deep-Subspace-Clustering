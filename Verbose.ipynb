{
 "cells": [
  {
   "cell_type": "markdown",
   "metadata": {},
   "source": [
    "## Load + process data"
   ]
  },
  {
   "cell_type": "code",
   "execution_count": 1,
   "metadata": {},
   "outputs": [
    {
     "data": {
      "text/plain": [
       "'C:\\\\Users\\\\aleks_000\\\\Desktop\\\\Mentorship\\\\!GitHub'"
      ]
     },
     "execution_count": 1,
     "metadata": {},
     "output_type": "execute_result"
    }
   ],
   "source": [
    "import matlab.engine\n",
    "eng = matlab.engine.start_matlab()\n",
    "eng.cd(\"./SSC_ADMM_v1.1\")"
   ]
  },
  {
   "cell_type": "code",
   "execution_count": 2,
   "metadata": {},
   "outputs": [
    {
     "name": "stdout",
     "output_type": "stream",
     "text": [
      "\n",
      "Loading Coil20...\n",
      "----------------\n",
      "Elapsed: 2.82 sec\n"
     ]
    }
   ],
   "source": [
    "from load import load_Coil20\n",
    "\n",
    "# I renamed files 1, 2.. to 01, 02..\n",
    "# so that they are in order here\n",
    "images_raw, labels = load_Coil20()"
   ]
  },
  {
   "cell_type": "code",
   "execution_count": 3,
   "metadata": {},
   "outputs": [],
   "source": [
    "data_h = 32\n",
    "data_w = 32"
   ]
  },
  {
   "cell_type": "code",
   "execution_count": 4,
   "metadata": {},
   "outputs": [],
   "source": [
    "import numpy as np\n",
    "from skimage.transform import resize\n",
    "\n",
    "images_compressed = np.moveaxis(resize(np.moveaxis(images_raw, 0, -1), output_shape=(32, 32),\n",
    "                                       order=1, mode='reflect', anti_aliasing=True), -1, 0)"
   ]
  },
  {
   "cell_type": "code",
   "execution_count": null,
   "metadata": {},
   "outputs": [],
   "source": [
    "import matplotlib.pyplot as plt\n",
    "\n",
    "fig, ax = plt.subplots(1, 2)\n",
    "\n",
    "ax[0].imshow(images_raw[0]);\n",
    "ax[1].imshow(images_compressed[0]);"
   ]
  },
  {
   "cell_type": "code",
   "execution_count": null,
   "metadata": {},
   "outputs": [],
   "source": [
    "fig, ax = plt.subplots(1, 2)\n",
    "idx = 0\n",
    "\n",
    "ax[0].imshow(np.mean(images_raw[72*idx:72*(idx+1)], axis=0));\n",
    "ax[1].imshow(np.mean(images_compressed[72*idx:72*(idx+1)], axis=0));"
   ]
  },
  {
   "cell_type": "code",
   "execution_count": null,
   "metadata": {},
   "outputs": [],
   "source": [
    "fig, ax = plt.subplots(1, 2)\n",
    "\n",
    "ax[0].imshow(np.mean(images_raw, axis=0));\n",
    "ax[1].imshow(np.mean(images_compressed, axis=0));"
   ]
  },
  {
   "cell_type": "code",
   "execution_count": 8,
   "metadata": {},
   "outputs": [],
   "source": [
    "from visualize import tSNE_2D, tSNE_3D"
   ]
  },
  {
   "cell_type": "code",
   "execution_count": null,
   "metadata": {},
   "outputs": [],
   "source": [
    "images_raw_flat = images_raw.reshape(images_raw.shape[0], -1)\n",
    "images_compressed_flat = images_compressed.reshape(images_compressed.shape[0], -1)\n",
    "tSNE_2D(images_compressed_flat, labels)\n",
    "#tSNE_3D(images_compressed_flat, labels)"
   ]
  },
  {
   "cell_type": "markdown",
   "metadata": {},
   "source": [
    "## Normalize data"
   ]
  },
  {
   "cell_type": "code",
   "execution_count": 10,
   "metadata": {},
   "outputs": [],
   "source": [
    "inpt = images_compressed_flat\n",
    "\n",
    "# global rescale to [-1, 1]\n",
    "mmin = np.min(inpt)\n",
    "mmax = np.max(inpt)\n",
    "images_norm = (np.multiply(inpt, 2, dtype='float64') - mmax - mmin) / (mmax - mmin)"
   ]
  },
  {
   "cell_type": "code",
   "execution_count": 11,
   "metadata": {},
   "outputs": [],
   "source": [
    "from load import split\n",
    "\n",
    "if('images_norm_val' not in locals()):\n",
    "    images_norm_val, images_norm = split(images_norm, 0.2)\n",
    "    labels_val, labels = split(labels, 0.2)"
   ]
  },
  {
   "cell_type": "code",
   "execution_count": 12,
   "metadata": {},
   "outputs": [],
   "source": [
    "# from scipy.io import savemat\n",
    "\n",
    "# savemat('./saved/raw/Coil20.mat', mdict={'X':images_raw, 'Y':labels})\n",
    "# savemat('./saved/rescaled/Coil20.mat', mdict={'X':images_norm, 'Y':labels, 'X_val':images_norm_val, 'Y_val':labels_val})"
   ]
  },
  {
   "cell_type": "markdown",
   "metadata": {},
   "source": [
    "## Hyperparameters"
   ]
  },
  {
   "cell_type": "code",
   "execution_count": 13,
   "metadata": {},
   "outputs": [],
   "source": [
    "lamb1 = 0.0\n",
    "lamb2 = 0.0005\n",
    "lamb3 = 0.0"
   ]
  },
  {
   "cell_type": "markdown",
   "metadata": {},
   "source": [
    "## Calculate C matrix"
   ]
  },
  {
   "cell_type": "code",
   "execution_count": 14,
   "metadata": {
    "scrolled": true
   },
   "outputs": [],
   "source": [
    "import numpy as np\n",
    "import supporting_files.sda as sda\n",
    "\n",
    "from supporting_files.helpers import optimize\n",
    "from scipy.io import savemat, loadmat"
   ]
  },
  {
   "cell_type": "code",
   "execution_count": null,
   "metadata": {},
   "outputs": [],
   "source": [
    "# Matlab SSC #1\n",
    "savemat('./temp.mat', mdict={'X': images_norm})\n",
    "k = len(np.unique(labels))\n",
    "alpha = 10.0\n",
    "maxIter = 63\n",
    "eng.SSC_modified(k, 0, False, alpha, False, 1, 1e-20, maxIter, False, 0)\n",
    "C = loadmat(\"./temp.mat\")['C']"
   ]
  },
  {
   "cell_type": "code",
   "execution_count": null,
   "metadata": {
    "scrolled": true
   },
   "outputs": [],
   "source": [
    "display_image(C[:110, :110], 110, 110)\n",
    "print(np.mean(np.square(C)))"
   ]
  },
  {
   "cell_type": "code",
   "execution_count": null,
   "metadata": {},
   "outputs": [],
   "source": [
    "fig, ax = plt.subplots(2)\n",
    "\n",
    "index = 0;\n",
    "ax[0].imshow(images_norm[index].reshape((data_h, data_w)));\n",
    "ax[1].imshow(np.matmul(C, images_norm)[index].reshape((data_h, data_w)));\n",
    "print(np.mean(np.square(images_norm - np.matmul(C, images_norm))))"
   ]
  },
  {
   "cell_type": "markdown",
   "metadata": {},
   "source": [
    "## Train Autoencoder"
   ]
  },
  {
   "cell_type": "code",
   "execution_count": 162,
   "metadata": {},
   "outputs": [
    {
     "data": {
      "text/plain": [
       "<module 'dsc' from 'C:\\\\Users\\\\aleks_000\\\\Desktop\\\\Mentorship\\\\!GitHub\\\\dsc.py'>"
      ]
     },
     "execution_count": 162,
     "metadata": {},
     "output_type": "execute_result"
    }
   ],
   "source": [
    "from supporting_files import helpers\n",
    "from supporting_files import sda\n",
    "import dsc\n",
    "import importlib\n",
    "importlib.reload(helpers)\n",
    "importlib.reload(sda)\n",
    "importlib.reload(dsc)"
   ]
  },
  {
   "cell_type": "code",
   "execution_count": null,
   "metadata": {},
   "outputs": [],
   "source": [
    "for b in [1, 2, 3, 4, 6, 8, 10, 15, 20, 25, 50, 75, 100, 150, 200]:\n",
    "    d = dsc.DeepSubspaceClustering(images_norm, images_norm_val, C=C, trainC=trainC, hidden_dims=[32], weight_init='sda-normal',\n",
    "                               weight_init_params={'epochs_max':1000, 'lr':0.001, 'batch_num':b, 'sda_printstep':100, 'validation_step':1},\n",
    "                               sda_optimizer='Adam', sda_decay='none', verbose=False, save_path=\"./saved/models/coil20/test_{0:.4g}\")"
   ]
  },
  {
   "cell_type": "code",
   "execution_count": null,
   "metadata": {},
   "outputs": [],
   "source": [
    "%%time\n",
    "trainC = False\n",
    "C = None\n",
    "d = dsc.DeepSubspaceClustering(images_norm, images_norm_val, C=C, trainC=trainC, hidden_dims=[32], weight_init='sda-normal',\n",
    "                               weight_init_params={'epochs_max':1000, 'lr':0.001, 'batch_num':1, 'sda_printstep':100, 'validation_step':1},\n",
    "                               sda_optimizer='Adam', sda_decay='none', verbose=False, save_path=\"./saved/models/coil20/test_{0:.4g}\")"
   ]
  },
  {
   "cell_type": "code",
   "execution_count": 17,
   "metadata": {},
   "outputs": [],
   "source": [
    "encoded_h = 4\n",
    "encoded_w = 8"
   ]
  },
  {
   "cell_type": "code",
   "execution_count": 18,
   "metadata": {},
   "outputs": [
    {
     "name": "stdout",
     "output_type": "stream",
     "text": [
      "\n",
      "epoch 0: global loss = 0.17271503806114197\n",
      "epoch 50: global loss = 0.14886653423309326\n",
      "Wall time: 9.12 s\n"
     ]
    }
   ],
   "source": [
    "%%time\n",
    "sess = d.train(lambda1=lamb1, lambda2=lamb2, lambda3=lamb3, learning_rate=0.0001, optimizer='Adam', decay='sqrt',\n",
    "               batch_size=images_norm.shape[0], epochs=100, print_step=50)\n",
    "images_HM2 = d.result\n",
    "images_HM = d.reconstr\n",
    "if(trainC):\n",
    "    trained_C = np.float64(d.outC)\n",
    "else:\n",
    "    trained_C = C"
   ]
  },
  {
   "cell_type": "code",
   "execution_count": 31,
   "metadata": {},
   "outputs": [],
   "source": [
    "import matplotlib.pyplot as plt\n",
    "\n",
    "def display_image(image, height, width):\n",
    "    print(np.min(image), np.max(image))\n",
    "    imgplot = plt.imshow(image.reshape((height, width)))"
   ]
  },
  {
   "cell_type": "code",
   "execution_count": 67,
   "metadata": {},
   "outputs": [],
   "source": [
    "# lambda3 - regularization on trained_C\n",
    "if(C is not None):\n",
    "    display_image(trained_C[:110, :110], 110, 110)"
   ]
  },
  {
   "cell_type": "code",
   "execution_count": null,
   "metadata": {},
   "outputs": [],
   "source": [
    "display_image(images_HM2[0], encoded_h, encoded_w)"
   ]
  },
  {
   "cell_type": "code",
   "execution_count": 413,
   "metadata": {},
   "outputs": [],
   "source": [
    "# lambda1 - self-expressiveness\n",
    "if(C is not None):\n",
    "    display_image(np.matmul(trained_C, images_HM2)[0], encoded_h, encoded_w)\n",
    "    print(np.mean(np.square(images_HM2 - np.matmul(trained_C, images_HM2))))"
   ]
  },
  {
   "cell_type": "code",
   "execution_count": null,
   "metadata": {},
   "outputs": [],
   "source": [
    "display_image(np.mean(images_HM2, axis=0), encoded_h, encoded_w)"
   ]
  },
  {
   "cell_type": "code",
   "execution_count": null,
   "metadata": {},
   "outputs": [],
   "source": [
    "display_image(np.std(images_HM2, axis=0), encoded_h, encoded_w)"
   ]
  },
  {
   "cell_type": "code",
   "execution_count": 416,
   "metadata": {},
   "outputs": [],
   "source": [
    "# tSNE_2D(images_HM2, labels)\n",
    "# tSNE_3D(images_HM2, labels)"
   ]
  },
  {
   "cell_type": "code",
   "execution_count": null,
   "metadata": {
    "scrolled": true
   },
   "outputs": [],
   "source": [
    "# AE Reconstruction\n",
    "fig, ax = plt.subplots(1, 2)\n",
    "\n",
    "index = 0;\n",
    "ax[0].imshow(images_norm[index].reshape((data_h, data_w)));\n",
    "ax[1].imshow(images_HM[index].reshape((data_h, data_w)));"
   ]
  },
  {
   "cell_type": "code",
   "execution_count": null,
   "metadata": {},
   "outputs": [],
   "source": [
    "fig, ax = plt.subplots(1, 2)\n",
    "\n",
    "ax[0].imshow(np.std(images_norm, axis=0).reshape((data_h, data_w)));\n",
    "ax[1].imshow(np.std(images_HM, axis=0).reshape((data_h, data_w)));\n",
    "print(\"By rows (original):\", np.mean(np.std(images_norm, axis=0).reshape((data_h, -1)), axis=1))\n",
    "print(\"By rows (AE reconstr):\", np.mean(np.std(images_HM, axis=0).reshape((data_h, -1)), axis=1))"
   ]
  },
  {
   "cell_type": "code",
   "execution_count": null,
   "metadata": {},
   "outputs": [],
   "source": [
    "reconstr = pca.inverse_transform(((images_HM * (mmax - mmin)) + mmax + mmin) / 2)\n",
    "pca_reconstr2 = pca.inverse_transform(((images_norm * (mmax - mmin)) + mmax + mmin) / 2)"
   ]
  },
  {
   "cell_type": "code",
   "execution_count": null,
   "metadata": {},
   "outputs": [],
   "source": [
    "# AE + invPCA Reconstruction\n",
    "fig, ax = plt.subplots(1, 3)\n",
    "\n",
    "index = 0;\n",
    "#ax[0].imshow(images_dsift[index].reshape((-1, 128)));\n",
    "ax[0].imshow(images_compressed_flat[index].reshape((-1, 32)));\n",
    "ax[1].imshow(pca_reconstr2[index].reshape((-1, 32)));\n",
    "ax[2].imshow(reconstr[index].reshape((-1, 32)));"
   ]
  },
  {
   "cell_type": "code",
   "execution_count": null,
   "metadata": {},
   "outputs": [],
   "source": [
    "# PCA Features\n",
    "from ipywidgets import BoundedIntText, FloatSlider, Output, VBox\n",
    "idx = BoundedIntText(description=\"Index:\", max=images_HM.shape[1]-1)\n",
    "val = FloatSlider(description=\"Value:\", continuous_update=False)\n",
    "output = Output()\n",
    "\n",
    "indx = 0\n",
    "vector = images_HM[indx].copy()\n",
    "val_mins = (np.mean(images_HM, axis=0) - 2 * np.std(images_HM, axis=0)).flatten()\n",
    "val_maxs = (np.mean(images_HM, axis=0) + 2 * np.std(images_HM, axis=0)).flatten()\n",
    "\n",
    "def update_channels(change):\n",
    "    val.min = val_mins[change.new]\n",
    "    val.max = val_maxs[change.new]\n",
    "    val.step = (val_maxs[change.new] - val_mins[change.new]) / 100\n",
    "    val.value = vector[change.new]\n",
    "idx.observe(update_channels, 'value')\n",
    "\n",
    "def update_plot(change):\n",
    "    if(change is not None):\n",
    "        vector[idx.value] = change.new\n",
    "    output.clear_output(wait=True)\n",
    "    with output:\n",
    "        plt.imshow(vector.reshape((data_h, data_w)))\n",
    "        plt.show()\n",
    "        plt.imshow((pca.inverse_transform((vector * (mmax - mmin)) + mmax + mmin) / 2).reshape((-1, 32)))\n",
    "        plt.show()\n",
    "val.observe(update_plot, 'value')\n",
    "\n",
    "update_channels(type('obj', (object,), {'new': 0}))\n",
    "VBox([idx, val, output])"
   ]
  },
  {
   "cell_type": "code",
   "execution_count": 418,
   "metadata": {},
   "outputs": [
    {
     "data": {
      "text/plain": [
       "(1440, 30)"
      ]
     },
     "execution_count": 418,
     "metadata": {},
     "output_type": "execute_result"
    }
   ],
   "source": [
    "# Orthogonalize HM2 with PCA\n",
    "from sklearn.decomposition import PCA\n",
    "import numpy as np\n",
    "\n",
    "pca2 = PCA(n_components=30, whiten=False, svd_solver='arpack', random_state=0)\n",
    "images_HM2_orth = pca2.fit_transform(images_HM2)\n",
    "\n",
    "images_HM2_orth.shape"
   ]
  },
  {
   "cell_type": "code",
   "execution_count": null,
   "metadata": {},
   "outputs": [],
   "source": [
    "stds2 = np.std(images_HM2_orth, axis=0)\n",
    "display_image(stds2, 5, 6)\n",
    "print(\"By rows:\", np.mean(stds2.reshape((6, -1)), axis=1))"
   ]
  },
  {
   "cell_type": "code",
   "execution_count": 420,
   "metadata": {},
   "outputs": [
    {
     "data": {
      "text/plain": [
       "0.92525244"
      ]
     },
     "execution_count": 420,
     "metadata": {},
     "output_type": "execute_result"
    }
   ],
   "source": [
    "np.std(images_HM2_orth, axis=0)[1] / np.std(images_HM2_orth, axis=0)[0]"
   ]
  },
  {
   "cell_type": "code",
   "execution_count": 428,
   "metadata": {},
   "outputs": [
    {
     "data": {
      "application/vnd.jupyter.widget-view+json": {
       "model_id": "01df704e8229456d8c8b43354642116d",
       "version_major": 2,
       "version_minor": 0
      },
      "text/plain": [
       "VBox(children=(BoundedIntText(value=0, description='Index:', max=29), FloatSlider(value=-0.539316713809967, co…"
      ]
     },
     "metadata": {},
     "output_type": "display_data"
    }
   ],
   "source": [
    "# AE Features (orthogonalized)\n",
    "from ipywidgets import BoundedIntText, FloatSlider, Output, VBox\n",
    "idx = BoundedIntText(description=\"Index:\", max=images_HM2_orth.shape[1]-1)\n",
    "val = FloatSlider(description=\"Value:\", continuous_update=False)\n",
    "output = Output()\n",
    "\n",
    "indx = 10\n",
    "vector = images_HM2_orth[indx:indx+1].copy()\n",
    "val_mins = (np.mean(images_HM2_orth, axis=0) - 2 * np.std(images_HM2_orth, axis=0)).flatten()\n",
    "val_maxs = (np.mean(images_HM2_orth, axis=0) + 2 * np.std(images_HM2_orth, axis=0)).flatten()\n",
    "\n",
    "def update_channels(change):\n",
    "    val.min = val_mins[change.new]\n",
    "    val.max = val_maxs[change.new]\n",
    "    val.step = (val_maxs[change.new] - val_mins[change.new]) / 100\n",
    "    val.value = vector[0][change.new]\n",
    "idx.observe(update_channels, 'value')\n",
    "\n",
    "def update_plot(change):\n",
    "    if(change is not None):\n",
    "        vector[0][idx.value] = change.new\n",
    "    output.clear_output(wait=True)\n",
    "    with output:\n",
    "        plt.imshow(vector[0].reshape((5, 6)))\n",
    "        plt.show()\n",
    "        out = sess.run(d.H_M, feed_dict={d.H_M_2: pca2.inverse_transform(vector)})\n",
    "        #out = pca.inverse_transform(((out * (mmax - mmin)) + mmax + mmin) / 2)\n",
    "        plt.imshow(out.reshape((data_h, data_w)))\n",
    "        plt.show()\n",
    "val.observe(update_plot, 'value')\n",
    "\n",
    "update_channels(type('obj', (object,), {'new': 0}))\n",
    "VBox([idx, val, output])"
   ]
  },
  {
   "cell_type": "code",
   "execution_count": null,
   "metadata": {},
   "outputs": [],
   "source": [
    "# HM2 Rotation\n",
    "fig, ax = plt.subplots(6, 4)\n",
    "\n",
    "for i in range(24):\n",
    "    ax[i%6][i//6].imshow(images_HM2[3*i].reshape((encoded_h, encoded_w)));\n",
    "    ax[i%6][i//6].set_title(3*i)"
   ]
  },
  {
   "cell_type": "code",
   "execution_count": 423,
   "metadata": {},
   "outputs": [],
   "source": [
    "# Matlab SSC #2\n",
    "k = len(np.unique(labels))\n",
    "alpha = 20.0\n",
    "maxIter = 63\n",
    "if(not trainC):\n",
    "    savemat('./temp.mat', mdict={'X': images_HM2})\n",
    "else:\n",
    "    savemat('./temp.mat', mdict={'C': C})\n",
    "grps = eng.SSC_modified(k, 0, False, alpha, False, 1, 1e-20, maxIter, True, 0, trainC)\n",
    "C_after = loadmat(\"./temp.mat\")['C']\n",
    "labels_pred = np.asarray(grps, dtype=np.int32).flatten()"
   ]
  },
  {
   "cell_type": "code",
   "execution_count": 424,
   "metadata": {},
   "outputs": [
    {
     "data": {
      "application/vnd.jupyter.widget-view+json": {
       "model_id": "afe00851b4074a56bd57522ee98281bb",
       "version_major": 2,
       "version_minor": 0
      },
      "text/plain": [
       "VBox(children=(IntSlider(value=0, description='X:', max=1330), IntSlider(value=0, description='Y:', max=1330),…"
      ]
     },
     "metadata": {},
     "output_type": "display_data"
    }
   ],
   "source": [
    "from ipywidgets import IntSlider, Output, VBox\n",
    "sld_x = IntSlider(description=\"X:\", max=C_after.shape[1]-110, continuous_update=True)\n",
    "sld_y = IntSlider(description=\"Y:\", max=C_after.shape[0]-110, continuous_update=True)\n",
    "output = Output()\n",
    "\n",
    "def update_C(change):\n",
    "    output.clear_output(wait=True)\n",
    "    with output:\n",
    "        plt.imshow(C_after[sld_y.value:sld_y.value+110, sld_x.value:sld_x.value+110].reshape((110, 110)))\n",
    "        plt.show()\n",
    "sld_x.observe(update_C, 'value')\n",
    "sld_y.observe(update_C, 'value')\n",
    "\n",
    "update_C(None)\n",
    "VBox([sld_x, sld_y, output])"
   ]
  },
  {
   "cell_type": "code",
   "execution_count": 425,
   "metadata": {},
   "outputs": [],
   "source": [
    "# tSNE_2D(images_HM2, labels_pred)\n",
    "# tSNE_3D(images_HM2, labels_pred)"
   ]
  },
  {
   "cell_type": "markdown",
   "metadata": {
    "collapsed": true
   },
   "source": [
    "## Perform clustering with SSC"
   ]
  },
  {
   "cell_type": "code",
   "execution_count": 431,
   "metadata": {},
   "outputs": [
    {
     "name": "stdout",
     "output_type": "stream",
     "text": [
      "Accuracy:  0.6361111111111111\n",
      "NMI:  0.8080253154259301\n",
      "ARI:  0.4748773964100252\n"
     ]
    }
   ],
   "source": [
    "from supporting_files.ji_zhang import err_rate\n",
    "from sklearn.metrics import normalized_mutual_info_score as nmi\n",
    "from sklearn.metrics import adjusted_rand_score as ari\n",
    "\n",
    "predicted = labels_pred\n",
    "print(\"Accuracy: \", str(1-err_rate(labels, predicted)))\n",
    "print(\"NMI: \", str(nmi(labels, predicted, average_method=\"geometric\")))\n",
    "print(\"ARI: \", str(ari(labels, predicted)))"
   ]
  },
  {
   "cell_type": "code",
   "execution_count": null,
   "metadata": {},
   "outputs": [],
   "source": [
    "from sklearn.cluster import SpectralClustering\n",
    "sc = SpectralClustering(n_clusters=20, random_state=0)\n",
    "labels_pred2 = sc.fit_predict(images_HM2, labels)"
   ]
  }
 ],
 "metadata": {
  "kernelspec": {
   "display_name": "Python 3",
   "language": "python",
   "name": "python3"
  },
  "language_info": {
   "codemirror_mode": {
    "name": "ipython",
    "version": 3
   },
   "file_extension": ".py",
   "mimetype": "text/x-python",
   "name": "python",
   "nbconvert_exporter": "python",
   "pygments_lexer": "ipython3",
   "version": "3.5.6"
  }
 },
 "nbformat": 4,
 "nbformat_minor": 2
}
