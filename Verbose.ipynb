{
 "cells": [
  {
   "cell_type": "markdown",
   "metadata": {},
   "source": [
    "## Load + process data"
   ]
  },
  {
   "cell_type": "code",
   "execution_count": null,
   "metadata": {},
   "outputs": [],
   "source": [
    "import matlab.engine\n",
    "eng = matlab.engine.start_matlab()\n",
    "eng.cd(\"./SSC_ADMM_v1.1\")"
   ]
  },
  {
   "cell_type": "code",
   "execution_count": null,
   "metadata": {},
   "outputs": [],
   "source": [
    "# I renamed files 1, 2.. to 01, 02..\n",
    "# so that they are globbed in order later\n",
    "\n",
    "from pathlib import Path\n",
    "def rename_Coil20(path=\"./data/coil-20-proc\"):\n",
    "    path = Path(path)\n",
    "    for img in path.glob(\"obj*.png\"):\n",
    "        name = img.name\n",
    "        new_name = name\n",
    "        \n",
    "        if(name.find('__') < 5):\n",
    "            new_name = new_name[:3] + '0' + new_name[3:]\n",
    "        if(len(new_name) < 13):\n",
    "            new_name = new_name[:7] + '0' + new_name[7:]\n",
    "        if(new_name != name):\n",
    "            print(\"Renamed \" + name + \" to \" + new_name)\n",
    "            img.rename(path / new_name)\n",
    "\n",
    "rename_Coil20()"
   ]
  },
  {
   "cell_type": "code",
   "execution_count": null,
   "metadata": {},
   "outputs": [],
   "source": [
    "from load import load_Coil20\n",
    "\n",
    "images_raw, labels = load_Coil20()"
   ]
  },
  {
   "cell_type": "code",
   "execution_count": null,
   "metadata": {},
   "outputs": [],
   "source": [
    "data_h = 32\n",
    "data_w = 32"
   ]
  },
  {
   "cell_type": "code",
   "execution_count": null,
   "metadata": {},
   "outputs": [],
   "source": [
    "import numpy as np\n",
    "from skimage.transform import resize\n",
    "\n",
    "images_compressed = np.moveaxis(resize(np.moveaxis(images_raw, 0, -1), output_shape=(32, 32),\n",
    "                                       order=1, mode='reflect', anti_aliasing=True), -1, 0)"
   ]
  },
  {
   "cell_type": "code",
   "execution_count": null,
   "metadata": {},
   "outputs": [],
   "source": [
    "import matplotlib.pyplot as plt\n",
    "\n",
    "fig, ax = plt.subplots(1, 2)\n",
    "\n",
    "ax[0].imshow(images_raw[0]);\n",
    "ax[1].imshow(images_compressed[0]);"
   ]
  },
  {
   "cell_type": "code",
   "execution_count": null,
   "metadata": {},
   "outputs": [],
   "source": [
    "fig, ax = plt.subplots(1, 2)\n",
    "idx = 0\n",
    "\n",
    "ax[0].imshow(np.mean(images_raw[72*idx:72*(idx+1)], axis=0));\n",
    "ax[1].imshow(np.mean(images_compressed[72*idx:72*(idx+1)], axis=0));"
   ]
  },
  {
   "cell_type": "code",
   "execution_count": null,
   "metadata": {},
   "outputs": [],
   "source": [
    "fig, ax = plt.subplots(1, 2)\n",
    "\n",
    "ax[0].imshow(np.mean(images_raw, axis=0));\n",
    "ax[1].imshow(np.mean(images_compressed, axis=0));"
   ]
  },
  {
   "cell_type": "code",
   "execution_count": null,
   "metadata": {},
   "outputs": [],
   "source": [
    "from visualize import tSNE_2D, tSNE_3D"
   ]
  },
  {
   "cell_type": "code",
   "execution_count": null,
   "metadata": {},
   "outputs": [],
   "source": [
    "images_raw_flat = images_raw.reshape(images_raw.shape[0], -1)\n",
    "images_compressed_flat = images_compressed.reshape(images_compressed.shape[0], -1)\n",
    "tSNE_2D(images_compressed_flat, labels)\n",
    "#tSNE_3D(images_compressed_flat, labels)"
   ]
  },
  {
   "cell_type": "markdown",
   "metadata": {},
   "source": [
    "## Normalize data"
   ]
  },
  {
   "cell_type": "code",
   "execution_count": null,
   "metadata": {},
   "outputs": [],
   "source": [
    "inpt = images_compressed_flat\n",
    "\n",
    "# global rescale to [-1, 1]\n",
    "mmin = np.min(inpt)\n",
    "mmax = np.max(inpt)\n",
    "images_norm = (np.multiply(inpt, 2, dtype='float64') - mmax - mmin) / (mmax - mmin)"
   ]
  },
  {
   "cell_type": "code",
   "execution_count": null,
   "metadata": {},
   "outputs": [],
   "source": [
    "from load import split_mult\n",
    "\n",
    "if('images_norm_val' not in locals()):\n",
    "    validation, training = split_mult([images_norm, labels], 0.2)\n",
    "    images_norm, labels = training\n",
    "    images_norm_val, labels_val = validation"
   ]
  },
  {
   "cell_type": "code",
   "execution_count": null,
   "metadata": {},
   "outputs": [],
   "source": [
    "# from scipy.io import savemat\n",
    "\n",
    "# savemat('./saved/raw/Coil20.mat', mdict={'X':images_raw, 'Y':labels})\n",
    "# savemat('./saved/rescaled/Coil20.mat', mdict={'X':images_norm, 'Y':labels, 'X_val':images_norm_val, 'Y_val':labels_val})"
   ]
  },
  {
   "cell_type": "markdown",
   "metadata": {},
   "source": [
    "## Calculate C matrix"
   ]
  },
  {
   "cell_type": "code",
   "execution_count": null,
   "metadata": {
    "scrolled": true
   },
   "outputs": [],
   "source": [
    "import numpy as np\n",
    "import supporting_files.sda as sda\n",
    "\n",
    "from supporting_files.helpers import optimize\n",
    "from scipy.io import savemat, loadmat"
   ]
  },
  {
   "cell_type": "code",
   "execution_count": null,
   "metadata": {},
   "outputs": [],
   "source": [
    "# Matlab SSC #1\n",
    "savemat('./temp.mat', mdict={'X': images_norm})\n",
    "k = len(np.unique(labels))\n",
    "alpha = 10.0\n",
    "maxIter = 63\n",
    "eng.SSC_modified(k, 0, False, alpha, False, 1, 1e-20, maxIter, False, 0)\n",
    "C = loadmat(\"./temp.mat\")['C']"
   ]
  },
  {
   "cell_type": "code",
   "execution_count": null,
   "metadata": {
    "scrolled": true
   },
   "outputs": [],
   "source": [
    "display_image(C[:110, :110], 110, 110)\n",
    "print(np.mean(np.square(C)))"
   ]
  },
  {
   "cell_type": "code",
   "execution_count": null,
   "metadata": {},
   "outputs": [],
   "source": [
    "fig, ax = plt.subplots(2)\n",
    "\n",
    "index = 0;\n",
    "ax[0].imshow(images_norm[index].reshape((data_h, data_w)));\n",
    "ax[1].imshow(np.matmul(C, images_norm)[index].reshape((data_h, data_w)));\n",
    "print(np.mean(np.square(images_norm - np.matmul(C, images_norm))))"
   ]
  },
  {
   "cell_type": "markdown",
   "metadata": {},
   "source": [
    "## Train Autoencoder"
   ]
  },
  {
   "cell_type": "code",
   "execution_count": null,
   "metadata": {},
   "outputs": [],
   "source": [
    "from supporting_files import helpers\n",
    "from supporting_files import sda\n",
    "import dsc\n",
    "import importlib\n",
    "importlib.reload(helpers)\n",
    "importlib.reload(sda)\n",
    "importlib.reload(dsc)"
   ]
  },
  {
   "cell_type": "code",
   "execution_count": null,
   "metadata": {},
   "outputs": [],
   "source": [
    "%%time\n",
    "trainC = False\n",
    "C = None\n",
    "d = dsc.DeepSubspaceClustering(images_norm, images_norm_val, C=C, trainC=trainC, hidden_dims=[32], weight_init='sda-normal',\n",
    "                               weight_init_params={'epochs_max':10000, 'sda_printstep':100, 'validation_step':10}, lr=0.001, batch_num=1,\n",
    "                               sda_optimizer='Adam', sda_decay='none', verbose=False, save_path=\"./saved/models/coil20/test_{0:.4g}\")"
   ]
  },
  {
   "cell_type": "code",
   "execution_count": null,
   "metadata": {},
   "outputs": [],
   "source": [
    "%%time\n",
    "trainC = True\n",
    "C = C\n",
    "d = dsc.DeepSubspaceClustering(images_norm, images_norm_val, C=C, trainC=trainC, hidden_dims=[32],\n",
    "                               lr=0.001, batch_num=1, seed=0, verbose=True, load_path=\"./saved/models/coil20/test_0.1699\")"
   ]
  },
  {
   "cell_type": "code",
   "execution_count": null,
   "metadata": {},
   "outputs": [],
   "source": [
    "encoded_h = 4\n",
    "encoded_w = 8"
   ]
  },
  {
   "cell_type": "code",
   "execution_count": null,
   "metadata": {},
   "outputs": [],
   "source": [
    "%%time\n",
    "sess = d.train(lambda1=1.0, lambda2=1.0, lambda3=1.0, learning_rate=0.00001, optimizer='Adam', decay='none',\n",
    "               batch_num=100, epochs=1000, print_step=100, validation_step=10, stop_criteria=3)\n",
    "images_HM2 = d.result\n",
    "images_HM = d.reconstr\n",
    "if(trainC):\n",
    "    trained_C = np.float64(d.outC)\n",
    "else:\n",
    "    trained_C = C"
   ]
  },
  {
   "cell_type": "code",
   "execution_count": null,
   "metadata": {},
   "outputs": [],
   "source": []
  },
  {
   "cell_type": "code",
   "execution_count": null,
   "metadata": {},
   "outputs": [],
   "source": [
    "import matplotlib.pyplot as plt\n",
    "\n",
    "def display_image(image, height, width):\n",
    "    print(np.min(image), np.max(image))\n",
    "    imgplot = plt.imshow(image.reshape((height, width)))"
   ]
  },
  {
   "cell_type": "code",
   "execution_count": null,
   "metadata": {},
   "outputs": [],
   "source": [
    "# lambda3 - regularization on trained_C\n",
    "if(trained_C is not None):\n",
    "    display_image(trained_C[:110, :110], 110, 110)"
   ]
  },
  {
   "cell_type": "code",
   "execution_count": null,
   "metadata": {},
   "outputs": [],
   "source": [
    "display_image(images_HM2[0], encoded_h, encoded_w)"
   ]
  },
  {
   "cell_type": "code",
   "execution_count": null,
   "metadata": {},
   "outputs": [],
   "source": [
    "# lambda1 - self-expressiveness\n",
    "if(trained_C is not None):\n",
    "    display_image(np.matmul(trained_C, images_HM2)[0], encoded_h, encoded_w)\n",
    "    print(np.mean(np.square(images_HM2 - np.matmul(trained_C, images_HM2))))"
   ]
  },
  {
   "cell_type": "code",
   "execution_count": null,
   "metadata": {},
   "outputs": [],
   "source": [
    "display_image(np.mean(images_HM2, axis=0), encoded_h, encoded_w)"
   ]
  },
  {
   "cell_type": "code",
   "execution_count": null,
   "metadata": {},
   "outputs": [],
   "source": [
    "display_image(np.std(images_HM2, axis=0), encoded_h, encoded_w)"
   ]
  },
  {
   "cell_type": "code",
   "execution_count": null,
   "metadata": {},
   "outputs": [],
   "source": [
    "tSNE_2D(images_HM2, labels)\n",
    "# tSNE_3D(images_HM2, labels)"
   ]
  },
  {
   "cell_type": "code",
   "execution_count": null,
   "metadata": {
    "scrolled": true
   },
   "outputs": [],
   "source": [
    "# AE Reconstruction\n",
    "fig, ax = plt.subplots(1, 2)\n",
    "\n",
    "index = 0;\n",
    "ax[0].imshow(images_norm[index].reshape((data_h, data_w)));\n",
    "ax[1].imshow(images_HM[index].reshape((data_h, data_w)));"
   ]
  },
  {
   "cell_type": "code",
   "execution_count": null,
   "metadata": {},
   "outputs": [],
   "source": [
    "fig, ax = plt.subplots(1, 2)\n",
    "\n",
    "ax[0].imshow(np.std(images_norm, axis=0).reshape((data_h, data_w)));\n",
    "ax[1].imshow(np.std(images_HM, axis=0).reshape((data_h, data_w)));\n",
    "print(\"By rows (original):\", np.mean(np.std(images_norm, axis=0).reshape((data_h, -1)), axis=1))\n",
    "print(\"By rows (AE reconstr):\", np.mean(np.std(images_HM, axis=0).reshape((data_h, -1)), axis=1))"
   ]
  },
  {
   "cell_type": "code",
   "execution_count": null,
   "metadata": {},
   "outputs": [],
   "source": [
    "# Orthogonalize HM2 with PCA\n",
    "from sklearn.decomposition import PCA\n",
    "import numpy as np\n",
    "\n",
    "pca2 = PCA(n_components=30, whiten=False, svd_solver='arpack', random_state=0)\n",
    "images_HM2_orth = pca2.fit_transform(images_HM2)\n",
    "\n",
    "images_HM2_orth.shape"
   ]
  },
  {
   "cell_type": "code",
   "execution_count": null,
   "metadata": {},
   "outputs": [],
   "source": [
    "stds2 = np.std(images_HM2_orth, axis=0)\n",
    "display_image(stds2, 5, 6)\n",
    "print(\"By rows:\", np.mean(stds2.reshape((6, -1)), axis=1))"
   ]
  },
  {
   "cell_type": "code",
   "execution_count": null,
   "metadata": {},
   "outputs": [],
   "source": [
    "np.std(images_HM2_orth, axis=0)[1] / np.std(images_HM2_orth, axis=0)[0]"
   ]
  },
  {
   "cell_type": "code",
   "execution_count": null,
   "metadata": {},
   "outputs": [],
   "source": [
    "# AE Features (orthogonalized)\n",
    "from ipywidgets import BoundedIntText, FloatSlider, Output, VBox\n",
    "idx = BoundedIntText(description=\"Index:\", max=images_HM2_orth.shape[1]-1)\n",
    "val = FloatSlider(description=\"Value:\", continuous_update=False)\n",
    "output = Output()\n",
    "\n",
    "indx = 0\n",
    "vector = images_HM2_orth[indx:indx+1].copy()\n",
    "val_mins = (np.mean(images_HM2_orth, axis=0) - 2 * np.std(images_HM2_orth, axis=0)).flatten()\n",
    "val_maxs = (np.mean(images_HM2_orth, axis=0) + 2 * np.std(images_HM2_orth, axis=0)).flatten()\n",
    "\n",
    "def update_channels(change):\n",
    "    val.min = val_mins[change.new]\n",
    "    val.max = val_maxs[change.new]\n",
    "    val.step = (val_maxs[change.new] - val_mins[change.new]) / 100\n",
    "    val.value = vector[0][change.new]\n",
    "idx.observe(update_channels, 'value')\n",
    "\n",
    "def update_plot(change):\n",
    "    if(change is not None):\n",
    "        vector[0][idx.value] = change.new\n",
    "    output.clear_output(wait=True)\n",
    "    with output:\n",
    "        plt.imshow(vector[0].reshape((5, 6)))\n",
    "        plt.show()\n",
    "        out = sess.run(d.H_M, feed_dict={d.H_M_2_post: pca2.inverse_transform(vector)})\n",
    "        plt.imshow(out.reshape((data_h, data_w)))\n",
    "        plt.show()\n",
    "val.observe(update_plot, 'value')\n",
    "\n",
    "update_channels(type('obj', (object,), {'new': 0}))\n",
    "VBox([idx, val, output])"
   ]
  },
  {
   "cell_type": "code",
   "execution_count": null,
   "metadata": {
    "scrolled": true
   },
   "outputs": [],
   "source": [
    "fig, ax = plt.subplots(1, 2)\n",
    "\n",
    "A = 0\n",
    "B = 800\n",
    "\n",
    "ax[0].imshow(images_norm[A].reshape(32, -1))\n",
    "ax[1].imshow(images_norm[B].reshape(32, -1))"
   ]
  },
  {
   "cell_type": "code",
   "execution_count": null,
   "metadata": {},
   "outputs": [],
   "source": [
    "fig, ax = plt.subplots(1, 2)\n",
    "\n",
    "ax[0].imshow(sess.run(d.H_M, feed_dict={d.H_M_2_post: images_HM2[A:A+1]}).reshape(32, -1))\n",
    "ax[1].imshow(sess.run(d.H_M, feed_dict={d.H_M_2_post: images_HM2[B:B+1]}).reshape(32, -1))"
   ]
  },
  {
   "cell_type": "code",
   "execution_count": null,
   "metadata": {},
   "outputs": [],
   "source": [
    "from IPython import display\n",
    "\n",
    "for i in range(51):\n",
    "    f = i / 50\n",
    "    intermed = (1-f)*images_HM2[A:A+1] + f*images_HM2[B:B+1]\n",
    "    plt.imshow(sess.run(d.H_M, feed_dict={d.H_M_2_post: intermed}).reshape(32, -1))\n",
    "    display.clear_output(wait=True)\n",
    "    display.display(plt.gcf())\n",
    "\n",
    "display.clear_output(wait=True)"
   ]
  },
  {
   "cell_type": "code",
   "execution_count": null,
   "metadata": {},
   "outputs": [],
   "source": [
    "# HM2 Rotation\n",
    "fig, ax = plt.subplots(6, 4)\n",
    "\n",
    "for i in range(24):\n",
    "    ax[i%6][i//6].imshow(images_HM2[2*i].reshape((encoded_h, encoded_w)));\n",
    "    ax[i%6][i//6].set_title(2*i)"
   ]
  },
  {
   "cell_type": "code",
   "execution_count": null,
   "metadata": {},
   "outputs": [],
   "source": [
    "# Matlab SSC #2\n",
    "k = len(np.unique(labels))\n",
    "alpha = 20.0\n",
    "maxIter = 63\n",
    "if(not trainC):\n",
    "    savemat('./temp.mat', mdict={'X': images_HM2})\n",
    "else:\n",
    "    savemat('./temp.mat', mdict={'C': trained_C})\n",
    "grps = eng.SSC_modified(k, 0, False, alpha, False, 1, 1e-20, maxIter, True, 0, trainC)\n",
    "C_after = loadmat(\"./temp.mat\")['C']\n",
    "labels_pred = np.asarray(grps, dtype=np.int32).flatten()"
   ]
  },
  {
   "cell_type": "code",
   "execution_count": null,
   "metadata": {},
   "outputs": [],
   "source": [
    "from ipywidgets import IntSlider, Output, VBox\n",
    "sld_x = IntSlider(description=\"X:\", max=C_after.shape[1]-110, continuous_update=True)\n",
    "sld_y = IntSlider(description=\"Y:\", max=C_after.shape[0]-110, continuous_update=True)\n",
    "output = Output()\n",
    "\n",
    "def update_C(change):\n",
    "    output.clear_output(wait=True)\n",
    "    with output:\n",
    "        plt.imshow(C_after[sld_y.value:sld_y.value+110, sld_x.value:sld_x.value+110].reshape((110, 110)))\n",
    "        plt.show()\n",
    "sld_x.observe(update_C, 'value')\n",
    "sld_y.observe(update_C, 'value')\n",
    "\n",
    "update_C(None)\n",
    "VBox([sld_x, sld_y, output])"
   ]
  },
  {
   "cell_type": "code",
   "execution_count": null,
   "metadata": {},
   "outputs": [],
   "source": [
    "tSNE_2D(images_HM2, labels_pred)\n",
    "# tSNE_3D(images_HM2, labels_pred)"
   ]
  },
  {
   "cell_type": "markdown",
   "metadata": {
    "collapsed": true
   },
   "source": [
    "## Perform clustering with SSC"
   ]
  },
  {
   "cell_type": "code",
   "execution_count": null,
   "metadata": {},
   "outputs": [],
   "source": [
    "from supporting_files.ji_zhang import err_rate\n",
    "from sklearn.metrics import normalized_mutual_info_score as nmi\n",
    "from sklearn.metrics import adjusted_rand_score as ari\n",
    "\n",
    "predicted = labels_pred\n",
    "print(\"Accuracy: \", str(1-err_rate(labels, predicted)))\n",
    "print(\"NMI: \", str(nmi(labels, predicted, average_method=\"geometric\")))\n",
    "print(\"ARI: \", str(ari(labels, predicted)))"
   ]
  },
  {
   "cell_type": "code",
   "execution_count": null,
   "metadata": {},
   "outputs": [],
   "source": [
    "import sys\n",
    "from sklearn.cluster import SpectralClustering\n",
    "# sc = SpectralClustering(n_clusters=20, random_state=0)\n",
    "# labels_pred2 = sc.fit_predict(images_HM2, labels)\n",
    "sc = SpectralClustering(n_clusters=20, random_state=0, affinity='precomputed')\n",
    "labels_pred2 = sc.fit_predict(C_after, labels)"
   ]
  }
 ],
 "metadata": {
  "kernelspec": {
   "display_name": "Python 3",
   "language": "python",
   "name": "python3"
  },
  "language_info": {
   "codemirror_mode": {
    "name": "ipython",
    "version": 3
   },
   "file_extension": ".py",
   "mimetype": "text/x-python",
   "name": "python",
   "nbconvert_exporter": "python",
   "pygments_lexer": "ipython3",
   "version": "3.5.6"
  }
 },
 "nbformat": 4,
 "nbformat_minor": 2
}
