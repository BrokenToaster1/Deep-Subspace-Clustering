{
 "cells": [
  {
   "cell_type": "markdown",
   "metadata": {},
   "source": [
    "## Load Coil20 data\n",
    "## Extract DSIFT features"
   ]
  },
  {
   "cell_type": "code",
   "execution_count": 1,
   "metadata": {},
   "outputs": [
    {
     "data": {
      "text/plain": [
       "'C:\\\\Users\\\\aleks_000\\\\Desktop\\\\Mentorship\\\\!GitHub'"
      ]
     },
     "execution_count": 1,
     "metadata": {},
     "output_type": "execute_result"
    }
   ],
   "source": [
    "import matlab.engine\n",
    "eng = matlab.engine.start_matlab()\n",
    "eng.cd(\"./SSC_ADMM_v1.1\")"
   ]
  },
  {
   "cell_type": "code",
   "execution_count": 2,
   "metadata": {},
   "outputs": [
    {
     "name": "stdout",
     "output_type": "stream",
     "text": [
      "\n",
      "Loading Coil20...\n",
      "----------------\n",
      "Elapsed: 3.75 sec\n"
     ]
    }
   ],
   "source": [
    "from load import load_Coil20\n",
    "from img2matrix import single_img2dsift\n",
    "\n",
    "# I renamed files 1, 2.. to 01, 02..\n",
    "# so that they are in order here\n",
    "images_raw, labels = load_Coil20()\n",
    "images_dsift = [single_img2dsift(image) for image in images_raw]"
   ]
  },
  {
   "cell_type": "code",
   "execution_count": null,
   "metadata": {},
   "outputs": [],
   "source": [
    "import matplotlib.pyplot as plt\n",
    "\n",
    "fig, ax = plt.subplots(1, 2)\n",
    "\n",
    "ax[0].imshow(images_raw[0].reshape((-1, 128)));\n",
    "ax[1].imshow(images_dsift[0].reshape((-1, 128)));"
   ]
  },
  {
   "cell_type": "code",
   "execution_count": null,
   "metadata": {},
   "outputs": [],
   "source": [
    "import numpy as np\n",
    "\n",
    "fig, ax = plt.subplots(1, 2)\n",
    "\n",
    "ax[0].imshow(np.mean(images_raw, axis=0).reshape((-1, 128)));\n",
    "ax[1].imshow(np.mean(images_dsift, axis=0).reshape((-1, 128)));"
   ]
  },
  {
   "cell_type": "code",
   "execution_count": null,
   "metadata": {},
   "outputs": [],
   "source": [
    "fig, ax = plt.subplots(1, 2)\n",
    "idx = 0\n",
    "\n",
    "ax[0].imshow(np.mean(images_raw[72*idx:72*(idx+1)], axis=0).reshape((-1, 128)));\n",
    "ax[1].imshow(np.mean(images_dsift[72*idx:72*(idx+1)], axis=0).reshape((-1, 128)));"
   ]
  },
  {
   "cell_type": "code",
   "execution_count": null,
   "metadata": {},
   "outputs": [],
   "source": [
    "fig, ax = plt.subplots(1, 2)\n",
    "\n",
    "ax[0].imshow(np.std(images_raw, axis=0).reshape((-1, 128)));\n",
    "ax[1].imshow(np.std(images_dsift, axis=0).reshape((-1, 128)));"
   ]
  },
  {
   "cell_type": "code",
   "execution_count": 7,
   "metadata": {},
   "outputs": [],
   "source": [
    "from visualize import tSNE_2D, tSNE_3D"
   ]
  },
  {
   "cell_type": "code",
   "execution_count": 8,
   "metadata": {},
   "outputs": [],
   "source": [
    "images_raw_flat = images_raw.reshape(images_raw.shape[0], -1)\n",
    "# tSNE_2D(images_raw_flat, labels)\n",
    "# tSNE_3D(images_raw_flat, labels)"
   ]
  },
  {
   "cell_type": "code",
   "execution_count": 9,
   "metadata": {},
   "outputs": [],
   "source": [
    "# tSNE_2D(images_dsift, labels)\n",
    "# tSNE_3D(images_dsift, labels)"
   ]
  },
  {
   "cell_type": "markdown",
   "metadata": {},
   "source": [
    "## Perform PCA"
   ]
  },
  {
   "cell_type": "code",
   "execution_count": 253,
   "metadata": {},
   "outputs": [
    {
     "data": {
      "text/plain": [
       "(1440, 1000)"
      ]
     },
     "execution_count": 253,
     "metadata": {},
     "output_type": "execute_result"
    }
   ],
   "source": [
    "from sklearn.decomposition import PCA\n",
    "import numpy as np\n",
    "    \n",
    "pca = PCA(n_components=1000, whiten=False, svd_solver='arpack', random_state=0)\n",
    "images_pca = pca.fit_transform(images_dsift)\n",
    "\n",
    "images_pca.shape"
   ]
  },
  {
   "cell_type": "code",
   "execution_count": 11,
   "metadata": {},
   "outputs": [],
   "source": [
    "import matplotlib.pyplot as plt\n",
    "\n",
    "def display_image(image, height, width):\n",
    "    print(np.min(image), np.max(image))\n",
    "    imgplot = plt.imshow(image.reshape((height, width)))"
   ]
  },
  {
   "cell_type": "code",
   "execution_count": null,
   "metadata": {},
   "outputs": [],
   "source": [
    "# these are reduced parameters - not supposed to look like anything\n",
    "display_image(images_pca[0], 25, 40)"
   ]
  },
  {
   "cell_type": "code",
   "execution_count": null,
   "metadata": {},
   "outputs": [],
   "source": [
    "display_image(np.mean(images_pca, axis=0), 15, 20)"
   ]
  },
  {
   "cell_type": "code",
   "execution_count": null,
   "metadata": {
    "scrolled": true
   },
   "outputs": [],
   "source": [
    "display_image(np.std(images_pca, axis=0), 15, 20)"
   ]
  },
  {
   "cell_type": "code",
   "execution_count": 15,
   "metadata": {},
   "outputs": [],
   "source": [
    "# tSNE_2D(images_pca, labels)\n",
    "# tSNE_3D(images_pca, labels)"
   ]
  },
  {
   "cell_type": "markdown",
   "metadata": {},
   "source": [
    "## Normalize PCA output"
   ]
  },
  {
   "cell_type": "code",
   "execution_count": 316,
   "metadata": {},
   "outputs": [],
   "source": [
    "# Types:\n",
    "# feature-wise - normalization occurs along one pixel of all images\n",
    "# image-wise - normalization occurs along all pixels of one image\n",
    "# all - normalization occurs along all pixels of all images\n",
    "\n",
    "# Methods:\n",
    "# standard - mean is set to 0, std is set to 1\n",
    "# [-1, 1] - min and max are used to linearly change the data range to [-1, 1]\n",
    "# unit-vector - each bin is divided by its euclidean distance\n",
    "\n",
    "#[BAD] feature, standard\n",
    "#images_norm = (images_pca - np.mean(images_pca, axis=0)) / np.std(images_pca, axis=0)\n",
    "# image, standard\n",
    "#images_norm = (images_pca - np.mean(images_pca, axis=1)[:, np.newaxis]) / np.std(images_pca, axis=1)[:, np.newaxis]\n",
    "# all, standard\n",
    "#images_norm = (images_pca - np.mean(images_pca)) / np.std(images_pca)\n",
    "\n",
    "\n",
    "#[BAD] feature, [-1, 1]\n",
    "#mmin = np.min(images_pca, axis=0)\n",
    "#mmax = np.max(images_pca, axis=0)\n",
    "#[BAD] image, [-1, 1]\n",
    "#mmin = np.min(images_pca, axis=1)[:, np.newaxis]\n",
    "#mmax = np.max(images_pca, axis=1)[:, np.newaxis]\n",
    "# all, [-1, 1]\n",
    "mmin = np.min(images_raw_flat)\n",
    "mmax = np.max(images_raw_flat)\n",
    "# FOR ALL:\n",
    "images_norm = (np.multiply(images_raw_flat, 2, dtype='float64') - mmax - mmin) / (mmax - mmin)\n",
    "\n",
    "#[BAD] feature, unit\n",
    "#images_norm = images_pca / np.sqrt(np.sum(images_pca*images_pca, axis=0))\n",
    "# image, unit\n",
    "#images_norm = images_pca / np.sqrt(np.sum(images_pca*images_pca, axis=1))[:, np.newaxis]\n",
    "# all, unit\n",
    "#images_norm = images_pca / np.sqrt(np.sum(images_pca*images_pca))"
   ]
  },
  {
   "cell_type": "code",
   "execution_count": null,
   "metadata": {},
   "outputs": [],
   "source": [
    "import matplotlib.pyplot as plt\n",
    "\n",
    "# these are reduced parameters - not supposed to look like anything\n",
    "display_image(images_norm[0], 128, 128)"
   ]
  },
  {
   "cell_type": "code",
   "execution_count": null,
   "metadata": {},
   "outputs": [],
   "source": [
    "display_image(np.mean(images_norm, axis=0), 15, 20)"
   ]
  },
  {
   "cell_type": "code",
   "execution_count": null,
   "metadata": {
    "scrolled": true
   },
   "outputs": [],
   "source": [
    "display_image(np.std(images_norm, axis=0), 15, 20)"
   ]
  },
  {
   "cell_type": "code",
   "execution_count": 20,
   "metadata": {},
   "outputs": [],
   "source": [
    "# tSNE_2D(images_norm, labels)\n",
    "# tSNE_3D(images_norm, labels)"
   ]
  },
  {
   "cell_type": "code",
   "execution_count": 21,
   "metadata": {},
   "outputs": [],
   "source": [
    "# from scipy.io import savemat\n",
    "\n",
    "# savemat('./saved/raw/Coil20.mat', mdict={'X':images_raw, 'Y':labels})\n",
    "# savemat('./saved/processed/Coil20.mat', mdict={'X':images_norm, 'Y':labels})"
   ]
  },
  {
   "cell_type": "markdown",
   "metadata": {},
   "source": [
    "## Hyperparameters"
   ]
  },
  {
   "cell_type": "code",
   "execution_count": 260,
   "metadata": {},
   "outputs": [],
   "source": [
    "lamb1 = 0.0\n",
    "lamb2 = 0.00508823385491712\n",
    "lamb3 = 0.0"
   ]
  },
  {
   "cell_type": "markdown",
   "metadata": {},
   "source": [
    "## Calculate C matrix"
   ]
  },
  {
   "cell_type": "code",
   "execution_count": null,
   "metadata": {
    "scrolled": true
   },
   "outputs": [],
   "source": [
    "import numpy as np\n",
    "import supporting_files.sda as sda\n",
    "\n",
    "from supporting_files.helpers import optimize\n",
    "from scipy.io import savemat, loadmat"
   ]
  },
  {
   "cell_type": "code",
   "execution_count": null,
   "metadata": {},
   "outputs": [],
   "source": [
    "# Matlab SSC #1\n",
    "savemat('./temp.mat', mdict={'X': images_norm})\n",
    "k = len(np.unique(labels))\n",
    "alpha = 99999.0\n",
    "maxIter = 63\n",
    "eng.SSC_modified(k, 0, False, alpha, False, 1, 1e-20, maxIter, False, 0)\n",
    "C = loadmat(\"./temp.mat\")['C']"
   ]
  },
  {
   "cell_type": "code",
   "execution_count": null,
   "metadata": {
    "scrolled": true
   },
   "outputs": [],
   "source": [
    "display_image(C[:110, :110], 110, 110)\n",
    "print(np.mean(np.square(C)))"
   ]
  },
  {
   "cell_type": "code",
   "execution_count": null,
   "metadata": {},
   "outputs": [],
   "source": [
    "fig, ax = plt.subplots(2)\n",
    "\n",
    "index = 0;\n",
    "ax[0].imshow(images_norm[index].reshape((10, 30)));\n",
    "ax[1].imshow(np.matmul(C, images_norm)[index].reshape((10, 30)));\n",
    "print(np.mean(np.square(images_norm - np.matmul(C, images_norm))))"
   ]
  },
  {
   "cell_type": "markdown",
   "metadata": {},
   "source": [
    "## Train Autoencoder"
   ]
  },
  {
   "cell_type": "code",
   "execution_count": 295,
   "metadata": {},
   "outputs": [
    {
     "data": {
      "text/plain": [
       "<module 'dsc' from 'C:\\\\Users\\\\aleks_000\\\\Desktop\\\\Mentorship\\\\!GitHub\\\\dsc.py'>"
      ]
     },
     "execution_count": 295,
     "metadata": {},
     "output_type": "execute_result"
    }
   ],
   "source": [
    "import dsc\n",
    "import importlib\n",
    "importlib.reload(dsc)"
   ]
  },
  {
   "cell_type": "code",
   "execution_count": null,
   "metadata": {
    "scrolled": true
   },
   "outputs": [],
   "source": [
    "%%time\n",
    "trainC = False\n",
    "C = None\n",
    "d = dsc.DeepSubspaceClustering(images_norm, C=C, trainC=trainC, hidden_dims=[500, 300, 500],\n",
    "                               lambda1=lamb1, lambda2=lamb2, lambda3=lamb3, weight_init='sda-normal',\n",
    "                               weight_init_params=[1000, 0.005, images_norm.shape[0], 50],\n",
    "                               optimizer='Adam', decay='sqrt', sda_optimizer='Adam', sda_decay='sqrt')"
   ]
  },
  {
   "cell_type": "code",
   "execution_count": null,
   "metadata": {},
   "outputs": [],
   "source": [
    "%%time\n",
    "d.optimizer = optimize(d.cost, 0.0001, 'Adam', 'sqrt', d.global_step)\n",
    "d.train(batch_size=images_norm.shape[0], epochs=1000, print_step=50)\n",
    "images_HM2 = d.result\n",
    "images_HM = d.reconstr\n",
    "if(trainC):\n",
    "    trained_C = np.float64(d.outC)\n",
    "else:\n",
    "    trained_C = C"
   ]
  },
  {
   "cell_type": "code",
   "execution_count": null,
   "metadata": {},
   "outputs": [],
   "source": [
    "# lambda3 - regularization on trained_C\n",
    "display_image(trained_C[:100, :100], 100, 100)"
   ]
  },
  {
   "cell_type": "code",
   "execution_count": null,
   "metadata": {},
   "outputs": [],
   "source": [
    "display_image(images_HM2[0], 15, 20)"
   ]
  },
  {
   "cell_type": "code",
   "execution_count": null,
   "metadata": {},
   "outputs": [],
   "source": [
    "# lambda1 - self-expressiveness\n",
    "display_image(np.matmul(trained_C, images_HM2)[0], 10, 15)\n",
    "print(np.mean(np.square(images_HM2 - np.matmul(trained_C, images_HM2))))"
   ]
  },
  {
   "cell_type": "code",
   "execution_count": null,
   "metadata": {},
   "outputs": [],
   "source": [
    "display_image(np.mean(images_HM2, axis=0), 10, 15)"
   ]
  },
  {
   "cell_type": "code",
   "execution_count": null,
   "metadata": {},
   "outputs": [],
   "source": [
    "display_image(np.std(images_HM2, axis=0), 10, 15)"
   ]
  },
  {
   "cell_type": "code",
   "execution_count": 324,
   "metadata": {},
   "outputs": [],
   "source": [
    "# tSNE_2D(images_HM2, labels)\n",
    "# tSNE_3D(images_HM2, labels)"
   ]
  },
  {
   "cell_type": "code",
   "execution_count": null,
   "metadata": {
    "scrolled": true
   },
   "outputs": [],
   "source": [
    "# AE Reconstruction\n",
    "fig, ax = plt.subplots(1, 2)\n",
    "\n",
    "index = 0;\n",
    "ax[0].imshow(images_norm[index].reshape((128, 128)));\n",
    "ax[1].imshow(images_HM[index].reshape((128, 128)));"
   ]
  },
  {
   "cell_type": "code",
   "execution_count": 269,
   "metadata": {},
   "outputs": [],
   "source": [
    "reconstr = pca.inverse_transform(((images_HM * (mmax - mmin)) + mmax + mmin) / 2)\n",
    "pca_reconstr = pca.inverse_transform(((images_norm * (mmax - mmin)) + mmax + mmin) / 2)"
   ]
  },
  {
   "cell_type": "code",
   "execution_count": null,
   "metadata": {},
   "outputs": [],
   "source": [
    "# AE + invPCA Reconstruction\n",
    "fig, ax = plt.subplots(1, 3)\n",
    "\n",
    "index = 0;\n",
    "ax[0].imshow(images_dsift[index].reshape((-1, 128)));\n",
    "ax[1].imshow(pca_reconstr[index].reshape((-1, 128)));\n",
    "ax[2].imshow(reconstr[index].reshape((-1, 128)));"
   ]
  },
  {
   "cell_type": "code",
   "execution_count": 271,
   "metadata": {},
   "outputs": [],
   "source": [
    "# Only for Coil20 non-dsift\n",
    "\n",
    "# from scipy.io import savemat\n",
    "\n",
    "# images_raw_duck = images_raw[720:792]\n",
    "# images_HM2_duck = images_HM2[720:792]\n",
    "# reconstr_duck = reconstr[720:792]\n",
    "# pca_duck = images_norm[720:792]\n",
    "# pca_reconstr_duck = pca_reconstr[720:792]\n",
    "# savemat(\"../!Important/figures/AE_big\", mdict={'H0': images_raw_duck, 'HM2': images_HM2_duck, 'HM': reconstr_duck,\n",
    "#                                                'PCA': pca_duck, 'PCAr': pca_reconstr_duck})"
   ]
  },
  {
   "cell_type": "code",
   "execution_count": 346,
   "metadata": {},
   "outputs": [],
   "source": [
    "# Matlab SSC #2\n",
    "k = len(np.unique(labels))\n",
    "alpha = 99999.0\n",
    "maxIter = 63\n",
    "if(not trainC):\n",
    "    savemat('./temp.mat', mdict={'X': images_HM2})\n",
    "else:\n",
    "    savemat('./temp.mat', mdict={'C': C})\n",
    "grps = eng.SSC_modified(k, 0, False, alpha, False, 1, 1e-20, maxIter, True, 0, trainC)\n",
    "C_after = loadmat(\"./temp.mat\")['C']\n",
    "labels_pred = np.asarray(grps, dtype=np.int32).flatten()"
   ]
  },
  {
   "cell_type": "code",
   "execution_count": null,
   "metadata": {},
   "outputs": [],
   "source": [
    "display_image(C_after[:100, :100], 100, 100)"
   ]
  },
  {
   "cell_type": "code",
   "execution_count": 246,
   "metadata": {},
   "outputs": [],
   "source": [
    "# tSNE_2D(images_HM2, labels_pred)\n",
    "# tSNE_3D(images_HM2, labels_pred)"
   ]
  },
  {
   "cell_type": "markdown",
   "metadata": {
    "collapsed": true
   },
   "source": [
    "## Perform clustering with SSC"
   ]
  },
  {
   "cell_type": "code",
   "execution_count": 354,
   "metadata": {},
   "outputs": [
    {
     "name": "stdout",
     "output_type": "stream",
     "text": [
      "Accuracy:  0.6097222222222223\n",
      "NMI:  0.7218195104183601\n",
      "ARI:  0.5069687480066944\n"
     ]
    }
   ],
   "source": [
    "from supporting_files.ji_zhang import err_rate\n",
    "from sklearn.metrics import normalized_mutual_info_score as nmi\n",
    "from sklearn.metrics import adjusted_rand_score as ari\n",
    "\n",
    "print(\"Accuracy: \", str(1-err_rate(labels, labels_pred)))\n",
    "print(\"NMI: \", str(nmi(labels, labels_pred, average_method=\"geometric\")))\n",
    "print(\"ARI: \", str(ari(labels, labels_pred)))"
   ]
  }
 ],
 "metadata": {
  "kernelspec": {
   "display_name": "Python 3",
   "language": "python",
   "name": "python3"
  },
  "language_info": {
   "codemirror_mode": {
    "name": "ipython",
    "version": 3
   },
   "file_extension": ".py",
   "mimetype": "text/x-python",
   "name": "python",
   "nbconvert_exporter": "python",
   "pygments_lexer": "ipython3",
   "version": "3.5.4"
  }
 },
 "nbformat": 4,
 "nbformat_minor": 2
}
